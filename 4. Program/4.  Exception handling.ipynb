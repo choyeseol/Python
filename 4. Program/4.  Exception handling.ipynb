{
 "cells": [
  {
   "cell_type": "markdown",
   "id": "a6c15282",
   "metadata": {},
   "source": [
    "# 예외처리 - (exception handling)"
   ]
  },
  {
   "cell_type": "markdown",
   "id": "bec57d67",
   "metadata": {},
   "source": [
    " "
   ]
  },
  {
   "cell_type": "markdown",
   "id": "5390f164",
   "metadata": {},
   "source": [
    " "
   ]
  },
  {
   "cell_type": "markdown",
   "id": "59488b0d",
   "metadata": {},
   "source": [
    "## 1. 오류가 발생하는 경우"
   ]
  },
  {
   "cell_type": "markdown",
   "id": "5d940f25",
   "metadata": {},
   "source": [
    "#### 1.1 존재하지 않는 파일을 사용하려고 시도할 경우"
   ]
  },
  {
   "cell_type": "code",
   "execution_count": 3,
   "id": "85089c47",
   "metadata": {},
   "outputs": [
    {
     "ename": "FileNotFoundError",
     "evalue": "[Errno 2] No such file or directory: '우헤헹'",
     "output_type": "error",
     "traceback": [
      "\u001b[1;31m---------------------------------------------------------------------------\u001b[0m",
      "\u001b[1;31mFileNotFoundError\u001b[0m                         Traceback (most recent call last)",
      "Cell \u001b[1;32mIn[3], line 1\u001b[0m\n\u001b[1;32m----> 1\u001b[0m f \u001b[38;5;241m=\u001b[39m \u001b[38;5;28mopen\u001b[39m(\u001b[38;5;124m\"\u001b[39m\u001b[38;5;124m우헤헹\u001b[39m\u001b[38;5;124m\"\u001b[39m, \u001b[38;5;124m'\u001b[39m\u001b[38;5;124mr\u001b[39m\u001b[38;5;124m'\u001b[39m)\n",
      "File \u001b[1;32mC:\\ProgramData\\anaconda3\\Lib\\site-packages\\IPython\\core\\interactiveshell.py:284\u001b[0m, in \u001b[0;36m_modified_open\u001b[1;34m(file, *args, **kwargs)\u001b[0m\n\u001b[0;32m    277\u001b[0m \u001b[38;5;28;01mif\u001b[39;00m file \u001b[38;5;129;01min\u001b[39;00m {\u001b[38;5;241m0\u001b[39m, \u001b[38;5;241m1\u001b[39m, \u001b[38;5;241m2\u001b[39m}:\n\u001b[0;32m    278\u001b[0m     \u001b[38;5;28;01mraise\u001b[39;00m \u001b[38;5;167;01mValueError\u001b[39;00m(\n\u001b[0;32m    279\u001b[0m         \u001b[38;5;124mf\u001b[39m\u001b[38;5;124m\"\u001b[39m\u001b[38;5;124mIPython won\u001b[39m\u001b[38;5;124m'\u001b[39m\u001b[38;5;124mt let you open fd=\u001b[39m\u001b[38;5;132;01m{\u001b[39;00mfile\u001b[38;5;132;01m}\u001b[39;00m\u001b[38;5;124m by default \u001b[39m\u001b[38;5;124m\"\u001b[39m\n\u001b[0;32m    280\u001b[0m         \u001b[38;5;124m\"\u001b[39m\u001b[38;5;124mas it is likely to crash IPython. If you know what you are doing, \u001b[39m\u001b[38;5;124m\"\u001b[39m\n\u001b[0;32m    281\u001b[0m         \u001b[38;5;124m\"\u001b[39m\u001b[38;5;124myou can use builtins\u001b[39m\u001b[38;5;124m'\u001b[39m\u001b[38;5;124m open.\u001b[39m\u001b[38;5;124m\"\u001b[39m\n\u001b[0;32m    282\u001b[0m     )\n\u001b[1;32m--> 284\u001b[0m \u001b[38;5;28;01mreturn\u001b[39;00m io_open(file, \u001b[38;5;241m*\u001b[39margs, \u001b[38;5;241m*\u001b[39m\u001b[38;5;241m*\u001b[39mkwargs)\n",
      "\u001b[1;31mFileNotFoundError\u001b[0m: [Errno 2] No such file or directory: '우헤헹'"
     ]
    }
   ],
   "source": [
    "f = open(\"우헤헹\", 'r')"
   ]
  },
  {
   "cell_type": "markdown",
   "id": "b5852745",
   "metadata": {},
   "source": [
    "없는 파일을 열려고 시도하면 FileNotFoundError 오류가 발생한다."
   ]
  },
  {
   "cell_type": "markdown",
   "id": "8e8ad16f",
   "metadata": {},
   "source": [
    " "
   ]
  },
  {
   "cell_type": "markdown",
   "id": "714debbc",
   "metadata": {},
   "source": [
    " "
   ]
  },
  {
   "cell_type": "markdown",
   "id": "c428e7ea",
   "metadata": {},
   "source": [
    "#### 1.2 0으로 다른 숫자를 나누는 경우"
   ]
  },
  {
   "cell_type": "code",
   "execution_count": 4,
   "id": "af797750",
   "metadata": {},
   "outputs": [
    {
     "ename": "ZeroDivisionError",
     "evalue": "division by zero",
     "output_type": "error",
     "traceback": [
      "\u001b[1;31m---------------------------------------------------------------------------\u001b[0m",
      "\u001b[1;31mZeroDivisionError\u001b[0m                         Traceback (most recent call last)",
      "Cell \u001b[1;32mIn[4], line 1\u001b[0m\n\u001b[1;32m----> 1\u001b[0m \u001b[38;5;241m1117\u001b[39m \u001b[38;5;241m/\u001b[39m \u001b[38;5;241m0\u001b[39m\n",
      "\u001b[1;31mZeroDivisionError\u001b[0m: division by zero"
     ]
    }
   ],
   "source": [
    "1117 / 0"
   ]
  },
  {
   "cell_type": "markdown",
   "id": "4e48c327",
   "metadata": {},
   "source": [
    "0으로 나누려 하면 ZeroDivisionError 오류가 발생한다."
   ]
  },
  {
   "cell_type": "markdown",
   "id": "a399b0f1",
   "metadata": {},
   "source": [
    " "
   ]
  },
  {
   "cell_type": "markdown",
   "id": "e208a0ce",
   "metadata": {},
   "source": [
    " "
   ]
  },
  {
   "cell_type": "markdown",
   "id": "e8d3b835",
   "metadata": {},
   "source": [
    "#### 1.3 잘못된 인덱싱을 했을 경우"
   ]
  },
  {
   "cell_type": "code",
   "execution_count": 6,
   "id": "81e9975b",
   "metadata": {},
   "outputs": [
    {
     "ename": "IndexError",
     "evalue": "list index out of range",
     "output_type": "error",
     "traceback": [
      "\u001b[1;31m---------------------------------------------------------------------------\u001b[0m",
      "\u001b[1;31mIndexError\u001b[0m                                Traceback (most recent call last)",
      "Cell \u001b[1;32mIn[6], line 3\u001b[0m\n\u001b[0;32m      1\u001b[0m a \u001b[38;5;241m=\u001b[39m [\u001b[38;5;241m1\u001b[39m, \u001b[38;5;241m2\u001b[39m, \u001b[38;5;241m3\u001b[39m]\n\u001b[1;32m----> 3\u001b[0m a[\u001b[38;5;241m3\u001b[39m]\n",
      "\u001b[1;31mIndexError\u001b[0m: list index out of range"
     ]
    }
   ],
   "source": [
    "a = [1, 2, 3]\n",
    "\n",
    "a[3]"
   ]
  },
  {
   "cell_type": "markdown",
   "id": "80f91064",
   "metadata": {},
   "source": [
    "a[3]은 a의 네 번째 요솟값을 가리키는데, a 리스트에는 값이 3개밖에 없으므로([1, 2, 3]) 값을 얻을 수 없다. \n",
    "\n",
    "따라서 IndexError 오류가 발생한다. "
   ]
  },
  {
   "cell_type": "markdown",
   "id": "8514db9a",
   "metadata": {},
   "source": [
    " "
   ]
  },
  {
   "cell_type": "markdown",
   "id": "d808eb50",
   "metadata": {},
   "source": [
    " "
   ]
  },
  {
   "cell_type": "markdown",
   "id": "cd345404",
   "metadata": {},
   "source": [
    " "
   ]
  },
  {
   "cell_type": "markdown",
   "id": "271586b8",
   "metadata": {},
   "source": [
    " "
   ]
  },
  {
   "cell_type": "markdown",
   "id": "77e57aa4",
   "metadata": {},
   "source": [
    " "
   ]
  },
  {
   "cell_type": "markdown",
   "id": "b6444087",
   "metadata": {},
   "source": [
    "## 2. 오류 예외 처리 기법"
   ]
  },
  {
   "cell_type": "markdown",
   "id": "821af40c",
   "metadata": {},
   "source": [
    "### 2.1 try-except 문"
   ]
  },
  {
   "cell_type": "code",
   "execution_count": null,
   "id": "634279a7",
   "metadata": {},
   "outputs": [],
   "source": [
    "try:\n",
    "    ...\n",
    "except [발생오류 [as 오류변수]]:\n",
    "    ..."
   ]
  },
  {
   "cell_type": "markdown",
   "id": "7102157e",
   "metadata": {},
   "source": [
    "try 블록 수행 중 오류가 발생하면 except 블록이 수행된다.\n",
    "\n",
    "try 블록에서 오류가 발생하지 않는다면 except 블록은 수행되지 않는다."
   ]
  },
  {
   "cell_type": "markdown",
   "id": "207a2aeb",
   "metadata": {},
   "source": [
    " "
   ]
  },
  {
   "cell_type": "markdown",
   "id": "aa312329",
   "metadata": {},
   "source": [
    " "
   ]
  },
  {
   "cell_type": "markdown",
   "id": "2c5de3ee",
   "metadata": {},
   "source": [
    "except 구문은 다음 3가지 방법으로 사용할 수 있다."
   ]
  },
  {
   "cell_type": "markdown",
   "id": "3bf53b8b",
   "metadata": {},
   "source": [
    "- try-except만 쓰는 방법"
   ]
  },
  {
   "cell_type": "code",
   "execution_count": null,
   "id": "aadff51b",
   "metadata": {},
   "outputs": [],
   "source": [
    "try:\n",
    "    ...\n",
    "except:\n",
    "    ..."
   ]
  },
  {
   "cell_type": "markdown",
   "id": "16d3c711",
   "metadata": {},
   "source": [
    "오류의 종류에 상관없이 오류가 발생하면 except 블록을 수행한다."
   ]
  },
  {
   "cell_type": "markdown",
   "id": "532fa37a",
   "metadata": {},
   "source": [
    " "
   ]
  },
  {
   "cell_type": "markdown",
   "id": "a51cc830",
   "metadata": {},
   "source": [
    "- 발생 오류만 포함한 except 문"
   ]
  },
  {
   "cell_type": "code",
   "execution_count": null,
   "id": "24f7f1e5",
   "metadata": {},
   "outputs": [],
   "source": [
    "try:\n",
    "    ...\n",
    "except 발생오류:\n",
    "    ...\n"
   ]
  },
  {
   "cell_type": "markdown",
   "id": "b1c5f697",
   "metadata": {},
   "source": [
    "오류가 발생했을 때 except 문에 미리 정해 놓은 오류와 동일한 오류일 경우에만 except 블록을 수행한다는 뜻이다."
   ]
  },
  {
   "cell_type": "markdown",
   "id": "e4f3affb",
   "metadata": {},
   "source": [
    " "
   ]
  },
  {
   "cell_type": "markdown",
   "id": "d6679de1",
   "metadata": {},
   "source": [
    "- 발생 오류와 오류 변수까지 포함한 except 문"
   ]
  },
  {
   "cell_type": "code",
   "execution_count": null,
   "id": "93cdba6f",
   "metadata": {},
   "outputs": [],
   "source": [
    "try:\n",
    "    ...\n",
    "except 발생오류 as 오류변수:\n",
    "    ...\n"
   ]
  },
  {
   "cell_type": "markdown",
   "id": "1be0690b",
   "metadata": {},
   "source": [
    "두 번째 경우에서 오류의 내용까지 알고 싶을 때 사용하는 방법이다."
   ]
  },
  {
   "cell_type": "markdown",
   "id": "395906b2",
   "metadata": {},
   "source": [
    " "
   ]
  },
  {
   "cell_type": "markdown",
   "id": "a2a6f0e4",
   "metadata": {},
   "source": [
    " "
   ]
  },
  {
   "cell_type": "markdown",
   "id": "029d2fe4",
   "metadata": {},
   "source": [
    " "
   ]
  },
  {
   "cell_type": "markdown",
   "id": "dba49a0a",
   "metadata": {},
   "source": [
    "TEST"
   ]
  },
  {
   "cell_type": "code",
   "execution_count": 8,
   "id": "b8d3a56a",
   "metadata": {},
   "outputs": [
    {
     "name": "stdout",
     "output_type": "stream",
     "text": [
      "없는 파일\n"
     ]
    }
   ],
   "source": [
    "try:\n",
    "    f = open(\"오잉?\", 'r')\n",
    "except:\n",
    "    print('없는 파일')"
   ]
  },
  {
   "cell_type": "code",
   "execution_count": 14,
   "id": "9b6fa374",
   "metadata": {},
   "outputs": [
    {
     "name": "stdout",
     "output_type": "stream",
     "text": [
      "없는 파일\n"
     ]
    }
   ],
   "source": [
    "try:\n",
    "    f = open(\"오잉?\", 'r')\n",
    "except FileNotFoundError:\n",
    "    print('없는 파일')\n",
    "except OSError:\n",
    "    print('없는 파일')"
   ]
  },
  {
   "cell_type": "code",
   "execution_count": 15,
   "id": "2418754e",
   "metadata": {},
   "outputs": [
    {
     "name": "stdout",
     "output_type": "stream",
     "text": [
      "없는 인덱스 번호\n"
     ]
    }
   ],
   "source": [
    "try:\n",
    "    a = [1, 2, 3]\n",
    "\n",
    "    a[3]\n",
    "    \n",
    "except:\n",
    "    print('없는 인덱스 번호')"
   ]
  },
  {
   "cell_type": "code",
   "execution_count": 17,
   "id": "ff1d5c58",
   "metadata": {},
   "outputs": [
    {
     "name": "stdout",
     "output_type": "stream",
     "text": [
      "없는 인덱스 번호\n"
     ]
    }
   ],
   "source": [
    "try:\n",
    "    a = [1, 2, 3]\n",
    "\n",
    "    a[3]\n",
    "    \n",
    "except IndexError:\n",
    "    print('없는 인덱스 번호')"
   ]
  },
  {
   "cell_type": "markdown",
   "id": "9484cfac",
   "metadata": {},
   "source": [
    " "
   ]
  },
  {
   "cell_type": "markdown",
   "id": "d9862b84",
   "metadata": {},
   "source": [
    " "
   ]
  },
  {
   "cell_type": "markdown",
   "id": "952741f9",
   "metadata": {},
   "source": [
    " "
   ]
  },
  {
   "cell_type": "markdown",
   "id": "d603f417",
   "metadata": {},
   "source": [
    " "
   ]
  },
  {
   "cell_type": "markdown",
   "id": "b11dec3a",
   "metadata": {},
   "source": [
    "### 2.2 try-finally 문"
   ]
  },
  {
   "cell_type": "markdown",
   "id": "fe148bd0",
   "metadata": {},
   "source": [
    "try 문에는 finally 절을 사용할 수 있다. \n",
    "\n",
    "finally 절은 try 문 수행 도중 예외 발생 여부에 상관없이 항상 수행된다.  \n",
    "보통 finally 절은 사용한 리소스를 close해야 할 때 많이 사용한다."
   ]
  },
  {
   "cell_type": "code",
   "execution_count": 20,
   "id": "2d15fcba",
   "metadata": {},
   "outputs": [],
   "source": [
    "try:\n",
    "    f = open('우하하', 'w')\n",
    "    # 무언가를 수행한다.\n",
    "\n",
    "    #(... 생략 ...)\n",
    "\n",
    "finally:\n",
    "    f.close()  # 중간에 오류가 발생하더라도 무조건 실행된다."
   ]
  },
  {
   "cell_type": "markdown",
   "id": "663904a0",
   "metadata": {},
   "source": [
    "'우하하' 파일을 쓰기 모드로 연 후 예외 발생 여부에 상관없이 항상 파일을 닫아 주려면 try-finally 문을 사용하면 된다."
   ]
  },
  {
   "cell_type": "markdown",
   "id": "27057622",
   "metadata": {},
   "source": [
    " "
   ]
  },
  {
   "cell_type": "markdown",
   "id": "68d437e7",
   "metadata": {},
   "source": [
    " "
   ]
  },
  {
   "cell_type": "markdown",
   "id": "305c8a00",
   "metadata": {},
   "source": [
    " "
   ]
  },
  {
   "cell_type": "markdown",
   "id": "041820e9",
   "metadata": {},
   "source": [
    " "
   ]
  },
  {
   "cell_type": "markdown",
   "id": "0fca6a64",
   "metadata": {},
   "source": [
    " "
   ]
  },
  {
   "cell_type": "markdown",
   "id": "77b51e42",
   "metadata": {},
   "source": [
    "### 2.3 여러 개의 오류 처리하기"
   ]
  },
  {
   "cell_type": "code",
   "execution_count": null,
   "id": "eeb72d1c",
   "metadata": {},
   "outputs": [],
   "source": [
    "try:\n",
    "    ...\n",
    "except 발생오류1:\n",
    "   ... \n",
    "except 발생오류2:\n",
    "   ..."
   ]
  },
  {
   "cell_type": "code",
   "execution_count": 21,
   "id": "2f247636",
   "metadata": {},
   "outputs": [
    {
     "name": "stdout",
     "output_type": "stream",
     "text": [
      "없는 인덱싱 번호\n"
     ]
    }
   ],
   "source": [
    "try:\n",
    "    a = [1,2]\n",
    "    \n",
    "    print(a[3])\n",
    "    \n",
    "    1117/0\n",
    "    \n",
    "except ZeroDivisionError:\n",
    "    print(\"나누기 불가\")\n",
    "    \n",
    "except IndexError:\n",
    "    print(\"없는 인덱싱 번호\")"
   ]
  },
  {
   "cell_type": "markdown",
   "id": "f9b79e78",
   "metadata": {},
   "source": [
    "인덱싱 오류가 먼저 발생했으므로 나눗셈에 따른 Zero DivisionError 오류는 발생하지 않는다."
   ]
  },
  {
   "cell_type": "markdown",
   "id": "1db05151",
   "metadata": {},
   "source": [
    " "
   ]
  },
  {
   "cell_type": "markdown",
   "id": "2a27c82f",
   "metadata": {},
   "source": [
    "ZerroDivisionError와 IndexError를 함께 처리할 수도 있다."
   ]
  },
  {
   "cell_type": "code",
   "execution_count": 22,
   "id": "a43293cb",
   "metadata": {},
   "outputs": [
    {
     "name": "stdout",
     "output_type": "stream",
     "text": [
      "list index out of range\n"
     ]
    }
   ],
   "source": [
    "try:\n",
    "    a = [1,2]\n",
    "    \n",
    "    print(a[3])\n",
    "    \n",
    "    1117/0\n",
    "    \n",
    "except (ZeroDivisionError, IndexError) as e:\n",
    "    print(e)"
   ]
  },
  {
   "cell_type": "markdown",
   "id": "01a6181f",
   "metadata": {},
   "source": [
    " "
   ]
  },
  {
   "cell_type": "markdown",
   "id": "b8eb89b4",
   "metadata": {},
   "source": [
    " "
   ]
  },
  {
   "cell_type": "markdown",
   "id": "f1be74ed",
   "metadata": {},
   "source": [
    " "
   ]
  },
  {
   "cell_type": "markdown",
   "id": "fa1a8a51",
   "metadata": {},
   "source": [
    " "
   ]
  },
  {
   "cell_type": "markdown",
   "id": "e6866ca3",
   "metadata": {},
   "source": [
    " "
   ]
  },
  {
   "cell_type": "markdown",
   "id": "fb1b5f4a",
   "metadata": {},
   "source": [
    "### 2.4 try-else 문"
   ]
  },
  {
   "cell_type": "code",
   "execution_count": null,
   "id": "d7acc8e6",
   "metadata": {},
   "outputs": [],
   "source": [
    "try:\n",
    "    ...\n",
    "except [발생오류 [as 오류변수]]:\n",
    "    ...\n",
    "else:  # 오류가 없을 경우에만 수행\n",
    "    ..."
   ]
  },
  {
   "cell_type": "markdown",
   "id": "19ffd1b5",
   "metadata": {},
   "source": [
    "try 문 수행 중 오류가 발생하면 except 절, 오류가 발생하지 않으면 else 절이 수행된다."
   ]
  },
  {
   "cell_type": "code",
   "execution_count": 24,
   "id": "5f532488",
   "metadata": {},
   "outputs": [
    {
     "name": "stdout",
     "output_type": "stream",
     "text": [
      "숫자를 입력하세요: 웅왕\n",
      "입력 오류\n"
     ]
    }
   ],
   "source": [
    "try:\n",
    "    num =int(input('숫자를 입력하세요: '))\n",
    "    \n",
    "except:\n",
    "    print('입력 오류')\n",
    "    \n",
    "else:\n",
    "    if num <= 5:\n",
    "        print('땡')\n",
    "        \n",
    "    else:\n",
    "        print('굿')"
   ]
  },
  {
   "cell_type": "code",
   "execution_count": 25,
   "id": "af9f0aa5",
   "metadata": {},
   "outputs": [
    {
     "name": "stdout",
     "output_type": "stream",
     "text": [
      "숫자를 입력하세요: 7\n",
      "굿\n"
     ]
    }
   ],
   "source": [
    "try:\n",
    "    num =int(input('숫자를 입력하세요: '))\n",
    "    \n",
    "except:\n",
    "    print('입력 오류')\n",
    "    \n",
    "else:\n",
    "    if num <= 5:\n",
    "        print('땡')\n",
    "        \n",
    "    else:\n",
    "        print('굿')"
   ]
  },
  {
   "cell_type": "markdown",
   "id": "428c550d",
   "metadata": {},
   "source": [
    " "
   ]
  },
  {
   "cell_type": "markdown",
   "id": "dd40da26",
   "metadata": {},
   "source": [
    " "
   ]
  },
  {
   "cell_type": "markdown",
   "id": "8eda6f44",
   "metadata": {},
   "source": [
    " "
   ]
  },
  {
   "cell_type": "markdown",
   "id": "edf1fdf2",
   "metadata": {},
   "source": [
    " "
   ]
  },
  {
   "cell_type": "markdown",
   "id": "7d324c71",
   "metadata": {},
   "source": [
    " "
   ]
  },
  {
   "cell_type": "markdown",
   "id": "09146c51",
   "metadata": {},
   "source": [
    "## 3. 오류 회피하기"
   ]
  },
  {
   "cell_type": "code",
   "execution_count": 26,
   "id": "9d3352a8",
   "metadata": {},
   "outputs": [],
   "source": [
    "try:\n",
    "    f = open(\"응앙\", 'r')\n",
    "    \n",
    "except FileNotFoundError:\n",
    "    pass"
   ]
  },
  {
   "cell_type": "markdown",
   "id": "e4ed0219",
   "metadata": {},
   "source": [
    "try 문 안에서 FileNotFoundError가 발생하여도, pass를 사용하여 오류를 그냥 회피할 수 있도록 했다."
   ]
  },
  {
   "cell_type": "markdown",
   "id": "aaf459e5",
   "metadata": {},
   "source": [
    " "
   ]
  },
  {
   "cell_type": "markdown",
   "id": "f09c57a7",
   "metadata": {},
   "source": [
    " "
   ]
  },
  {
   "cell_type": "markdown",
   "id": "ce5f98f6",
   "metadata": {},
   "source": [
    " "
   ]
  },
  {
   "cell_type": "markdown",
   "id": "0dfb4ad9",
   "metadata": {},
   "source": [
    " "
   ]
  },
  {
   "cell_type": "markdown",
   "id": "d5300aa2",
   "metadata": {},
   "source": [
    " "
   ]
  },
  {
   "cell_type": "markdown",
   "id": "d4d5cd09",
   "metadata": {},
   "source": [
    "## 4. 오류 발생시키기"
   ]
  },
  {
   "cell_type": "markdown",
   "id": "655de7dd",
   "metadata": {},
   "source": [
    "raise 명령어를 사용해 오류를 강제로 발생시킬 수 있다."
   ]
  },
  {
   "cell_type": "code",
   "execution_count": 31,
   "id": "638bc145",
   "metadata": {},
   "outputs": [
    {
     "name": "stdout",
     "output_type": "stream",
     "text": [
      "3의 배수: 6\n",
      "6\n"
     ]
    }
   ],
   "source": [
    "try:\n",
    "    a = int(input('3의 배수: '))\n",
    "    \n",
    "    if a % 3 != 0:\n",
    "        raise Exception('3의 배수가 아닙니다.') \n",
    "        # x가 3의 배수가 아니면 예외를 발생시킴\n",
    "        \n",
    "    print(a)\n",
    "    \n",
    "except Exception as e:\n",
    "    \n",
    "    # 예외가 발생했을 때 실행됨\n",
    "    print('예외 발생', e)"
   ]
  },
  {
   "cell_type": "code",
   "execution_count": 30,
   "id": "f1331a1f",
   "metadata": {},
   "outputs": [
    {
     "name": "stdout",
     "output_type": "stream",
     "text": [
      "3의 배수: 2\n",
      "예외 발생 3의 배수가 아닙니다.\n"
     ]
    }
   ],
   "source": [
    "try:\n",
    "    a = int(input('3의 배수: '))\n",
    "    \n",
    "    if a % 3 != 0:\n",
    "        raise Exception('3의 배수가 아닙니다.') \n",
    "        # x가 3의 배수가 아니면 예외를 발생시킴\n",
    "        \n",
    "    print(a)\n",
    "    \n",
    "except Exception as e:\n",
    "    \n",
    "    # 예외가 발생했을 때 실행됨\n",
    "    print('예외 발생', e)"
   ]
  }
 ],
 "metadata": {
  "kernelspec": {
   "display_name": "Python 3 (ipykernel)",
   "language": "python",
   "name": "python3"
  },
  "language_info": {
   "codemirror_mode": {
    "name": "ipython",
    "version": 3
   },
   "file_extension": ".py",
   "mimetype": "text/x-python",
   "name": "python",
   "nbconvert_exporter": "python",
   "pygments_lexer": "ipython3",
   "version": "3.11.3"
  }
 },
 "nbformat": 4,
 "nbformat_minor": 5
}
