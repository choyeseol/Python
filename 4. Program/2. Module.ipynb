{
 "cells": [
  {
   "cell_type": "markdown",
   "id": "c1692190",
   "metadata": {},
   "source": [
    "# 모듈 - (module)"
   ]
  },
  {
   "cell_type": "markdown",
   "id": "59bb679f",
   "metadata": {},
   "source": [
    "모듈은 두가지 방법으로 불러올 수 있다."
   ]
  },
  {
   "cell_type": "code",
   "execution_count": null,
   "id": "21bfc848",
   "metadata": {},
   "outputs": [],
   "source": [
    "1. import 모듈_이름\n",
    "2, from 모듈_이름 import 모듈_함수"
   ]
  },
  {
   "cell_type": "markdown",
   "id": "0f7b2e7e",
   "metadata": {},
   "source": [
    "2번째 방법에서 여러개의 함수를 불러오고 싶다면"
   ]
  },
  {
   "cell_type": "code",
   "execution_count": 3,
   "id": "0dc31169",
   "metadata": {},
   "outputs": [
    {
     "ename": "SyntaxError",
     "evalue": "invalid syntax (3861478512.py, line 1)",
     "output_type": "error",
     "traceback": [
      "\u001b[1;36m  Cell \u001b[1;32mIn[3], line 1\u001b[1;36m\u001b[0m\n\u001b[1;33m    from 모듈_이름 import 모듈_함수 1, 모듈_함수 2\u001b[0m\n\u001b[1;37m                            ^\u001b[0m\n\u001b[1;31mSyntaxError\u001b[0m\u001b[1;31m:\u001b[0m invalid syntax\n"
     ]
    }
   ],
   "source": [
    "from 모듈_이름 import 모듈_함수 1, 모듈_함수 2"
   ]
  },
  {
   "cell_type": "code",
   "execution_count": null,
   "id": "84cc71e8",
   "metadata": {},
   "outputs": [],
   "source": [
    "from 모듈_이름 import 모듈_함수 1, 모듈_함수 2"
   ]
  },
  {
   "cell_type": "markdown",
   "id": "7acda30e",
   "metadata": {},
   "source": [
    "혹은"
   ]
  },
  {
   "cell_type": "code",
   "execution_count": null,
   "id": "5cda66bc",
   "metadata": {},
   "outputs": [],
   "source": [
    "from 모듈_이름 import *"
   ]
  },
  {
   "cell_type": "markdown",
   "id": "0bc7fca1",
   "metadata": {},
   "source": [
    "와 같이 불러올 수 있다."
   ]
  },
  {
   "cell_type": "markdown",
   "id": "257a7ce0",
   "metadata": {},
   "source": [
    " "
   ]
  },
  {
   "cell_type": "markdown",
   "id": "9b4556aa",
   "metadata": {},
   "source": [
    "만약 파일에서 모듈을 불러오고 싶다면,"
   ]
  },
  {
   "cell_type": "code",
   "execution_count": null,
   "id": "290bc02d",
   "metadata": {},
   "outputs": [],
   "source": [
    "import 파일명 파일명.함수()\n",
    "\n",
    "from 파일명 import 함수명 함수명()"
   ]
  },
  {
   "cell_type": "markdown",
   "id": "6db99f15",
   "metadata": {},
   "source": [
    " "
   ]
  },
  {
   "cell_type": "markdown",
   "id": "9def72b7",
   "metadata": {},
   "source": [
    " "
   ]
  },
  {
   "cell_type": "markdown",
   "id": "f3d887ac",
   "metadata": {},
   "source": [
    " "
   ]
  },
  {
   "cell_type": "markdown",
   "id": "a9c6546e",
   "metadata": {},
   "source": [
    " "
   ]
  },
  {
   "cell_type": "markdown",
   "id": "11bdde92",
   "metadata": {},
   "source": [
    "## 1. if __name__ == \"__main__\":"
   ]
  },
  {
   "cell_type": "markdown",
   "id": "f72075cb",
   "metadata": {},
   "source": [
    "if __name__ == \"__main__\"을 사용하면 직접 파일을 실행했을 때는 __name__ == \"__main__\"이 참이 되어 if 문 다음 문장이 수행한다. \n",
    "\n",
    "이와 반대로 대화형 인터프리터나 다른 파일에서 이 모듈을 불러 사용할 때는 __name__ == \"__main__\"이 거짓이 되어 if 문 다음 문장이 수행되지 않는다."
   ]
  },
  {
   "cell_type": "markdown",
   "id": "043b9531",
   "metadata": {},
   "source": [
    " "
   ]
  },
  {
   "cell_type": "markdown",
   "id": "e8d50e0a",
   "metadata": {},
   "source": [
    "예를 들어"
   ]
  },
  {
   "cell_type": "code",
   "execution_count": 8,
   "id": "15085bca",
   "metadata": {},
   "outputs": [
    {
     "name": "stdout",
     "output_type": "stream",
     "text": [
      "5\n",
      "2\n"
     ]
    }
   ],
   "source": [
    "def add(a, b): \n",
    "    return a+b\n",
    "\n",
    "def sub(a, b): \n",
    "    return a - b\n",
    "\n",
    "print(add(1, 4))\n",
    "print(sub(4, 2))"
   ]
  },
  {
   "cell_type": "markdown",
   "id": "548c2165",
   "metadata": {},
   "source": [
    "위의 코드에서 add와 sub 함수만을 모듈로 가져와 사용하고 싶을 때,\n",
    "\n",
    "'import 모듈'로 실행시키면 print문까지 가져와진다.\n",
    "이를 방지하기 위해 print문 위에 'if name == \"main\"'을 적어준다면\n",
    "\n",
    "대화형 인터프리터나 다른 파일에서 이 모듈을 불러 사용할 때에는 if문이 거짓이 되어 print문을 실행되지 않는다."
   ]
  },
  {
   "cell_type": "code",
   "execution_count": 10,
   "id": "f9b48b52",
   "metadata": {},
   "outputs": [
    {
     "name": "stdout",
     "output_type": "stream",
     "text": [
      "5\n",
      "2\n"
     ]
    }
   ],
   "source": [
    "def add(a, b): \n",
    "    return a+b\n",
    "\n",
    "def sub(a, b): \n",
    "    return a-b\n",
    "\n",
    "if __name__ == \"__main__\":\n",
    "    print(add(1, 4))\n",
    "    print(sub(4, 2))\n"
   ]
  },
  {
   "cell_type": "markdown",
   "id": "86c916eb",
   "metadata": {},
   "source": [
    " "
   ]
  },
  {
   "cell_type": "markdown",
   "id": "3204b81c",
   "metadata": {},
   "source": [
    " "
   ]
  },
  {
   "cell_type": "markdown",
   "id": "13daaf85",
   "metadata": {},
   "source": [
    "#### 1.1 __name__ 변수란?"
   ]
  },
  {
   "cell_type": "markdown",
   "id": "e635ed6a",
   "metadata": {},
   "source": [
    "파이썬의 __name__ 변수는 파이썬이 내부적으로 사용하는 특별한 변수 이름이다. \n",
    "\n",
    "직접 파일을 실행할 경우, 파일의 __name__ 변수에는 __main__ 값이 저장된다.  \n",
    "하지만 파이썬 셸이나 다른 파이썬 모듈에서 파일을 import할 경우에는 파일명.py의 __name__ 변수에 파일명.py의 모듈 이름이 저장된다."
   ]
  },
  {
   "cell_type": "markdown",
   "id": "939c2ebc",
   "metadata": {},
   "source": [
    " "
   ]
  },
  {
   "cell_type": "markdown",
   "id": "ca2d7aeb",
   "metadata": {},
   "source": [
    " "
   ]
  },
  {
   "cell_type": "markdown",
   "id": "476abf9f",
   "metadata": {},
   "source": [
    " "
   ]
  },
  {
   "cell_type": "markdown",
   "id": "e6158c81",
   "metadata": {},
   "source": [
    " "
   ]
  },
  {
   "cell_type": "markdown",
   "id": "58307621",
   "metadata": {},
   "source": [
    "## 2. 클래스나 변수 등을 포함한 모듈"
   ]
  },
  {
   "cell_type": "code",
   "execution_count": null,
   "id": "196597b6",
   "metadata": {},
   "outputs": [],
   "source": [
    "PI = 3.141592\n",
    "\n",
    "class Math: \n",
    "    def solv(self, r): \n",
    "        return PI * (r ** 2) \n",
    "\n",
    "def add(a, b): \n",
    "    return a+b "
   ]
  },
  {
   "cell_type": "markdown",
   "id": "44d02dbf",
   "metadata": {},
   "source": [
    "파일명.PI를 입력해 PI 변수의 값을 사용할 수 있다.\n",
    "\n",
    "import 모듈명  \n",
    "print(모듈명.PI)"
   ]
  },
  {
   "cell_type": "code",
   "execution_count": null,
   "id": "7831c530",
   "metadata": {},
   "outputs": [],
   "source": [
    "a = 모듈.Math()\n",
    "\n",
    "print(a.solv(2))\n",
    "print(모듈.add(모듈.PI, 4.4))"
   ]
  },
  {
   "cell_type": "markdown",
   "id": "8c58f939",
   "metadata": {},
   "source": [
    " "
   ]
  },
  {
   "cell_type": "markdown",
   "id": "738213d5",
   "metadata": {},
   "source": [
    " "
   ]
  },
  {
   "cell_type": "markdown",
   "id": "fcc6158f",
   "metadata": {},
   "source": [
    " "
   ]
  },
  {
   "cell_type": "markdown",
   "id": "616fab26",
   "metadata": {},
   "source": [
    " "
   ]
  },
  {
   "cell_type": "markdown",
   "id": "88e21122",
   "metadata": {},
   "source": [
    "## 3. 다른 파일에서 모듈 불러오기"
   ]
  },
  {
   "cell_type": "code",
   "execution_count": null,
   "id": "ea9180b8",
   "metadata": {},
   "outputs": [],
   "source": [
    "import 모듈\n",
    "result = 모듈.함수()\n",
    "print(result)"
   ]
  },
  {
   "cell_type": "markdown",
   "id": "e2c32655",
   "metadata": {},
   "source": [
    " "
   ]
  },
  {
   "cell_type": "markdown",
   "id": "94e613ea",
   "metadata": {},
   "source": [
    " "
   ]
  },
  {
   "cell_type": "markdown",
   "id": "b03929d0",
   "metadata": {},
   "source": [
    " "
   ]
  },
  {
   "cell_type": "markdown",
   "id": "d53e3b40",
   "metadata": {},
   "source": [
    " "
   ]
  },
  {
   "cell_type": "markdown",
   "id": "a6707d43",
   "metadata": {},
   "source": [
    "## 4. 다른 디렉터리의 모듈 불러오기"
   ]
  },
  {
   "cell_type": "markdown",
   "id": "35b522a6",
   "metadata": {},
   "source": [
    "#### 4.1 sys.path.append 사용하기"
   ]
  },
  {
   "cell_type": "code",
   "execution_count": 14,
   "id": "96268aac",
   "metadata": {},
   "outputs": [],
   "source": [
    "import sys #파이썬 셸을 실행 후 sys 모듈 불러오기"
   ]
  },
  {
   "cell_type": "code",
   "execution_count": 16,
   "id": "5f6dd863",
   "metadata": {},
   "outputs": [
    {
     "data": {
      "text/plain": [
       "['C:\\\\Users\\\\choye\\\\OneDrive\\\\Python\\\\4. Program',\n",
       " 'C:\\\\ProgramData\\\\anaconda3\\\\python311.zip',\n",
       " 'C:\\\\ProgramData\\\\anaconda3\\\\DLLs',\n",
       " 'C:\\\\ProgramData\\\\anaconda3\\\\Lib',\n",
       " 'C:\\\\ProgramData\\\\anaconda3',\n",
       " '',\n",
       " 'C:\\\\ProgramData\\\\anaconda3\\\\Lib\\\\site-packages',\n",
       " 'C:\\\\ProgramData\\\\anaconda3\\\\Lib\\\\site-packages\\\\win32',\n",
       " 'C:\\\\ProgramData\\\\anaconda3\\\\Lib\\\\site-packages\\\\win32\\\\lib',\n",
       " 'C:\\\\ProgramData\\\\anaconda3\\\\Lib\\\\site-packages\\\\Pythonwin']"
      ]
     },
     "execution_count": 16,
     "metadata": {},
     "output_type": "execute_result"
    }
   ],
   "source": [
    "sys.path"
   ]
  },
  {
   "cell_type": "markdown",
   "id": "2008efd5",
   "metadata": {},
   "source": [
    "sys.path는 파이썬 라이브러리가 설치되어 있는 디렉터리 목록을 보여 준다.\n",
    "\n",
    "이 디렉터리 안에 저장된 파이썬 모듈은 모듈이 저장된 디렉터리로 이동할 필요 없이 바로 불러 사용할 수 있다."
   ]
  },
  {
   "cell_type": "code",
   "execution_count": null,
   "id": "adbfea22",
   "metadata": {},
   "outputs": [],
   "source": [
    "sys.path.append(\"C:/@/@\")\n",
    "\n",
    "sys.path"
   ]
  },
  {
   "cell_type": "markdown",
   "id": "6f0f3b4d",
   "metadata": {},
   "source": [
    " "
   ]
  },
  {
   "cell_type": "markdown",
   "id": "ab25a8be",
   "metadata": {},
   "source": [
    " "
   ]
  },
  {
   "cell_type": "markdown",
   "id": "30620b72",
   "metadata": {},
   "source": [
    " "
   ]
  },
  {
   "cell_type": "markdown",
   "id": "b1f512d6",
   "metadata": {},
   "source": [
    "#### 4.2 PYTHONPATH 환경 변수 사용하기"
   ]
  },
  {
   "cell_type": "markdown",
   "id": "71307d43",
   "metadata": {},
   "source": [
    "모듈을 불러와서 사용하는 또 다른 방법으로는 PYTHONPATH 환경 변수를 사용하는 것이 있다."
   ]
  },
  {
   "cell_type": "code",
   "execution_count": null,
   "id": "c9d78037",
   "metadata": {},
   "outputs": [],
   "source": [
    "import 모듈\n",
    "\n",
    "print(모듈.함수())"
   ]
  },
  {
   "cell_type": "markdown",
   "id": "c1ac6a0b",
   "metadata": {},
   "source": [
    "set 명령어를 사용해 PYTHONPATH 환경 변수에 파일이 있는 디렉터리를 설정한다.  \n",
    "\n",
    "그러면 디렉터리 이동이나 별도의 모듈 추가 작업 없이 디렉터리에 저장된 모듈을 불러와서 사용할 수 있다."
   ]
  }
 ],
 "metadata": {
  "kernelspec": {
   "display_name": "Python 3 (ipykernel)",
   "language": "python",
   "name": "python3"
  },
  "language_info": {
   "codemirror_mode": {
    "name": "ipython",
    "version": 3
   },
   "file_extension": ".py",
   "mimetype": "text/x-python",
   "name": "python",
   "nbconvert_exporter": "python",
   "pygments_lexer": "ipython3",
   "version": "3.11.3"
  }
 },
 "nbformat": 4,
 "nbformat_minor": 5
}
