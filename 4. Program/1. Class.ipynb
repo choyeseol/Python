{
 "cells": [
  {
   "cell_type": "markdown",
   "id": "41019131",
   "metadata": {},
   "source": [
    "# 클래스 - (class)"
   ]
  },
  {
   "cell_type": "markdown",
   "id": "4054bdc6",
   "metadata": {},
   "source": [
    "클래스를 사용하면 훨씬 직관적이고 짧게 코드를 짤 수 있고, 객체가 가지는 속성(attribute)들도 각 객체별로 따로 관리할 수 있다. \n",
    "\n",
    "또한, 나중에 코드를 수정 해야 할 때도 코드 전반에 거쳐 수정할 필요 없이 필요한 부분만 수정하면 된다."
   ]
  },
  {
   "cell_type": "code",
   "execution_count": 7,
   "id": "4e0e055a",
   "metadata": {},
   "outputs": [],
   "source": [
    "class FourCal:\n",
    "    \n",
    "    # 생성자\n",
    "    # 생성자(constructor)란 객체가 생성될 때 자동으로 호출되는 메서드를 의미한다. \n",
    "    # 파이썬 메서드명으로 __init__를 사용하면 이 메서드는 생성자가 된다.\n",
    "    # 객체를 초기화하거나 초깃값을 설정하는데 유용하게 사용된다.    \n",
    "    \n",
    "    def __init__(self):\n",
    "        self.first = int(input('first number : '))\n",
    "        self.second = int(input('second number : '))\n",
    "        \n",
    "#     def setdata(self, first, second):\n",
    "#         self.first = first\n",
    "#         self.second = second\n",
    "\n",
    "#    def 함수_이름(매개변수):\n",
    "#        수행할_문장\n",
    "    \n",
    "    def add(self):\n",
    "        result = self.first + self.second\n",
    "        return result\n",
    "    \n",
    "    def sub(self):\n",
    "        result = self.first - self.second\n",
    "        return result\n",
    "    \n",
    "    def mul(self):\n",
    "        result = self.first * self.second\n",
    "        return result\n",
    "    \n",
    "    def div(self):\n",
    "        result = self.first / self.second\n",
    "        return result\n",
    "    \n",
    "    def div2(self):\n",
    "        result = self.first % self.second\n",
    "        return result"
   ]
  },
  {
   "cell_type": "markdown",
   "id": "5903699d",
   "metadata": {},
   "source": [
    " "
   ]
  },
  {
   "cell_type": "markdown",
   "id": "ac7c3d11",
   "metadata": {},
   "source": [
    "#### 클래스의 상속"
   ]
  },
  {
   "cell_type": "markdown",
   "id": "7b9890a6",
   "metadata": {},
   "source": [
    "상속은 기존 클래스를 변경하지 않고 기능을 추가하거나 기존 기능을 변경할 때 사용한다.\n",
    "\n",
    "기존 클래스가 라이브러리 형태로 제공되거나 수정이 허용되지 않는 상황이라면 상속을 사용해야 한다."
   ]
  },
  {
   "cell_type": "code",
   "execution_count": null,
   "id": "b74a3796",
   "metadata": {},
   "outputs": [],
   "source": [
    "class 클래스_이름(상속할_클래스_이름)"
   ]
  },
  {
   "cell_type": "markdown",
   "id": "bb214462",
   "metadata": {},
   "source": [
    " "
   ]
  },
  {
   "cell_type": "code",
   "execution_count": 8,
   "id": "9b237798",
   "metadata": {},
   "outputs": [],
   "source": [
    "class MoreFourCal(FourCal): # 이 부분 주의\n",
    "    def pow(self):\n",
    "        result = self.first ** self.second\n",
    "        return result"
   ]
  },
  {
   "cell_type": "code",
   "execution_count": 10,
   "id": "096535f8",
   "metadata": {
    "scrolled": true
   },
   "outputs": [
    {
     "name": "stdout",
     "output_type": "stream",
     "text": [
      "first number : 10\n",
      "second number : 2\n",
      "12\n",
      "8\n",
      "20\n",
      "5.0\n",
      "0\n",
      "100\n"
     ]
    }
   ],
   "source": [
    "a = MoreFourCal()\n",
    "\n",
    "print(a.add())\n",
    "print(a.sub())\n",
    "print(a.mul())\n",
    "print(a.div())\n",
    "print(a.div2())\n",
    "print(a.pow())"
   ]
  },
  {
   "cell_type": "code",
   "execution_count": 36,
   "id": "1641f954",
   "metadata": {
    "scrolled": true
   },
   "outputs": [
    {
     "name": "stdout",
     "output_type": "stream",
     "text": [
      "first number : 10\n",
      "second number : 2\n",
      "12\n",
      "8\n",
      "20\n",
      "5.0\n",
      "0\n",
      "100\n"
     ]
    }
   ],
   "source": [
    "a = MoreFourCal()\n",
    "\n",
    "print(a.add())\n",
    "print(a.sub())\n",
    "print(a.mul())\n",
    "print(a.div())\n",
    "print(a.div2())\n",
    "print(a.pow())"
   ]
  },
  {
   "cell_type": "markdown",
   "id": "14ccaf52",
   "metadata": {},
   "source": [
    " "
   ]
  },
  {
   "cell_type": "markdown",
   "id": "c9d22e3a",
   "metadata": {},
   "source": [
    "#### 메서드 오버라이딩"
   ]
  },
  {
   "cell_type": "markdown",
   "id": "29d9a78b",
   "metadata": {},
   "source": [
    "FourCal 클래스의 객체 a에 값 4와 0을 지정하고 div 메서드를 호출하면 4를 0으로 나누려고 하므로 ZeroDivisionError 오류가 발생한다."
   ]
  },
  {
   "cell_type": "code",
   "execution_count": 11,
   "id": "6f1d7eb7",
   "metadata": {
    "scrolled": true
   },
   "outputs": [
    {
     "name": "stdout",
     "output_type": "stream",
     "text": [
      "first number : 4\n",
      "second number : 0\n",
      "4\n",
      "4\n",
      "0\n"
     ]
    },
    {
     "ename": "ZeroDivisionError",
     "evalue": "division by zero",
     "output_type": "error",
     "traceback": [
      "\u001b[1;31m---------------------------------------------------------------------------\u001b[0m",
      "\u001b[1;31mZeroDivisionError\u001b[0m                         Traceback (most recent call last)",
      "Cell \u001b[1;32mIn[11], line 6\u001b[0m\n\u001b[0;32m      4\u001b[0m \u001b[38;5;28mprint\u001b[39m(a\u001b[38;5;241m.\u001b[39msub())\n\u001b[0;32m      5\u001b[0m \u001b[38;5;28mprint\u001b[39m(a\u001b[38;5;241m.\u001b[39mmul())\n\u001b[1;32m----> 6\u001b[0m \u001b[38;5;28mprint\u001b[39m(a\u001b[38;5;241m.\u001b[39mdiv())\n\u001b[0;32m      7\u001b[0m \u001b[38;5;28mprint\u001b[39m(a\u001b[38;5;241m.\u001b[39mdiv2())\n\u001b[0;32m      8\u001b[0m \u001b[38;5;28mprint\u001b[39m(a\u001b[38;5;241m.\u001b[39mpow())\n",
      "Cell \u001b[1;32mIn[7], line 32\u001b[0m, in \u001b[0;36mFourCal.div\u001b[1;34m(self)\u001b[0m\n\u001b[0;32m     31\u001b[0m \u001b[38;5;28;01mdef\u001b[39;00m \u001b[38;5;21mdiv\u001b[39m(\u001b[38;5;28mself\u001b[39m):\n\u001b[1;32m---> 32\u001b[0m     result \u001b[38;5;241m=\u001b[39m \u001b[38;5;28mself\u001b[39m\u001b[38;5;241m.\u001b[39mfirst \u001b[38;5;241m/\u001b[39m \u001b[38;5;28mself\u001b[39m\u001b[38;5;241m.\u001b[39msecond\n\u001b[0;32m     33\u001b[0m     \u001b[38;5;28;01mreturn\u001b[39;00m result\n",
      "\u001b[1;31mZeroDivisionError\u001b[0m: division by zero"
     ]
    }
   ],
   "source": [
    "a = MoreFourCal()\n",
    "\n",
    "print(a.add())\n",
    "print(a.sub())\n",
    "print(a.mul())\n",
    "print(a.div())\n",
    "print(a.div2())\n",
    "print(a.pow())"
   ]
  },
  {
   "cell_type": "code",
   "execution_count": 16,
   "id": "548a7d20",
   "metadata": {},
   "outputs": [],
   "source": [
    "class SafeFourCal(MoreFourCal):\n",
    "    def div(self):\n",
    "        if self.second == 0:  # 나누는 값이 0인 경우 0을 리턴하도록 수정\n",
    "            return 0\n",
    "        else:\n",
    "            return self.first / self.second"
   ]
  },
  {
   "cell_type": "markdown",
   "id": "6e314b36",
   "metadata": {},
   "source": [
    "부모 클래스(상속한 클래스)에 있는 메서드를 동일한 이름으로 다시 만드는 것을 메서드 오버라이딩(method overriding)이라고 한다. "
   ]
  },
  {
   "cell_type": "code",
   "execution_count": 18,
   "id": "9a816319",
   "metadata": {},
   "outputs": [
    {
     "name": "stdout",
     "output_type": "stream",
     "text": [
      "first number : 4\n",
      "second number : 0\n",
      "0\n"
     ]
    }
   ],
   "source": [
    "a = SafeFourCal()\n",
    "\n",
    "print(a.div())"
   ]
  },
  {
   "cell_type": "markdown",
   "id": "7fe97037",
   "metadata": {},
   "source": [
    " "
   ]
  },
  {
   "cell_type": "markdown",
   "id": "5940cf69",
   "metadata": {},
   "source": [
    "####  클래스 변수"
   ]
  },
  {
   "cell_type": "markdown",
   "id": "aab78c42",
   "metadata": {},
   "source": [
    "객체변수는 다른 객체들의 영향을 받지 않고 독립적으로 그 값을 유지한다.\n",
    "\n",
    "클래스변수는 클래스 안에 함수를 선언하는 것과 마찬가지로 클래스 안에 변수를 선언하여 생성한다."
   ]
  },
  {
   "cell_type": "code",
   "execution_count": 19,
   "id": "a8ff16c5",
   "metadata": {},
   "outputs": [],
   "source": [
    "class name:\n",
    "    lastname = '김'"
   ]
  },
  {
   "cell_type": "code",
   "execution_count": 21,
   "id": "448caf83",
   "metadata": {},
   "outputs": [
    {
     "name": "stdout",
     "output_type": "stream",
     "text": [
      "김\n"
     ]
    }
   ],
   "source": [
    "print(name.lastname)"
   ]
  },
  {
   "cell_type": "markdown",
   "id": "440acd85",
   "metadata": {},
   "source": [
    "클래스변수는 객체변수와 달리 클래스로 만든 모든 객체에 공유된다는 특징이 있다."
   ]
  },
  {
   "cell_type": "markdown",
   "id": "1891fba4",
   "metadata": {},
   "source": [
    " "
   ]
  },
  {
   "cell_type": "markdown",
   "id": "a1015313",
   "metadata": {},
   "source": [
    "##### 클래스 변수와 동일한 이름의 객체 변수를 생성한다면"
   ]
  },
  {
   "cell_type": "code",
   "execution_count": 24,
   "id": "5d50cfd2",
   "metadata": {},
   "outputs": [
    {
     "name": "stdout",
     "output_type": "stream",
     "text": [
      "최\n"
     ]
    }
   ],
   "source": [
    "a.lastname = \"최\"\n",
    "\n",
    "print(a.lastname)"
   ]
  },
  {
   "cell_type": "code",
   "execution_count": 26,
   "id": "b7191b4d",
   "metadata": {},
   "outputs": [
    {
     "name": "stdout",
     "output_type": "stream",
     "text": [
      "최\n"
     ]
    }
   ],
   "source": [
    "name.lastname\n",
    "\n",
    "print(a.lastname)"
   ]
  },
  {
   "cell_type": "markdown",
   "id": "9a53eb4f",
   "metadata": {},
   "source": [
    " "
   ]
  },
  {
   "cell_type": "markdown",
   "id": "91c7602e",
   "metadata": {},
   "source": [
    " "
   ]
  },
  {
   "cell_type": "markdown",
   "id": "6faeacd1",
   "metadata": {},
   "source": [
    " "
   ]
  },
  {
   "cell_type": "markdown",
   "id": "3e9644ab",
   "metadata": {},
   "source": [
    " "
   ]
  },
  {
   "cell_type": "markdown",
   "id": "3346808b",
   "metadata": {},
   "source": [
    "#### 배운 내용 응용하기"
   ]
  },
  {
   "cell_type": "code",
   "execution_count": 1,
   "id": "0235bb8b",
   "metadata": {},
   "outputs": [],
   "source": [
    "class resume:\n",
    "    def __init__(self):\n",
    "        self.name = input('이름 :')\n",
    "        self.age = int(input('나이 :'))\n",
    "        self.gender = input('성별 :')\n",
    "        self.shcool = input('학교 :')\n",
    "        \n",
    "    def show(self):\n",
    "        print(\"제 이름은 {}입니다. 나이는 {}살, 성별은{}로 {}를 재학 중 입니다.\".format(self.name, self.age, self.gender, self.shcool))"
   ]
  },
  {
   "cell_type": "code",
   "execution_count": 2,
   "id": "37f74947",
   "metadata": {},
   "outputs": [
    {
     "name": "stdout",
     "output_type": "stream",
     "text": [
      "이름 :홍길동\n",
      "나이 :18\n",
      "성별 :남자\n",
      "학교 :부산소프트웨어마이스터고등학교\n"
     ]
    }
   ],
   "source": [
    "a = resume()"
   ]
  },
  {
   "cell_type": "code",
   "execution_count": 3,
   "id": "1b1fc9be",
   "metadata": {},
   "outputs": [
    {
     "name": "stdout",
     "output_type": "stream",
     "text": [
      "제 이름은 홍길동입니다. 나이는 18살, 성별은남자로 부산소프트웨어마이스터고등학교를 재학 중 입니다.\n"
     ]
    }
   ],
   "source": [
    "a.show()"
   ]
  }
 ],
 "metadata": {
  "kernelspec": {
   "display_name": "Python 3 (ipykernel)",
   "language": "python",
   "name": "python3"
  },
  "language_info": {
   "codemirror_mode": {
    "name": "ipython",
    "version": 3
   },
   "file_extension": ".py",
   "mimetype": "text/x-python",
   "name": "python",
   "nbconvert_exporter": "python",
   "pygments_lexer": "ipython3",
   "version": "3.11.3"
  }
 },
 "nbformat": 4,
 "nbformat_minor": 5
}
