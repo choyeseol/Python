{
 "cells": [
  {
   "cell_type": "markdown",
   "id": "ed23c811",
   "metadata": {},
   "source": [
    "# 패키지 - (packages)"
   ]
  },
  {
   "cell_type": "markdown",
   "id": "3d7a70fc",
   "metadata": {},
   "source": [
    "- 패키지packages = 관련 있는 모듈의 집합\n",
    "\n",
    "패키지는 파이썬 모듈을 계층적(디렉터리 구조)으로 관리할 수 있게 해 준다."
   ]
  },
  {
   "cell_type": "markdown",
   "id": "3973843a",
   "metadata": {},
   "source": [
    " "
   ]
  },
  {
   "cell_type": "markdown",
   "id": "6f7a03f5",
   "metadata": {},
   "source": [
    "쉽게 설명하자면, 모듈이 여러개 모인 것이 패키지이다.\n",
    "\n",
    "패키지는 하나의 폴더이고, 그 안에 여러 모듈이 존재하는 형태이다.\n",
    "\n",
    "패키지로 묶여있는 모듈을 사용하고 싶다면, 패키지와 동일한 위치에 파일을 생성해야한다."
   ]
  },
  {
   "cell_type": "markdown",
   "id": "d5251b08",
   "metadata": {},
   "source": [
    " "
   ]
  },
  {
   "cell_type": "markdown",
   "id": "0f503444",
   "metadata": {},
   "source": [
    " "
   ]
  },
  {
   "cell_type": "code",
   "execution_count": null,
   "id": "ce45732f",
   "metadata": {},
   "outputs": [],
   "source": [
    "C:/doit/game/__init__.py\n",
    "C:/doit/game/sound/__init__.py\n",
    "C:/doit/game/sound/echo.py\n",
    "C:/doit/game/graphic/__init__.py\n",
    "C:/doit/game/graphic/render.py"
   ]
  },
  {
   "cell_type": "code",
   "execution_count": 6,
   "id": "c9f5bf53",
   "metadata": {},
   "outputs": [],
   "source": [
    "def echo_test():\n",
    "    print(\"echo\")"
   ]
  },
  {
   "cell_type": "code",
   "execution_count": 7,
   "id": "ce435c32",
   "metadata": {},
   "outputs": [],
   "source": [
    "def render_test():\n",
    "    print(\"render\")"
   ]
  },
  {
   "cell_type": "markdown",
   "id": "7077f0ff",
   "metadata": {},
   "source": [
    " "
   ]
  },
  {
   "cell_type": "markdown",
   "id": "fe7ecaa4",
   "metadata": {},
   "source": [
    " "
   ]
  },
  {
   "cell_type": "markdown",
   "id": "83691e34",
   "metadata": {},
   "source": [
    " "
   ]
  },
  {
   "cell_type": "markdown",
   "id": "92b80cd4",
   "metadata": {},
   "source": [
    "## 1. 패키지 안의 함수 실행하기"
   ]
  },
  {
   "cell_type": "code",
   "execution_count": null,
   "id": "b33a8603",
   "metadata": {},
   "outputs": [],
   "source": [
    "1. import 패키지명.모듈명\n",
    "\n",
    "패키지명.모듈명.함수명()"
   ]
  },
  {
   "cell_type": "code",
   "execution_count": 1,
   "id": "f86e0f8b",
   "metadata": {},
   "outputs": [],
   "source": [
    "2. from 패키지명 import 모듈명\n",
    "\n",
    "모듈명.함수명()"
   ]
  },
  {
   "cell_type": "code",
   "execution_count": null,
   "id": "d3973d03",
   "metadata": {},
   "outputs": [],
   "source": [
    "# 여러개의 모듈을 사용하고 싶을 때\n",
    "\n",
    "from 패키지명 import 모듈명1, 모듈명2...\n",
    "\n",
    "모듈명1.함수명()\n",
    "모듈명2.함수명()\n",
    ".\n",
    ".\n",
    "."
   ]
  },
  {
   "cell_type": "markdown",
   "id": "761cf9cd",
   "metadata": {},
   "source": [
    " "
   ]
  },
  {
   "cell_type": "markdown",
   "id": "3e60110a",
   "metadata": {},
   "source": [
    " "
   ]
  },
  {
   "cell_type": "markdown",
   "id": "fbbc8b1c",
   "metadata": {},
   "source": [
    " "
   ]
  },
  {
   "cell_type": "markdown",
   "id": "8774ab42",
   "metadata": {},
   "source": [
    " "
   ]
  },
  {
   "cell_type": "markdown",
   "id": "6262a95b",
   "metadata": {},
   "source": [
    "## 2. __init__.py의 용도"
   ]
  },
  {
   "cell_type": "markdown",
   "id": "c7c759ac",
   "metadata": {},
   "source": [
    "\\___init___.py 파일은 해당 디렉터리가 패키지의 일부임을 알려 주는 역할을 한다. \n",
    "\n",
    "만약 패키지에 포함된 디렉터리에 \\___init___.py 파일이 없다면 패키지로 인식되지 않는다."
   ]
  },
  {
   "cell_type": "markdown",
   "id": "e4e68134",
   "metadata": {},
   "source": [
    "또한, \\___init___.py 파일은 패키지와 관련된 설정이나 초기화 코드를 포함할 수 있다."
   ]
  },
  {
   "cell_type": "markdown",
   "id": "4161fcdf",
   "metadata": {},
   "source": [
    "#### 2.1 패키지 변수 및 함수 정의"
   ]
  },
  {
   "cell_type": "markdown",
   "id": "84236b03",
   "metadata": {},
   "source": [
    "패키지 수준에서 변수와 함수를 정의할 수 있다. \n",
    "\n",
    "예를 들어, game 패키지의 \\___init___.py 파일에 공통 변수나 함수를 정의할 수 있다."
   ]
  },
  {
   "cell_type": "code",
   "execution_count": 8,
   "id": "2daeec6c",
   "metadata": {},
   "outputs": [],
   "source": [
    "VERSION = 3.5\n",
    "\n",
    "def print_version_info():\n",
    "    print(f\"The version of this game is {VERSION}.\")"
   ]
  },
  {
   "cell_type": "markdown",
   "id": "c3a423d3",
   "metadata": {},
   "source": [
    "이렇게 패키지의 \\___init___.py 파일에 정의된 변수와 함수는 다음과 같이 사용할 수 있다."
   ]
  },
  {
   "cell_type": "code",
   "execution_count": null,
   "id": "e7a7e80b",
   "metadata": {},
   "outputs": [],
   "source": [
    "import game"
   ]
  },
  {
   "cell_type": "code",
   "execution_count": 16,
   "id": "a849dd16",
   "metadata": {},
   "outputs": [],
   "source": [
    "print(game.VERSION)"
   ]
  },
  {
   "cell_type": "code",
   "execution_count": 17,
   "id": "25aeaed5",
   "metadata": {},
   "outputs": [],
   "source": [
    "game.print_version_info()"
   ]
  },
  {
   "cell_type": "markdown",
   "id": "8f9580ae",
   "metadata": {},
   "source": [
    " "
   ]
  },
  {
   "cell_type": "markdown",
   "id": "8b62e883",
   "metadata": {},
   "source": [
    " "
   ]
  },
  {
   "cell_type": "markdown",
   "id": "faf30c33",
   "metadata": {},
   "source": [
    " "
   ]
  },
  {
   "cell_type": "markdown",
   "id": "c70e5fb0",
   "metadata": {},
   "source": [
    "#### 2.2 패키지 내 모듈을 미리 import"
   ]
  },
  {
   "cell_type": "markdown",
   "id": "206489ed",
   "metadata": {},
   "source": [
    "\\___init___.py 파일에 패키지 내의 다른 모듈을 미리 import하여 패키지를 사용하는 코드에서 간편하게 접근할 수 있게 한다."
   ]
  },
  {
   "cell_type": "code",
   "execution_count": null,
   "id": "945fe8cc",
   "metadata": {},
   "outputs": [],
   "source": [
    "from .graphic.render import render_test\n",
    "# 맨 앞의 .은 현재 디렉터리를 의미한다. \n",
    "\n",
    "VERSION = 3.5\n",
    "\n",
    "def print_version_info():\n",
    "    print(f\"The version of this game is {VERSION}.\")"
   ]
  },
  {
   "cell_type": "code",
   "execution_count": null,
   "id": "21e9ffe4",
   "metadata": {},
   "outputs": [],
   "source": [
    "import game\n",
    "game.render_test()"
   ]
  },
  {
   "cell_type": "markdown",
   "id": "f76d5c29",
   "metadata": {},
   "source": [
    " "
   ]
  },
  {
   "cell_type": "markdown",
   "id": "20ea2cbc",
   "metadata": {},
   "source": [
    " "
   ]
  },
  {
   "cell_type": "markdown",
   "id": "8a916635",
   "metadata": {},
   "source": [
    " "
   ]
  },
  {
   "cell_type": "markdown",
   "id": "421bcecc",
   "metadata": {},
   "source": [
    " "
   ]
  },
  {
   "cell_type": "markdown",
   "id": "a31d667d",
   "metadata": {},
   "source": [
    "#### 2.3 패키지 초기화"
   ]
  },
  {
   "cell_type": "markdown",
   "id": "6440d688",
   "metadata": {},
   "source": [
    "\\___init___.py 파일에 패키지를 처음 불러올 때 실행되어야 하는 코드를 작성할 수 있다."
   ]
  },
  {
   "cell_type": "code",
   "execution_count": null,
   "id": "735885ba",
   "metadata": {},
   "outputs": [],
   "source": [
    "from .graphic.render import render_test\n",
    "\n",
    "VERSION = 3.5\n",
    "\n",
    "def print_version_info():\n",
    "    print(f\"The version of this game is {VERSION}.\")\n",
    "\n",
    "# 여기에 패키지 초기화 코드를 작성한다.\n",
    "print(\"Initializing game ...\")"
   ]
  },
  {
   "cell_type": "markdown",
   "id": "82ca4bf5",
   "metadata": {},
   "source": [
    "이렇게 하면 패키지를 처음 import할 때 초기화 코드가 실행된다."
   ]
  },
  {
   "cell_type": "code",
   "execution_count": null,
   "id": "ee856f7a",
   "metadata": {},
   "outputs": [],
   "source": [
    "import 패키지\n",
    "\n",
    ">>>Initializing game ..."
   ]
  },
  {
   "cell_type": "markdown",
   "id": "bb221c99",
   "metadata": {},
   "source": [
    "game 패키지의 초기화 코드는 game 패키지의 하위 모듈의 함수를 import할 경우에도 실행된다."
   ]
  },
  {
   "cell_type": "code",
   "execution_count": null,
   "id": "035b4a36",
   "metadata": {},
   "outputs": [],
   "source": [
    "from game.graphic.render import render_test\n",
    "\n",
    ">>>Initializing game ..."
   ]
  },
  {
   "cell_type": "markdown",
   "id": "a2147c6c",
   "metadata": {},
   "source": [
    "단, 초기화 코드는 한 번 실행된 후에는 다시 import를 수행하더라도 실행되지 않는다."
   ]
  },
  {
   "cell_type": "markdown",
   "id": "21f456b2",
   "metadata": {},
   "source": [
    " "
   ]
  },
  {
   "cell_type": "markdown",
   "id": "058b3929",
   "metadata": {},
   "source": [
    " "
   ]
  },
  {
   "cell_type": "markdown",
   "id": "36873ad2",
   "metadata": {},
   "source": [
    " "
   ]
  },
  {
   "cell_type": "markdown",
   "id": "ed12e0b5",
   "metadata": {},
   "source": [
    " "
   ]
  },
  {
   "cell_type": "markdown",
   "id": "871ef75d",
   "metadata": {},
   "source": [
    "## 3. \\___all___"
   ]
  },
  {
   "cell_type": "markdown",
   "id": "79d86f98",
   "metadata": {},
   "source": [
    "특정 디렉터리의 모듈을 \\*를 사용하여 import할 때는  \n",
    "다음과 같이 해당 디렉터리의 \\__init__\\.py 파일에 \\__all__\\ 변수를 설정하고 import할 수 있는 모듈을 정의해 주어야 한다."
   ]
  },
  {
   "cell_type": "code",
   "execution_count": null,
   "id": "0e25a99b",
   "metadata": {},
   "outputs": [],
   "source": [
    "__all__ = ['모듈']"
   ]
  },
  {
   "cell_type": "markdown",
   "id": "04081ba7",
   "metadata": {},
   "source": [
    "여기에서 \\__all__\\이 의미하는 것은 sound 디렉터리에서 \\*를 사용하여 import할 경우, 이곳에 정의된 echo 모듈만 import된다는 의미이다."
   ]
  },
  {
   "cell_type": "markdown",
   "id": "c950d4cd",
   "metadata": {},
   "source": [
    "위와 같이 \\__init__\\.py 파일을 변경한 후 예제를 수행하면 원하는 결과가 출력되는 것을 확인할 수 있다."
   ]
  },
  {
   "cell_type": "code",
   "execution_count": null,
   "id": "5b82e3e8",
   "metadata": {},
   "outputs": [],
   "source": [
    "from game.sound import *\n",
    "\n",
    ">>>Initializing game ...\n",
    "\n",
    "echo.echo_test()\n",
    "\n",
    ">>>echo"
   ]
  },
  {
   "cell_type": "markdown",
   "id": "f140c9fc",
   "metadata": {},
   "source": [
    " "
   ]
  },
  {
   "cell_type": "markdown",
   "id": "8b077f58",
   "metadata": {},
   "source": [
    " "
   ]
  },
  {
   "cell_type": "markdown",
   "id": "0e8931d2",
   "metadata": {},
   "source": [
    " "
   ]
  },
  {
   "cell_type": "markdown",
   "id": "eb30b596",
   "metadata": {},
   "source": [
    " "
   ]
  },
  {
   "cell_type": "markdown",
   "id": "5df5602e",
   "metadata": {},
   "source": [
    "## 4. relative 패키지"
   ]
  },
  {
   "cell_type": "markdown",
   "id": "0bde31c4",
   "metadata": {},
   "source": [
    "만약 graphic 디렉터리의 render.py 모듈에서 sound 디렉터리의 echo.py 모듈을 사용하고 싶다면 render.py를 수정하면 된다."
   ]
  },
  {
   "cell_type": "code",
   "execution_count": null,
   "id": "0e7ec543",
   "metadata": {},
   "outputs": [],
   "source": [
    "from game.sound.echo import echo_test\n",
    "def render_test():\n",
    "    print(\"render\")\n",
    "    echo_test()"
   ]
  },
  {
   "cell_type": "markdown",
   "id": "4a794e56",
   "metadata": {},
   "source": [
    "from game.sound.echo import echo_test 문장을 추가하여 echo_test 함수를 사용할 수 있도록 수정했다."
   ]
  }
 ],
 "metadata": {
  "kernelspec": {
   "display_name": "Python 3 (ipykernel)",
   "language": "python",
   "name": "python3"
  },
  "language_info": {
   "codemirror_mode": {
    "name": "ipython",
    "version": 3
   },
   "file_extension": ".py",
   "mimetype": "text/x-python",
   "name": "python",
   "nbconvert_exporter": "python",
   "pygments_lexer": "ipython3",
   "version": "3.11.3"
  }
 },
 "nbformat": 4,
 "nbformat_minor": 5
}
