{
 "cells": [
  {
   "cell_type": "markdown",
   "id": "e4a1c805",
   "metadata": {},
   "source": [
    "# 함수 (function)\n",
    "- 함수 (function) = 입력값을 사용하여 어떤 일을 수행한 후 그 결과물을 내어 놓는 것"
   ]
  },
  {
   "cell_type": "markdown",
   "id": "e5efe727",
   "metadata": {},
   "source": [
    " "
   ]
  },
  {
   "cell_type": "markdown",
   "id": "73f670ca",
   "metadata": {},
   "source": [
    " "
   ]
  },
  {
   "cell_type": "markdown",
   "id": "c6bb39d1",
   "metadata": {},
   "source": [
    "< 함수를 사용하는 이유 >"
   ]
  },
  {
   "cell_type": "markdown",
   "id": "55921be1",
   "metadata": {},
   "source": [
    "1. 반복되는 부분이 있을 경우, ‘반복적으로 사용되는 가치 있는 부분’을 한 뭉치로 묶어 ‘어떤 입력값을 주었을 때 어떤 결괏값을 리턴해 준다’라는 식의 함수로 작성하는 것\n",
    "\n",
    "2. 자신이 작성한 프로그램을 기능 단위의 함수로 분리해 놓으면 프로그램 흐름을 일목요연하게 볼 수 있기 때문"
   ]
  },
  {
   "cell_type": "markdown",
   "id": "fc691fba",
   "metadata": {},
   "source": [
    " "
   ]
  },
  {
   "cell_type": "markdown",
   "id": "717ecfea",
   "metadata": {},
   "source": [
    " "
   ]
  },
  {
   "cell_type": "markdown",
   "id": "4ff13ce3",
   "metadata": {},
   "source": [
    " "
   ]
  },
  {
   "cell_type": "markdown",
   "id": "9c78f298",
   "metadata": {},
   "source": [
    " "
   ]
  },
  {
   "cell_type": "markdown",
   "id": "9e19895e",
   "metadata": {},
   "source": [
    "## 1. 파이썬 함수의 구조"
   ]
  },
  {
   "cell_type": "markdown",
   "id": "3ad1971e",
   "metadata": {},
   "source": [
    "def 함수_이름(매개변수):\n",
    "    \n",
    "    수행할_문장1\n",
    "    \n",
    "    수행할_문장2\n",
    "    \n",
    "    ..."
   ]
  },
  {
   "cell_type": "code",
   "execution_count": 3,
   "id": "7ee67334",
   "metadata": {},
   "outputs": [
    {
     "name": "stdout",
     "output_type": "stream",
     "text": [
      "21\n"
     ]
    }
   ],
   "source": [
    "a = 10\n",
    "b = 11\n",
    "c = add(a, b)\n",
    "\n",
    "print(c)"
   ]
  },
  {
   "cell_type": "markdown",
   "id": "83a7a70a",
   "metadata": {},
   "source": [
    " "
   ]
  },
  {
   "cell_type": "markdown",
   "id": "225768de",
   "metadata": {},
   "source": [
    " "
   ]
  },
  {
   "cell_type": "markdown",
   "id": "c833b789",
   "metadata": {},
   "source": [
    " "
   ]
  },
  {
   "cell_type": "markdown",
   "id": "64e75530",
   "metadata": {},
   "source": [
    " "
   ]
  },
  {
   "cell_type": "markdown",
   "id": "ef792dec",
   "metadata": {},
   "source": [
    "## 2. 매개변수와 인수 \n",
    "\n",
    "매개변수(parameter)와 인수(arguments)"
   ]
  },
  {
   "cell_type": "markdown",
   "id": "45da317c",
   "metadata": {},
   "source": [
    "매개변수 = 함수에 입력으로 전달된 값을 받는 변수\n",
    "\n",
    "인수 = 함수를 호출할 때 전달하는 입력값"
   ]
  },
  {
   "cell_type": "markdown",
   "id": "a5c401a8",
   "metadata": {},
   "source": [
    " "
   ]
  },
  {
   "cell_type": "markdown",
   "id": "2d464b33",
   "metadata": {},
   "source": [
    " "
   ]
  },
  {
   "cell_type": "markdown",
   "id": "3f1c2156",
   "metadata": {},
   "source": [
    " "
   ]
  },
  {
   "cell_type": "markdown",
   "id": "d931bff0",
   "metadata": {},
   "source": [
    " "
   ]
  },
  {
   "cell_type": "markdown",
   "id": "b33a373f",
   "metadata": {},
   "source": [
    "## 3. 입력값과 리턴값에 따른 함수의 형태"
   ]
  },
  {
   "cell_type": "markdown",
   "id": "bd701272",
   "metadata": {},
   "source": [
    "#### 3.1 일반적인 함수\n",
    "- 입력값이 있고 리턴값이 있는 함수가 일반적인 함수"
   ]
  },
  {
   "cell_type": "code",
   "execution_count": 4,
   "id": "af12b4b6",
   "metadata": {},
   "outputs": [],
   "source": [
    "def add(a, b): \n",
    "    result = a + b \n",
    "    return result"
   ]
  },
  {
   "cell_type": "code",
   "execution_count": 8,
   "id": "8114b00f",
   "metadata": {},
   "outputs": [
    {
     "name": "stdout",
     "output_type": "stream",
     "text": [
      "7\n"
     ]
    }
   ],
   "source": [
    "a = add(3, 4)\n",
    "print(a)"
   ]
  },
  {
   "cell_type": "markdown",
   "id": "0440d865",
   "metadata": {},
   "source": [
    "#### 3.2 입력값이 없는 함수"
   ]
  },
  {
   "cell_type": "code",
   "execution_count": 6,
   "id": "ec7c9dda",
   "metadata": {},
   "outputs": [],
   "source": [
    "def say():\n",
    "    return 'Hello'"
   ]
  },
  {
   "cell_type": "code",
   "execution_count": 7,
   "id": "f0fe8614",
   "metadata": {},
   "outputs": [
    {
     "name": "stdout",
     "output_type": "stream",
     "text": [
      "Hello\n"
     ]
    }
   ],
   "source": [
    "a = say()\n",
    "print(a)"
   ]
  },
  {
   "cell_type": "markdown",
   "id": "f4c8e539",
   "metadata": {},
   "source": [
    "#### 3.3 리턴값이 없는 함수"
   ]
  },
  {
   "cell_type": "code",
   "execution_count": 10,
   "id": "7d478b29",
   "metadata": {},
   "outputs": [],
   "source": [
    "def add(a, b): \n",
    "    print(\"%d, %d의 합은 %d입니다.\" % (a, b, a+b))"
   ]
  },
  {
   "cell_type": "code",
   "execution_count": 14,
   "id": "f8c7b2a7",
   "metadata": {},
   "outputs": [
    {
     "name": "stdout",
     "output_type": "stream",
     "text": [
      "3, 4의 합은 7입니다.\n"
     ]
    }
   ],
   "source": [
    "add(3, 4)"
   ]
  },
  {
   "cell_type": "markdown",
   "id": "d63c8c82",
   "metadata": {},
   "source": [
    "#### 3.4 입력값, 리턴값도 없는 함수"
   ]
  },
  {
   "cell_type": "code",
   "execution_count": 15,
   "id": "ebc59168",
   "metadata": {},
   "outputs": [],
   "source": [
    "def say():\n",
    "    print('Hello')"
   ]
  },
  {
   "cell_type": "code",
   "execution_count": 16,
   "id": "eaaed8c4",
   "metadata": {},
   "outputs": [
    {
     "name": "stdout",
     "output_type": "stream",
     "text": [
      "Hello\n"
     ]
    }
   ],
   "source": [
    "say()"
   ]
  },
  {
   "cell_type": "markdown",
   "id": "52e48389",
   "metadata": {},
   "source": [
    "#### 3.5 매개변수 지정하여 호출"
   ]
  },
  {
   "cell_type": "code",
   "execution_count": 17,
   "id": "050a154c",
   "metadata": {},
   "outputs": [],
   "source": [
    "def sub(a, b):\n",
    "    return a - b"
   ]
  },
  {
   "cell_type": "code",
   "execution_count": 18,
   "id": "92ad6ce6",
   "metadata": {},
   "outputs": [
    {
     "name": "stdout",
     "output_type": "stream",
     "text": [
      "4\n"
     ]
    }
   ],
   "source": [
    "result = sub(a = 7, b = 3)\n",
    "print(result)"
   ]
  },
  {
   "cell_type": "code",
   "execution_count": 20,
   "id": "21d4e506",
   "metadata": {},
   "outputs": [
    {
     "name": "stdout",
     "output_type": "stream",
     "text": [
      "4\n"
     ]
    }
   ],
   "source": [
    "result = sub(7, 3)\n",
    "print(result)"
   ]
  },
  {
   "cell_type": "markdown",
   "id": "33b58b2a",
   "metadata": {},
   "source": [
    " "
   ]
  },
  {
   "cell_type": "markdown",
   "id": "71a90fd0",
   "metadata": {},
   "source": [
    " "
   ]
  },
  {
   "cell_type": "markdown",
   "id": "5f3f423a",
   "metadata": {},
   "source": [
    " "
   ]
  },
  {
   "cell_type": "markdown",
   "id": "2bf2e4ed",
   "metadata": {},
   "source": [
    " "
   ]
  },
  {
   "cell_type": "markdown",
   "id": "bb814145",
   "metadata": {},
   "source": [
    "## 4. 입력값이 몇개가 될지 모를 때"
   ]
  },
  {
   "cell_type": "markdown",
   "id": "d07bdfee",
   "metadata": {},
   "source": [
    "def 함수_이름(*매개변수):\n",
    "    \n",
    "    수행할_문장\n",
    "    \n",
    "    ...\n"
   ]
  },
  {
   "cell_type": "markdown",
   "id": "2b40b86d",
   "metadata": {},
   "source": [
    "#### 4.1 여러 개의 입력값 받는 함수"
   ]
  },
  {
   "cell_type": "code",
   "execution_count": 21,
   "id": "985e8c39",
   "metadata": {},
   "outputs": [],
   "source": [
    "def add_many(*args): \n",
    "    result = 0 \n",
    "    for i in args: \n",
    "        result = result + i   # *args에 입력받은 모든 값을 더한다.\n",
    "    return result \n"
   ]
  },
  {
   "cell_type": "code",
   "execution_count": 22,
   "id": "eb549c66",
   "metadata": {},
   "outputs": [
    {
     "name": "stdout",
     "output_type": "stream",
     "text": [
      "6\n"
     ]
    }
   ],
   "source": [
    "result = add_many(1,2,3)\n",
    "print(result)"
   ]
  },
  {
   "cell_type": "code",
   "execution_count": 23,
   "id": "ffdd68d9",
   "metadata": {},
   "outputs": [
    {
     "name": "stdout",
     "output_type": "stream",
     "text": [
      "55\n"
     ]
    }
   ],
   "source": [
    "result = add_many(1,2,3,4,5,6,7,8,9,10)\n",
    "print(result)"
   ]
  },
  {
   "cell_type": "markdown",
   "id": "f58476a7",
   "metadata": {},
   "source": [
    "#### 4.2 키워드 매개변수 - kwargs"
   ]
  },
  {
   "cell_type": "code",
   "execution_count": 24,
   "id": "75d86a94",
   "metadata": {},
   "outputs": [],
   "source": [
    "def print_kwargs(**kwargs):\n",
    "    print(kwargs)"
   ]
  },
  {
   "cell_type": "code",
   "execution_count": 26,
   "id": "d4d49931",
   "metadata": {},
   "outputs": [
    {
     "name": "stdout",
     "output_type": "stream",
     "text": [
      "{'a': 1}\n"
     ]
    }
   ],
   "source": [
    "print_kwargs(a=1)"
   ]
  },
  {
   "cell_type": "markdown",
   "id": "98e03e2d",
   "metadata": {},
   "source": [
    "딕셔너리로 변경"
   ]
  },
  {
   "cell_type": "markdown",
   "id": "a3cc57a1",
   "metadata": {},
   "source": [
    "- 함수의 리턴값은 언제나 하나이다."
   ]
  },
  {
   "cell_type": "code",
   "execution_count": 30,
   "id": "1aa83573",
   "metadata": {},
   "outputs": [],
   "source": [
    "def add_and_mul(a, b):\n",
    "    return a + b, a * b"
   ]
  },
  {
   "cell_type": "code",
   "execution_count": 31,
   "id": "0638dd95",
   "metadata": {},
   "outputs": [],
   "source": [
    "result = add_and_mul(3, 4)"
   ]
  },
  {
   "cell_type": "code",
   "execution_count": 32,
   "id": "89e5bb28",
   "metadata": {},
   "outputs": [
    {
     "name": "stdout",
     "output_type": "stream",
     "text": [
      "(7, 12)\n"
     ]
    }
   ],
   "source": [
    "print(result)"
   ]
  },
  {
   "cell_type": "markdown",
   "id": "795ac1ee",
   "metadata": {},
   "source": [
    "튜플 값이 하나인 (a + b, a * b)로 리턴되었다."
   ]
  },
  {
   "cell_type": "code",
   "execution_count": 33,
   "id": "2e1dd9fd",
   "metadata": {},
   "outputs": [],
   "source": [
    "result1, result2 = add_and_mul(3, 4)"
   ]
  },
  {
   "cell_type": "code",
   "execution_count": 34,
   "id": "29f6b8ab",
   "metadata": {},
   "outputs": [
    {
     "name": "stdout",
     "output_type": "stream",
     "text": [
      "7\n",
      "12\n"
     ]
    }
   ],
   "source": [
    "print(result1)\n",
    "print(result2)"
   ]
  },
  {
   "cell_type": "markdown",
   "id": "017259c7",
   "metadata": {},
   "source": [
    " "
   ]
  },
  {
   "cell_type": "code",
   "execution_count": 36,
   "id": "7c23cb87",
   "metadata": {},
   "outputs": [],
   "source": [
    "def add_and_mul(a, b):\n",
    "    return a + b\n",
    "    return a * b"
   ]
  },
  {
   "cell_type": "code",
   "execution_count": 37,
   "id": "39e01b86",
   "metadata": {},
   "outputs": [],
   "source": [
    "result = add_and_mul(3, 4)"
   ]
  },
  {
   "cell_type": "code",
   "execution_count": 38,
   "id": "3cc2e206",
   "metadata": {},
   "outputs": [
    {
     "name": "stdout",
     "output_type": "stream",
     "text": [
      "7\n"
     ]
    }
   ],
   "source": [
    "print(result)"
   ]
  },
  {
   "cell_type": "markdown",
   "id": "eaf261f9",
   "metadata": {},
   "source": [
    "- 함수는 return 문을만나는 순간 리턴값을 돌려준 다음, 함수를 빠져나가기 때문에 첫번째 이후 리턴값은 무시된다."
   ]
  },
  {
   "cell_type": "markdown",
   "id": "05e3aebc",
   "metadata": {},
   "source": [
    "특별한 상황일 때 함수를 빠져나가고 싶다면 return을 단독으로 써서 함수를 즉시 빠져나갈 수 있다."
   ]
  },
  {
   "cell_type": "markdown",
   "id": "75c79533",
   "metadata": {},
   "source": [
    " "
   ]
  },
  {
   "cell_type": "markdown",
   "id": "d92d848b",
   "metadata": {},
   "source": [
    " "
   ]
  },
  {
   "cell_type": "markdown",
   "id": "2b17d656",
   "metadata": {},
   "source": [
    " "
   ]
  },
  {
   "cell_type": "markdown",
   "id": "83e8897a",
   "metadata": {},
   "source": [
    " "
   ]
  },
  {
   "cell_type": "markdown",
   "id": "d3a52c55",
   "metadata": {},
   "source": [
    "### 매개변수에 초깃값 미리 설정하기"
   ]
  },
  {
   "cell_type": "code",
   "execution_count": 39,
   "id": "a871ddcc",
   "metadata": {},
   "outputs": [],
   "source": [
    "def say_myself(name, old, man=True): # 매개변수 \n",
    "    print(\"나의 이름은 %s 입니다.\" % name) \n",
    "    print(\"나이는 %d살입니다.\" % old) \n",
    "    \n",
    "    if man: \n",
    "        print(\"남자입니다.\")\n",
    "    else: \n",
    "        print(\"여자입니다.\")"
   ]
  },
  {
   "cell_type": "markdown",
   "id": "28d69adf",
   "metadata": {},
   "source": [
    "man의 초깃값을 True로 설정해뒀기 때문에 man의 입력이 없어도 조건문에 걸리지 않는다."
   ]
  },
  {
   "cell_type": "code",
   "execution_count": 43,
   "id": "549095d4",
   "metadata": {},
   "outputs": [
    {
     "name": "stdout",
     "output_type": "stream",
     "text": [
      "나의 이름은 홍길동 입니다.\n",
      "나이는 99살입니다.\n",
      "남자입니다.\n"
     ]
    }
   ],
   "source": [
    "say_myself('홍길동', 99)"
   ]
  },
  {
   "cell_type": "code",
   "execution_count": 45,
   "id": "735c972a",
   "metadata": {},
   "outputs": [
    {
     "name": "stdout",
     "output_type": "stream",
     "text": [
      "나의 이름은 홍길동 입니다.\n",
      "나이는 99살입니다.\n",
      "남자입니다.\n"
     ]
    }
   ],
   "source": [
    "say_myself('홍길동', 99, True)"
   ]
  },
  {
   "cell_type": "code",
   "execution_count": 44,
   "id": "cb01a0d4",
   "metadata": {},
   "outputs": [
    {
     "name": "stdout",
     "output_type": "stream",
     "text": [
      "나의 이름은 조예설 입니다.\n",
      "나이는 17살입니다.\n",
      "여자입니다.\n"
     ]
    }
   ],
   "source": [
    "say_myself('조예설', 17 , False)"
   ]
  },
  {
   "cell_type": "markdown",
   "id": "ab2de11e",
   "metadata": {},
   "source": [
    " "
   ]
  },
  {
   "cell_type": "markdown",
   "id": "f5d3481d",
   "metadata": {},
   "source": [
    " "
   ]
  },
  {
   "cell_type": "markdown",
   "id": "bce59a1e",
   "metadata": {},
   "source": [
    " "
   ]
  },
  {
   "cell_type": "markdown",
   "id": "5e60cb3c",
   "metadata": {},
   "source": [
    " "
   ]
  },
  {
   "cell_type": "markdown",
   "id": "bffcf3e1",
   "metadata": {},
   "source": [
    " "
   ]
  },
  {
   "cell_type": "markdown",
   "id": "1230d00d",
   "metadata": {},
   "source": [
    "### 함수 안에서 선언한 변수의 효력 범위"
   ]
  },
  {
   "cell_type": "markdown",
   "id": "f20c79f7",
   "metadata": {},
   "source": [
    "함수 안에서 사용할 변수의 이름을 함수 밖에서도 동일하게 사용한다면"
   ]
  },
  {
   "cell_type": "code",
   "execution_count": 49,
   "id": "48ab8b41",
   "metadata": {},
   "outputs": [
    {
     "name": "stdout",
     "output_type": "stream",
     "text": [
      "1\n"
     ]
    }
   ],
   "source": [
    "a = 1\n",
    "\n",
    "def vartest(a):\n",
    "    a = a +1\n",
    "\n",
    "vartest(a)\n",
    "print(a)"
   ]
  },
  {
   "cell_type": "markdown",
   "id": "0af0fb76",
   "metadata": {},
   "source": [
    " print(a)에서 사용한 a 변수는 어디에도 선언되지 않았기 때문에 print문에 에러가 나타난다."
   ]
  },
  {
   "cell_type": "markdown",
   "id": "ba5b792b",
   "metadata": {},
   "source": [
    " "
   ]
  },
  {
   "cell_type": "markdown",
   "id": "fea58cda",
   "metadata": {},
   "source": [
    " "
   ]
  },
  {
   "cell_type": "markdown",
   "id": "654ec2e7",
   "metadata": {},
   "source": [
    " "
   ]
  },
  {
   "cell_type": "markdown",
   "id": "e1045f0e",
   "metadata": {},
   "source": [
    " "
   ]
  },
  {
   "cell_type": "markdown",
   "id": "47d96fa7",
   "metadata": {},
   "source": [
    "### 함수 안에서 함수 밖의 변수를 변경하는 방법"
   ]
  },
  {
   "cell_type": "markdown",
   "id": "71447e47",
   "metadata": {},
   "source": [
    "#### 1. return 사용"
   ]
  },
  {
   "cell_type": "code",
   "execution_count": 60,
   "id": "3e03f4ed",
   "metadata": {},
   "outputs": [
    {
     "name": "stdout",
     "output_type": "stream",
     "text": [
      "2\n"
     ]
    }
   ],
   "source": [
    "a = 1 \n",
    "def vartest(a): \n",
    "    a = a + 1 \n",
    "    return a\n",
    "\n",
    "a = vartest(a) \n",
    "print(a)"
   ]
  },
  {
   "cell_type": "markdown",
   "id": "ffae64c4",
   "metadata": {},
   "source": [
    " a = vartest(a)라고 작성하면 a에는 vartest 함수의 리턴값이 대입된다."
   ]
  },
  {
   "cell_type": "markdown",
   "id": "484324d5",
   "metadata": {},
   "source": [
    "#### 2. global 명령어 사용"
   ]
  },
  {
   "cell_type": "code",
   "execution_count": 61,
   "id": "a9dab62a",
   "metadata": {},
   "outputs": [
    {
     "name": "stdout",
     "output_type": "stream",
     "text": [
      "2\n"
     ]
    }
   ],
   "source": [
    "a = 1 \n",
    "def vartest(): \n",
    "    global a \n",
    "    a = a+1\n",
    "\n",
    "vartest() \n",
    "print(a)"
   ]
  },
  {
   "cell_type": "markdown",
   "id": "48ebba0c",
   "metadata": {},
   "source": [
    "vartest 함수 안의 global a 문장은 함수 안에서 함수 밖의 a 변수를 직접 사용하겠다는 뜻이다."
   ]
  },
  {
   "cell_type": "markdown",
   "id": "808badbe",
   "metadata": {},
   "source": [
    "함수는 독립적으로 존재하는 것이 좋기 때문에 프로그래밍을 할 때, global 명령어는 자제해서 사용하는 것이 좋다."
   ]
  },
  {
   "cell_type": "markdown",
   "id": "4a92882b",
   "metadata": {},
   "source": [
    " "
   ]
  },
  {
   "cell_type": "markdown",
   "id": "238e60d9",
   "metadata": {},
   "source": [
    " "
   ]
  },
  {
   "cell_type": "markdown",
   "id": "ddb368b9",
   "metadata": {},
   "source": [
    " "
   ]
  },
  {
   "cell_type": "markdown",
   "id": "b9b823e0",
   "metadata": {},
   "source": [
    " "
   ]
  },
  {
   "cell_type": "markdown",
   "id": "7c3464aa",
   "metadata": {},
   "source": [
    "### lambda 예약어"
   ]
  },
  {
   "cell_type": "markdown",
   "id": "a4441df2",
   "metadata": {},
   "source": [
    "- lambda = 함수를 생성할 때 사용하는 예약어로, def와 동일한 역할 수행"
   ]
  },
  {
   "cell_type": "markdown",
   "id": "7b69087f",
   "metadata": {},
   "source": [
    "함수_이름 = lambda 매개변수1, 매개변수2, ... : 매개변수를_이용한_표현식"
   ]
  },
  {
   "cell_type": "code",
   "execution_count": 62,
   "id": "6b6b5d72",
   "metadata": {},
   "outputs": [
    {
     "name": "stdout",
     "output_type": "stream",
     "text": [
      "7\n"
     ]
    }
   ],
   "source": [
    "add = lambda a, b: a + b\n",
    "result = add(3, 4)\n",
    "print(result)"
   ]
  },
  {
   "cell_type": "markdown",
   "id": "57f0411a",
   "metadata": {},
   "source": [
    "lambda로 만든 함수는 return 명령어가 없어도 표현식의 결괏값을 리턴한다."
   ]
  }
 ],
 "metadata": {
  "kernelspec": {
   "display_name": "Python 3 (ipykernel)",
   "language": "python",
   "name": "python3"
  },
  "language_info": {
   "codemirror_mode": {
    "name": "ipython",
    "version": 3
   },
   "file_extension": ".py",
   "mimetype": "text/x-python",
   "name": "python",
   "nbconvert_exporter": "python",
   "pygments_lexer": "ipython3",
   "version": "3.11.3"
  }
 },
 "nbformat": 4,
 "nbformat_minor": 5
}
