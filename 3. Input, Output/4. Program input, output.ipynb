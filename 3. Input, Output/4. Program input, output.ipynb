{
 "cells": [
  {
   "cell_type": "markdown",
   "id": "ff72f93d",
   "metadata": {},
   "source": [
    "# 프로그램의 입출력"
   ]
  },
  {
   "cell_type": "code",
   "execution_count": null,
   "id": "f0f0447f",
   "metadata": {},
   "outputs": [],
   "source": [
    "명령어 [인수1 인수2 ...]"
   ]
  },
  {
   "cell_type": "markdown",
   "id": "f5dbc7a0",
   "metadata": {},
   "source": [
    " "
   ]
  },
  {
   "cell_type": "markdown",
   "id": "915344a7",
   "metadata": {},
   "source": [
    " "
   ]
  },
  {
   "cell_type": "markdown",
   "id": "8e657fc3",
   "metadata": {},
   "source": [
    "## 1. sys 모듈사용하기 "
   ]
  },
  {
   "cell_type": "markdown",
   "id": "2f47dd97",
   "metadata": {},
   "source": [
    "sys 모듈을 사용하여 프로그램에 인수를 전달할 수 있다. \n",
    "\n",
    "import 명령어를 사용해야 한다."
   ]
  },
  {
   "cell_type": "code",
   "execution_count": 29,
   "id": "0fe5a0f8",
   "metadata": {},
   "outputs": [
    {
     "name": "stdout",
     "output_type": "stream",
     "text": [
      "-f\n",
      "C:\\Users\\choye\\AppData\\Roaming\\jupyter\\runtime\\kernel-a40a87e6-ea33-424f-ba68-0c3b44bf197f.json\n"
     ]
    }
   ],
   "source": [
    "import sys\n",
    "\n",
    "args = sys.argv[1:]\n",
    "\n",
    "for i in args:\n",
    "    print(i)"
   ]
  },
  {
   "cell_type": "markdown",
   "id": "6c4372dd",
   "metadata": {},
   "source": [
    "프로그램 실행 시 전달받은 인수를 for 문을 사용해 차례대로 하나씩 출력한다. \n",
    "\n",
    "sys 모듈의 argv는 프로그램 실행 시 전달된 인수를 의미한다.\n",
    "\n",
    "즉, 다음과 같이 입력했다면 argv[0]은 파일 이름 sys1.py가 되고 argv[1]부터는 뒤에 따라오는 인수가 차례대로 argv의 요소가 된다."
   ]
  },
  {
   "cell_type": "code",
   "execution_count": 30,
   "id": "6819338b",
   "metadata": {},
   "outputs": [
    {
     "name": "stdout",
     "output_type": "stream",
     "text": [
      "-F C:\\USERS\\CHOYE\\APPDATA\\ROAMING\\JUPYTER\\RUNTIME\\KERNEL-A40A87E6-EA33-424F-BA68-0C3B44BF197F.JSON "
     ]
    }
   ],
   "source": [
    "import sys\n",
    "\n",
    "args = sys.argv[1:]\n",
    "\n",
    "for i in args:\n",
    "    print(i.upper(), end=' ')"
   ]
  }
 ],
 "metadata": {
  "kernelspec": {
   "display_name": "Python 3 (ipykernel)",
   "language": "python",
   "name": "python3"
  },
  "language_info": {
   "codemirror_mode": {
    "name": "ipython",
    "version": 3
   },
   "file_extension": ".py",
   "mimetype": "text/x-python",
   "name": "python",
   "nbconvert_exporter": "python",
   "pygments_lexer": "ipython3",
   "version": "3.11.3"
  }
 },
 "nbformat": 4,
 "nbformat_minor": 5
}
