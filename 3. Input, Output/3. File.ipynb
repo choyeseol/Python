{
 "cells": [
  {
   "cell_type": "markdown",
   "id": "ef5c7106",
   "metadata": {},
   "source": [
    "# 파일 읽고 쓰기"
   ]
  },
  {
   "cell_type": "code",
   "execution_count": null,
   "id": "c97b0ee2",
   "metadata": {},
   "outputs": [],
   "source": [
    "파일_객체 = open(파일_이름, 파일_열기_모드)"
   ]
  },
  {
   "cell_type": "markdown",
   "id": "77821eec",
   "metadata": {},
   "source": [
    "r\t읽기 모드: 파일을 읽기만 할 때 사용한다.\n",
    "\n",
    "w\t쓰기 모드: 파일에 내용을 쓸 때 사용한다.  \n",
    "\n",
    "a\t추가 모드: 파일의 마지막에 새로운 내용을 추가할 때 사용한다.  "
   ]
  },
  {
   "cell_type": "code",
   "execution_count": null,
   "id": "9a2fe3b9",
   "metadata": {},
   "outputs": [],
   "source": [
    "f = open('C:/Users/choye/OneDrive/test.txt', 'w')\n",
    "f.close()"
   ]
  },
  {
   "cell_type": "markdown",
   "id": "af5cda27",
   "metadata": {},
   "source": [
    "f.close()는 열려 있는 파일 객체를 닫아 주는 역할을 한다."
   ]
  },
  {
   "cell_type": "code",
   "execution_count": 2,
   "id": "4acb3828",
   "metadata": {},
   "outputs": [],
   "source": [
    "f = open('C:/Users/choye/OneDrive/test.txt', 'w')\n",
    "\n",
    "for i in range(1, 11):\n",
    "    data = \"%d번째 줄\\n\" % i\n",
    "    f.write(data)\n",
    "    \n",
    "f.close()"
   ]
  },
  {
   "cell_type": "markdown",
   "id": "2e3fdded",
   "metadata": {},
   "source": [
    " "
   ]
  },
  {
   "cell_type": "markdown",
   "id": "946dce21",
   "metadata": {},
   "source": [
    " "
   ]
  },
  {
   "cell_type": "markdown",
   "id": "9a24d30d",
   "metadata": {},
   "source": [
    " "
   ]
  },
  {
   "cell_type": "markdown",
   "id": "b1ed0886",
   "metadata": {},
   "source": [
    " "
   ]
  },
  {
   "cell_type": "markdown",
   "id": "f0e7c8f1",
   "metadata": {},
   "source": [
    "## 1. 파일을 읽는 여러 가지 방법"
   ]
  },
  {
   "cell_type": "markdown",
   "id": "e9e13e29",
   "metadata": {},
   "source": [
    "### 1.1 readline 함수"
   ]
  },
  {
   "cell_type": "code",
   "execution_count": 4,
   "id": "92c42c4a",
   "metadata": {},
   "outputs": [
    {
     "name": "stdout",
     "output_type": "stream",
     "text": [
      "1번째 줄\n",
      "\n"
     ]
    }
   ],
   "source": [
    "f = open('C:/Users/choye/OneDrive/test.txt', 'r')\n",
    "\n",
    "line = f.readline()\n",
    "\n",
    "print(line)\n",
    "\n",
    "f.close()"
   ]
  },
  {
   "cell_type": "code",
   "execution_count": 5,
   "id": "a2cdca07",
   "metadata": {},
   "outputs": [
    {
     "name": "stdout",
     "output_type": "stream",
     "text": [
      "1번째 줄\n",
      "\n",
      "2번째 줄\n",
      "\n",
      "3번째 줄\n",
      "\n",
      "4번째 줄\n",
      "\n",
      "5번째 줄\n",
      "\n",
      "6번째 줄\n",
      "\n",
      "7번째 줄\n",
      "\n",
      "8번째 줄\n",
      "\n",
      "9번째 줄\n",
      "\n",
      "10번째 줄\n",
      "\n"
     ]
    }
   ],
   "source": [
    "f = open('C:/Users/choye/OneDrive/test.txt', 'r')\n",
    "\n",
    "while True:\n",
    "    line = f.readline()\n",
    "    if not line: break\n",
    "    print(line)\n",
    "\n",
    "f.close()"
   ]
  },
  {
   "cell_type": "markdown",
   "id": "a71dd9ec",
   "metadata": {},
   "source": [
    "while True: 무한 루프 안에서 f.readline()을 사용해 파일을 읽어 들인다.  \n",
    "만약 더 이상 읽을 줄이 없으면 break를 수행한다.  \n",
    "(readline()은 더 이상 읽을 줄이 없을 경우, 빈 문자열('')을 리턴한다)."
   ]
  },
  {
   "cell_type": "markdown",
   "id": "b3e2ff87",
   "metadata": {},
   "source": [
    " "
   ]
  },
  {
   "cell_type": "markdown",
   "id": "fcce7052",
   "metadata": {},
   "source": [
    " "
   ]
  },
  {
   "cell_type": "markdown",
   "id": "a41379a3",
   "metadata": {},
   "source": [
    " "
   ]
  },
  {
   "cell_type": "markdown",
   "id": "4e44bd70",
   "metadata": {},
   "source": [
    " "
   ]
  },
  {
   "cell_type": "markdown",
   "id": "0fca93dd",
   "metadata": {},
   "source": [
    "### 1.2 readlines 함수"
   ]
  },
  {
   "cell_type": "code",
   "execution_count": 8,
   "id": "ab59bd80",
   "metadata": {},
   "outputs": [
    {
     "name": "stdout",
     "output_type": "stream",
     "text": [
      "1번째 줄\n",
      "\n",
      "2번째 줄\n",
      "\n",
      "3번째 줄\n",
      "\n",
      "4번째 줄\n",
      "\n",
      "5번째 줄\n",
      "\n",
      "6번째 줄\n",
      "\n",
      "7번째 줄\n",
      "\n",
      "8번째 줄\n",
      "\n",
      "9번째 줄\n",
      "\n",
      "10번째 줄\n",
      "\n"
     ]
    }
   ],
   "source": [
    "f = open('C:/Users/choye/OneDrive/test.txt', 'r')\n",
    "\n",
    "lines = f.readlines()\n",
    "\n",
    "for line in lines:\n",
    "    print(line)\n",
    "\n",
    "f.close()"
   ]
  },
  {
   "cell_type": "markdown",
   "id": "27af960d",
   "metadata": {},
   "source": [
    "readlines 함수는 파일의 모든 줄을 읽어서 각각의 줄을 요소로 가지는 리스트를 리턴한다.  \n",
    "따라서 위 예에서 lines는 리스트  \n",
    "[\"1번째 줄입니다.\\n\", \"2번째 줄입니다.\\n\", ..., \"10번째 줄입니다.\\n\"]가 된다."
   ]
  },
  {
   "cell_type": "markdown",
   "id": "af77994a",
   "metadata": {},
   "source": [
    "'s'를 주의하자."
   ]
  },
  {
   "cell_type": "markdown",
   "id": "cd53ce61",
   "metadata": {},
   "source": [
    " "
   ]
  },
  {
   "cell_type": "markdown",
   "id": "ffea54ba",
   "metadata": {},
   "source": [
    " "
   ]
  },
  {
   "cell_type": "markdown",
   "id": "966ff7c9",
   "metadata": {},
   "source": [
    " "
   ]
  },
  {
   "cell_type": "markdown",
   "id": "557ea8ba",
   "metadata": {},
   "source": [
    " "
   ]
  },
  {
   "cell_type": "markdown",
   "id": "94c54a70",
   "metadata": {},
   "source": [
    " "
   ]
  },
  {
   "cell_type": "markdown",
   "id": "d9f0d71c",
   "metadata": {},
   "source": [
    "#### 줄 바꿈 문자 제거하기"
   ]
  },
  {
   "cell_type": "code",
   "execution_count": 9,
   "id": "0cf67376",
   "metadata": {},
   "outputs": [
    {
     "name": "stdout",
     "output_type": "stream",
     "text": [
      "1번째 줄\n",
      "2번째 줄\n",
      "3번째 줄\n",
      "4번째 줄\n",
      "5번째 줄\n",
      "6번째 줄\n",
      "7번째 줄\n",
      "8번째 줄\n",
      "9번째 줄\n",
      "10번째 줄\n"
     ]
    }
   ],
   "source": [
    "f = open('C:/Users/choye/OneDrive/test.txt', 'r')\n",
    "\n",
    "lines = f.readlines()\n",
    "\n",
    "for line in lines:\n",
    "    line = line.strip()\n",
    "    print(line)\n",
    "\n",
    "f.close()"
   ]
  },
  {
   "cell_type": "markdown",
   "id": "e0e9dffc",
   "metadata": {},
   "source": [
    " "
   ]
  },
  {
   "cell_type": "markdown",
   "id": "959a7b40",
   "metadata": {},
   "source": [
    " "
   ]
  },
  {
   "cell_type": "markdown",
   "id": "afe297d8",
   "metadata": {},
   "source": [
    " "
   ]
  },
  {
   "cell_type": "markdown",
   "id": "edfae26c",
   "metadata": {},
   "source": [
    " "
   ]
  },
  {
   "cell_type": "markdown",
   "id": "bf6dc999",
   "metadata": {},
   "source": [
    " "
   ]
  },
  {
   "cell_type": "markdown",
   "id": "bd25b95b",
   "metadata": {},
   "source": [
    "### 1.3 read 함수"
   ]
  },
  {
   "cell_type": "code",
   "execution_count": 12,
   "id": "37b53821",
   "metadata": {},
   "outputs": [
    {
     "name": "stdout",
     "output_type": "stream",
     "text": [
      "1번째 줄\n",
      "\n",
      "2번째 줄\n",
      "\n",
      "3번째 줄\n",
      "\n",
      "4번째 줄\n",
      "\n",
      "5번째 줄\n",
      "\n",
      "6번째 줄\n",
      "\n",
      "7번째 줄\n",
      "\n",
      "8번째 줄\n",
      "\n",
      "9번째 줄\n",
      "\n",
      "10번째 줄\n",
      "\n"
     ]
    }
   ],
   "source": [
    "f = open('C:/Users/choye/OneDrive/test.txt', 'r')\n",
    "\n",
    "data = f.read()\n",
    "\n",
    "print(data)\n",
    "\n",
    "f.close()"
   ]
  },
  {
   "cell_type": "markdown",
   "id": "80def178",
   "metadata": {},
   "source": [
    "f.read()는 파일의 내용 전체를 문자열로 리턴한다. \n",
    "\n",
    "따라서 위 예의 data는 파일의 전체 내용이다."
   ]
  },
  {
   "cell_type": "markdown",
   "id": "fdf81351",
   "metadata": {},
   "source": [
    " "
   ]
  },
  {
   "cell_type": "markdown",
   "id": "2b28b349",
   "metadata": {},
   "source": [
    " "
   ]
  },
  {
   "cell_type": "markdown",
   "id": "6c298440",
   "metadata": {},
   "source": [
    " "
   ]
  },
  {
   "cell_type": "markdown",
   "id": "a8c495ea",
   "metadata": {},
   "source": [
    " "
   ]
  },
  {
   "cell_type": "markdown",
   "id": "071c5a17",
   "metadata": {},
   "source": [
    "#### for문과 함께 사용"
   ]
  },
  {
   "cell_type": "code",
   "execution_count": 12,
   "id": "3ef242b2",
   "metadata": {},
   "outputs": [
    {
     "name": "stdout",
     "output_type": "stream",
     "text": [
      "1번째 줄\n",
      "\n",
      "2번째 줄\n",
      "\n",
      "3번째 줄\n",
      "\n",
      "4번째 줄\n",
      "\n",
      "5번째 줄\n",
      "\n",
      "6번째 줄\n",
      "\n",
      "7번째 줄\n",
      "\n",
      "8번째 줄\n",
      "\n",
      "9번째 줄\n",
      "\n",
      "10번째 줄\n",
      "\n"
     ]
    }
   ],
   "source": [
    "f = open('C:/Users/choye/OneDrive/test.txt', 'r')\n",
    "\n",
    "for line in f:\n",
    "    print(line)\n",
    "\n",
    "f.close()"
   ]
  },
  {
   "cell_type": "markdown",
   "id": "4e1302da",
   "metadata": {},
   "source": [
    "for문과 함께 사용하면 파일을 줄 단위로 읽을 수 있다."
   ]
  },
  {
   "cell_type": "markdown",
   "id": "96be7cc3",
   "metadata": {},
   "source": [
    " "
   ]
  },
  {
   "cell_type": "markdown",
   "id": "3cf0713a",
   "metadata": {},
   "source": [
    " "
   ]
  },
  {
   "cell_type": "markdown",
   "id": "d763584f",
   "metadata": {},
   "source": [
    " "
   ]
  },
  {
   "cell_type": "markdown",
   "id": "7d34f9c0",
   "metadata": {},
   "source": [
    " "
   ]
  },
  {
   "cell_type": "markdown",
   "id": "b410d0e5",
   "metadata": {},
   "source": [
    "#### 파일에 새로운 내용 추가하기"
   ]
  },
  {
   "cell_type": "markdown",
   "id": "e0ed943f",
   "metadata": {},
   "source": [
    " 쓰기 모드('w')로 이미 존재하는 파일을 열면, 파일의 내용이 다 사라지게된다.\n",
    "    \n",
    "\n",
    "원래 있던 값을 유지하고, 새로운 값을 추가 하고싶다면 파일을 추가 모드('a')로 열면 된다."
   ]
  },
  {
   "cell_type": "code",
   "execution_count": 14,
   "id": "5354172c",
   "metadata": {},
   "outputs": [],
   "source": [
    "f = open('C:/Users/choye/OneDrive/test.txt','a')\n",
    "\n",
    "for i in range(11, 20):\n",
    "    data = \"%d번째 줄\\n\" % i\n",
    "    f.write(data)\n",
    "\n",
    "f.close()"
   ]
  },
  {
   "cell_type": "code",
   "execution_count": 17,
   "id": "4412d105",
   "metadata": {},
   "outputs": [
    {
     "name": "stdout",
     "output_type": "stream",
     "text": [
      "1번째 줄\n",
      "\n",
      "2번째 줄\n",
      "\n",
      "3번째 줄\n",
      "\n",
      "4번째 줄\n",
      "\n",
      "5번째 줄\n",
      "\n",
      "6번째 줄\n",
      "\n",
      "7번째 줄\n",
      "\n",
      "8번째 줄\n",
      "\n",
      "9번째 줄\n",
      "\n",
      "10번째 줄\n",
      "\n",
      "11번째 줄\n",
      "\n",
      "12번째 줄\n",
      "\n",
      "13번째 줄\n",
      "\n",
      "14번째 줄\n",
      "\n",
      "15번째 줄\n",
      "\n",
      "16번째 줄\n",
      "\n",
      "17번째 줄\n",
      "\n",
      "18번째 줄\n",
      "\n",
      "19번째 줄\n",
      "\n"
     ]
    }
   ],
   "source": [
    "f = open('C:/Users/choye/OneDrive/test.txt', 'r')\n",
    "\n",
    "while True:\n",
    "    data = f.readline()\n",
    "    if not data: break\n",
    "    print(data)\n",
    "\n",
    "f.close()"
   ]
  },
  {
   "cell_type": "markdown",
   "id": "0c015221",
   "metadata": {},
   "source": [
    " "
   ]
  },
  {
   "cell_type": "markdown",
   "id": "343d7521",
   "metadata": {},
   "source": [
    " "
   ]
  },
  {
   "cell_type": "markdown",
   "id": "e7d3876e",
   "metadata": {},
   "source": [
    " "
   ]
  },
  {
   "cell_type": "markdown",
   "id": "1005f8d3",
   "metadata": {},
   "source": [
    " "
   ]
  },
  {
   "cell_type": "markdown",
   "id": "135c5d87",
   "metadata": {},
   "source": [
    "#### with문과 함께 사용"
   ]
  },
  {
   "cell_type": "code",
   "execution_count": 19,
   "id": "6f5b7d36",
   "metadata": {},
   "outputs": [],
   "source": [
    "with open('test.txt', \"w\") as f:\n",
    "    f.write('Hello World!')"
   ]
  },
  {
   "cell_type": "markdown",
   "id": "7d0e9bb1",
   "metadata": {},
   "source": [
    "with 문을 사용하면 with 블록(with 문에 속해 있는 문장)을 벗어나는 순간, 열린 파일 객체 f가 자동으로 닫힌다."
   ]
  }
 ],
 "metadata": {
  "kernelspec": {
   "display_name": "Python 3 (ipykernel)",
   "language": "python",
   "name": "python3"
  },
  "language_info": {
   "codemirror_mode": {
    "name": "ipython",
    "version": 3
   },
   "file_extension": ".py",
   "mimetype": "text/x-python",
   "name": "python",
   "nbconvert_exporter": "python",
   "pygments_lexer": "ipython3",
   "version": "3.11.3"
  }
 },
 "nbformat": 4,
 "nbformat_minor": 5
}
