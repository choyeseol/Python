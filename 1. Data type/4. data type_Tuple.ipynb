{
 "cells": [
  {
   "cell_type": "markdown",
   "id": "69ab1836",
   "metadata": {},
   "source": [
    "# 자료형 - 튜플 (tuple)\n",
    "\n",
    "리스트와 거의 비슷하지만 다른 점은 아래와 같다.\n",
    "- 리스트는 [], 튜플은 {}\n",
    "- 리스트는 요소값을 생성, 수정, 삭제 할 수 있지만, 튜플은 요솟값을 바꿀 수 없다."
   ]
  },
  {
   "cell_type": "code",
   "execution_count": 3,
   "id": "d409bb2f",
   "metadata": {},
   "outputs": [],
   "source": [
    "t1 = () # 빈 튜플\n",
    "t2 = (1,) # 1개의 요소, 하나의 요소만을 가질 땐 쉼표를 반드시 붙여야한다.\n",
    "t3 = (1, 2, 3) \n",
    "t4 = 1, 2, 3 # 소괄호 생략 가능\n",
    "t5 = ('a', 'b', ('ab', 'cd')) # 이중 튜플"
   ]
  },
  {
   "cell_type": "markdown",
   "id": "ac88c144",
   "metadata": {},
   "source": [
    "튜플과 리스트는 비슷한 역할을하지만, 프로그래밍을 할 땐 구별해서 사용하는것이 유리.  \n",
    "\n",
    "요솟값이 변하지 않기를 바란다면 튜플을 사용하고,\n",
    "\n",
    "수시로 변화시키고 싶다면 리스트를 사용해야한다."
   ]
  },
  {
   "cell_type": "markdown",
   "id": "56254b01",
   "metadata": {},
   "source": [
    " "
   ]
  },
  {
   "cell_type": "markdown",
   "id": "629b96d1",
   "metadata": {},
   "source": [
    "튜플 요솟값 삭제"
   ]
  },
  {
   "cell_type": "code",
   "execution_count": 4,
   "id": "b8901298",
   "metadata": {},
   "outputs": [
    {
     "ename": "TypeError",
     "evalue": "'tuple' object doesn't support item deletion",
     "output_type": "error",
     "traceback": [
      "\u001b[1;31m---------------------------------------------------------------------------\u001b[0m",
      "\u001b[1;31mTypeError\u001b[0m                                 Traceback (most recent call last)",
      "Cell \u001b[1;32mIn[4], line 3\u001b[0m\n\u001b[0;32m      1\u001b[0m t \u001b[38;5;241m=\u001b[39m (\u001b[38;5;241m1\u001b[39m, \u001b[38;5;241m2\u001b[39m)\n\u001b[1;32m----> 3\u001b[0m \u001b[38;5;28;01mdel\u001b[39;00m t[\u001b[38;5;241m1\u001b[39m]\n",
      "\u001b[1;31mTypeError\u001b[0m: 'tuple' object doesn't support item deletion"
     ]
    }
   ],
   "source": [
    "t = (1, 2)\n",
    "\n",
    "del t[1]"
   ]
  },
  {
   "cell_type": "markdown",
   "id": "3e822d65",
   "metadata": {},
   "source": [
    "튜플 요솟값 수정"
   ]
  },
  {
   "cell_type": "code",
   "execution_count": 5,
   "id": "97f3d4ee",
   "metadata": {},
   "outputs": [
    {
     "ename": "TypeError",
     "evalue": "'tuple' object does not support item assignment",
     "output_type": "error",
     "traceback": [
      "\u001b[1;31m---------------------------------------------------------------------------\u001b[0m",
      "\u001b[1;31mTypeError\u001b[0m                                 Traceback (most recent call last)",
      "Cell \u001b[1;32mIn[5], line 3\u001b[0m\n\u001b[0;32m      1\u001b[0m t \u001b[38;5;241m=\u001b[39m (\u001b[38;5;241m1\u001b[39m, \u001b[38;5;241m2\u001b[39m)\n\u001b[1;32m----> 3\u001b[0m t[\u001b[38;5;241m1\u001b[39m] \u001b[38;5;241m=\u001b[39m \u001b[38;5;241m3\u001b[39m\n",
      "\u001b[1;31mTypeError\u001b[0m: 'tuple' object does not support item assignment"
     ]
    }
   ],
   "source": [
    "t = (1, 2)\n",
    "\n",
    "t[1] = 3"
   ]
  },
  {
   "cell_type": "markdown",
   "id": "28bd9a67",
   "metadata": {},
   "source": [
    "위와 같이 튜플은 요솟값을 변경할 수 없다."
   ]
  },
  {
   "cell_type": "markdown",
   "id": "4cc38c4c",
   "metadata": {},
   "source": [
    " "
   ]
  },
  {
   "cell_type": "markdown",
   "id": "ad5a7186",
   "metadata": {},
   "source": [
    " "
   ]
  },
  {
   "cell_type": "markdown",
   "id": "f9feedfb",
   "metadata": {},
   "source": [
    " "
   ]
  },
  {
   "cell_type": "markdown",
   "id": "2df730a2",
   "metadata": {},
   "source": [
    " "
   ]
  },
  {
   "cell_type": "markdown",
   "id": "8f7551ac",
   "metadata": {},
   "source": [
    "## 1. 튜플 다루기 "
   ]
  },
  {
   "cell_type": "markdown",
   "id": "10caa877",
   "metadata": {},
   "source": [
    " "
   ]
  },
  {
   "cell_type": "markdown",
   "id": "8981a8c1",
   "metadata": {},
   "source": [
    "#### 1.1 인덱싱"
   ]
  },
  {
   "cell_type": "code",
   "execution_count": 6,
   "id": "7b3c323a",
   "metadata": {},
   "outputs": [
    {
     "name": "stdout",
     "output_type": "stream",
     "text": [
      "2\n"
     ]
    }
   ],
   "source": [
    "t = (1, 2, 3)\n",
    " \n",
    "print(t[1])"
   ]
  },
  {
   "cell_type": "markdown",
   "id": "4384df53",
   "metadata": {},
   "source": [
    "#### 1.2 슬라이싱"
   ]
  },
  {
   "cell_type": "code",
   "execution_count": 9,
   "id": "a448a612",
   "metadata": {},
   "outputs": [
    {
     "name": "stdout",
     "output_type": "stream",
     "text": [
      "(1, 2, 3)\n",
      "(1, 2, 3)\n"
     ]
    }
   ],
   "source": [
    "t = (1, 2, 3 ,4)\n",
    "\n",
    "print(t[:3])\n",
    "print(t[0:3])"
   ]
  },
  {
   "cell_type": "markdown",
   "id": "c4feb7ed",
   "metadata": {},
   "source": [
    "#### 1.3 튜플 연산하기"
   ]
  },
  {
   "cell_type": "markdown",
   "id": "0bac3aa9",
   "metadata": {},
   "source": [
    "- 더하기"
   ]
  },
  {
   "cell_type": "code",
   "execution_count": 10,
   "id": "bf970c25",
   "metadata": {},
   "outputs": [
    {
     "name": "stdout",
     "output_type": "stream",
     "text": [
      "(1, 2, 'a', 'b', 3, 4)\n"
     ]
    }
   ],
   "source": [
    "t = (1, 2, 'a', 'b')\n",
    "t1 = (3, 4)\n",
    "\n",
    "print(t + t1)"
   ]
  },
  {
   "cell_type": "markdown",
   "id": "58a4098b",
   "metadata": {},
   "source": [
    "- 곱하기"
   ]
  },
  {
   "cell_type": "code",
   "execution_count": 11,
   "id": "e0f63b4a",
   "metadata": {},
   "outputs": [
    {
     "name": "stdout",
     "output_type": "stream",
     "text": [
      "(1, 2, 'a', 'b', 1, 2, 'a', 'b', 1, 2, 'a', 'b')\n"
     ]
    }
   ],
   "source": [
    "print(t * 3)"
   ]
  },
  {
   "cell_type": "markdown",
   "id": "f2486c9a",
   "metadata": {},
   "source": [
    "#### 1.4 튜플 길이 구하기"
   ]
  },
  {
   "cell_type": "code",
   "execution_count": 12,
   "id": "f8cd9a43",
   "metadata": {},
   "outputs": [
    {
     "data": {
      "text/plain": [
       "4"
      ]
     },
     "execution_count": 12,
     "metadata": {},
     "output_type": "execute_result"
    }
   ],
   "source": [
    "t = (1, 2, 3, 4)\n",
    "\n",
    "len(t)"
   ]
  },
  {
   "cell_type": "markdown",
   "id": "fcad06c9",
   "metadata": {},
   "source": [
    " "
   ]
  },
  {
   "cell_type": "markdown",
   "id": "e4b0a512",
   "metadata": {},
   "source": [
    " "
   ]
  },
  {
   "cell_type": "markdown",
   "id": "9d5261d9",
   "metadata": {},
   "source": [
    " "
   ]
  },
  {
   "cell_type": "markdown",
   "id": "b24c7e0b",
   "metadata": {},
   "source": [
    "튜플은 요솟값을 변경할수 없기 때문에 sort, insert, remove, pop과 같은 내장 함수가 없다."
   ]
  }
 ],
 "metadata": {
  "kernelspec": {
   "display_name": "Python 3 (ipykernel)",
   "language": "python",
   "name": "python3"
  },
  "language_info": {
   "codemirror_mode": {
    "name": "ipython",
    "version": 3
   },
   "file_extension": ".py",
   "mimetype": "text/x-python",
   "name": "python",
   "nbconvert_exporter": "python",
   "pygments_lexer": "ipython3",
   "version": "3.11.3"
  }
 },
 "nbformat": 4,
 "nbformat_minor": 5
}
