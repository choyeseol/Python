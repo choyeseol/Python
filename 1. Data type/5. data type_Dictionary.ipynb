{
 "cells": [
  {
   "cell_type": "markdown",
   "id": "b9502c0a",
   "metadata": {},
   "source": [
    "# 자료형 - 딕셔너리 (Dictionary)"
   ]
  },
  {
   "cell_type": "markdown",
   "id": "1abf0b5f",
   "metadata": {},
   "source": [
    " - 말 그대로 '사전'이라는 뜻,\n",
    " \n",
    " {key1: value1, key2: value2, key3: value3, ...}"
   ]
  },
  {
   "cell_type": "markdown",
   "id": "1c60d707",
   "metadata": {},
   "source": [
    " "
   ]
  },
  {
   "cell_type": "code",
   "execution_count": 1,
   "id": "ac37b406",
   "metadata": {},
   "outputs": [
    {
     "name": "stdout",
     "output_type": "stream",
     "text": [
      "yeseol\n"
     ]
    }
   ],
   "source": [
    "dic = {'name': 'yeseol', 'phone': '010-1234-5678', 'birth': '1117'}\n",
    "\n",
    "print(dic['name'])"
   ]
  },
  {
   "cell_type": "markdown",
   "id": "1653b937",
   "metadata": {},
   "source": [
    "key에는 리스트를 넣을 수 없다. (수시로 변할 수 있기 때문이당당당당) (튜플은 가능하다.)\n",
    "\n",
    "vlaue에는 리스트와 튜플을 넣을 수 있다."
   ]
  },
  {
   "cell_type": "code",
   "execution_count": 5,
   "id": "dd63c76f",
   "metadata": {},
   "outputs": [
    {
     "name": "stdout",
     "output_type": "stream",
     "text": [
      "Hello\n",
      "[1, 2, 3]\n",
      "(1, 2, 3)\n"
     ]
    }
   ],
   "source": [
    "a = {1: 'Hello'}\n",
    "b = {'a': [1, 2, 3]}\n",
    "c = {'가': (1, 2, 3)}\n",
    "\n",
    "print(a[1])\n",
    "print(b['a'])\n",
    "print(c['가'])"
   ]
  },
  {
   "cell_type": "markdown",
   "id": "f3e46e42",
   "metadata": {},
   "source": [
    " "
   ]
  },
  {
   "cell_type": "markdown",
   "id": "e4a3e467",
   "metadata": {},
   "source": [
    "- 주의사항 "
   ]
  },
  {
   "cell_type": "code",
   "execution_count": 6,
   "id": "1cace0ae",
   "metadata": {},
   "outputs": [
    {
     "name": "stdout",
     "output_type": "stream",
     "text": [
      "b\n"
     ]
    }
   ],
   "source": [
    "a = {1: 'a', 1: 'b'}\n",
    "\n",
    "print(a[1])"
   ]
  },
  {
   "cell_type": "markdown",
   "id": "85569c59",
   "metadata": {},
   "source": [
    "동일한 key가 2개일 경우, 1개를 제외한 모든 key:value 값은 무시된다."
   ]
  },
  {
   "cell_type": "code",
   "execution_count": 7,
   "id": "c7321702",
   "metadata": {},
   "outputs": [
    {
     "ename": "TypeError",
     "evalue": "unhashable type: 'list'",
     "output_type": "error",
     "traceback": [
      "\u001b[1;31m---------------------------------------------------------------------------\u001b[0m",
      "\u001b[1;31mTypeError\u001b[0m                                 Traceback (most recent call last)",
      "Cell \u001b[1;32mIn[7], line 1\u001b[0m\n\u001b[1;32m----> 1\u001b[0m a \u001b[38;5;241m=\u001b[39m {[\u001b[38;5;241m1\u001b[39m,\u001b[38;5;241m2\u001b[39m] : \u001b[38;5;124m'\u001b[39m\u001b[38;5;124mHello\u001b[39m\u001b[38;5;124m'\u001b[39m}\n",
      "\u001b[1;31mTypeError\u001b[0m: unhashable type: 'list'"
     ]
    }
   ],
   "source": [
    "a = {[1,2] : 'Hello'}"
   ]
  },
  {
   "cell_type": "markdown",
   "id": "1cb46e8c",
   "metadata": {},
   "source": [
    "key 값으로 리스트를 사용할 수 없다. 리스트는 수시로 변할 수 있기 때문이다."
   ]
  },
  {
   "cell_type": "markdown",
   "id": "8ff0a89b",
   "metadata": {},
   "source": [
    " "
   ]
  },
  {
   "cell_type": "markdown",
   "id": "b44caa86",
   "metadata": {},
   "source": [
    " "
   ]
  },
  {
   "cell_type": "markdown",
   "id": "fd174e7b",
   "metadata": {},
   "source": [
    " "
   ]
  },
  {
   "cell_type": "markdown",
   "id": "ca137ed2",
   "metadata": {},
   "source": [
    " "
   ]
  },
  {
   "cell_type": "markdown",
   "id": "4f5b59d9",
   "metadata": {},
   "source": [
    " "
   ]
  },
  {
   "cell_type": "markdown",
   "id": "e7336897",
   "metadata": {},
   "source": [
    "## 1. 딕셔너리 관련 함수"
   ]
  },
  {
   "cell_type": "markdown",
   "id": "f5137b73",
   "metadata": {},
   "source": [
    "#### 1.1 key 리스트 만들기 - keys"
   ]
  },
  {
   "cell_type": "code",
   "execution_count": 10,
   "id": "847fe971",
   "metadata": {},
   "outputs": [
    {
     "data": {
      "text/plain": [
       "dict_keys(['name', 'phone', 'birth'])"
      ]
     },
     "execution_count": 10,
     "metadata": {},
     "output_type": "execute_result"
    }
   ],
   "source": [
    "a = {'name': 'yeseol', 'phone': '010-1234-5678', 'birth': '1117'}\n",
    "\n",
    "a.keys()"
   ]
  },
  {
   "cell_type": "markdown",
   "id": "4db26c77",
   "metadata": {},
   "source": [
    "dict_keys 자체를 리스트로 변환하려면 리스트 변환 함수를 사용하면 된다."
   ]
  },
  {
   "cell_type": "code",
   "execution_count": 13,
   "id": "e41749cd",
   "metadata": {},
   "outputs": [
    {
     "data": {
      "text/plain": [
       "['name', 'phone', 'birth']"
      ]
     },
     "execution_count": 13,
     "metadata": {},
     "output_type": "execute_result"
    }
   ],
   "source": [
    "list(a.keys())"
   ]
  },
  {
   "cell_type": "markdown",
   "id": "5adc0d6b",
   "metadata": {},
   "source": [
    " "
   ]
  },
  {
   "cell_type": "markdown",
   "id": "a8e93736",
   "metadata": {},
   "source": [
    "#### 1.2 value 리스트 만들기 - values"
   ]
  },
  {
   "cell_type": "code",
   "execution_count": 14,
   "id": "82e6c50b",
   "metadata": {},
   "outputs": [
    {
     "data": {
      "text/plain": [
       "dict_values(['yeseol', '010-1234-5678', '1117'])"
      ]
     },
     "execution_count": 14,
     "metadata": {},
     "output_type": "execute_result"
    }
   ],
   "source": [
    "a = {'name': 'yeseol', 'phone': '010-1234-5678', 'birth': '1117'}\n",
    "\n",
    "a.values()"
   ]
  },
  {
   "cell_type": "code",
   "execution_count": 17,
   "id": "1b64b061",
   "metadata": {},
   "outputs": [
    {
     "data": {
      "text/plain": [
       "['yeseol', '010-1234-5678', '1117']"
      ]
     },
     "execution_count": 17,
     "metadata": {},
     "output_type": "execute_result"
    }
   ],
   "source": [
    "list(a.values())"
   ]
  },
  {
   "cell_type": "markdown",
   "id": "6eb2f603",
   "metadata": {},
   "source": [
    " "
   ]
  },
  {
   "cell_type": "markdown",
   "id": "217f3c55",
   "metadata": {},
   "source": [
    "#### 1.3 key: value 쌍 얻기 - items"
   ]
  },
  {
   "cell_type": "code",
   "execution_count": 15,
   "id": "71cc1df3",
   "metadata": {},
   "outputs": [
    {
     "data": {
      "text/plain": [
       "dict_items([('name', 'yeseol'), ('phone', '010-1234-5678'), ('birth', '1117')])"
      ]
     },
     "execution_count": 15,
     "metadata": {},
     "output_type": "execute_result"
    }
   ],
   "source": [
    "a = {'name': 'yeseol', 'phone': '010-1234-5678', 'birth': '1117'}\n",
    "\n",
    "a.items()"
   ]
  },
  {
   "cell_type": "code",
   "execution_count": 16,
   "id": "57d7eaea",
   "metadata": {
    "scrolled": true
   },
   "outputs": [
    {
     "data": {
      "text/plain": [
       "[('name', 'yeseol'), ('phone', '010-1234-5678'), ('birth', '1117')]"
      ]
     },
     "execution_count": 16,
     "metadata": {},
     "output_type": "execute_result"
    }
   ],
   "source": [
    "list(a.items())"
   ]
  },
  {
   "cell_type": "markdown",
   "id": "8f9ebb77",
   "metadata": {},
   "source": [
    " "
   ]
  },
  {
   "cell_type": "markdown",
   "id": "d2236599",
   "metadata": {},
   "source": [
    "#### 1.4 key: value 쌍 모두 지우기 - clear"
   ]
  },
  {
   "cell_type": "code",
   "execution_count": 18,
   "id": "443c0f39",
   "metadata": {},
   "outputs": [
    {
     "name": "stdout",
     "output_type": "stream",
     "text": [
      "{}\n"
     ]
    }
   ],
   "source": [
    "a. clear()\n",
    "print(a)"
   ]
  },
  {
   "cell_type": "markdown",
   "id": "53079232",
   "metadata": {},
   "source": [
    " "
   ]
  },
  {
   "cell_type": "markdown",
   "id": "f87c3ba6",
   "metadata": {},
   "source": [
    "#### key로 value 얻기 - get"
   ]
  },
  {
   "cell_type": "code",
   "execution_count": 20,
   "id": "a48ad0c4",
   "metadata": {},
   "outputs": [
    {
     "data": {
      "text/plain": [
       "'1117'"
      ]
     },
     "execution_count": 20,
     "metadata": {},
     "output_type": "execute_result"
    }
   ],
   "source": [
    "a = {'name': 'yeseol', 'phone': '010-1234-5678', 'birth': '1117'}\n",
    "\n",
    "a.get('birth')"
   ]
  },
  {
   "cell_type": "markdown",
   "id": "32d7e484",
   "metadata": {},
   "source": [
    "get(x) 함수 = x라는 Key에 대응되는 Value를 리턴한다. \n",
    "\n",
    "a.get('birth')은 a['birth']을 사용했을 때와 동일한 결괏값을 리턴한다.\n",
    "그렇다면 왜 get() 함수를 사용할까?\n"
   ]
  },
  {
   "cell_type": "markdown",
   "id": "f3ca0e00",
   "metadata": {},
   "source": [
    " "
   ]
  },
  {
   "cell_type": "markdown",
   "id": "7bbcb158",
   "metadata": {},
   "source": [
    "a['no']처럼 딕셔너리에 존재하지 않는 key를 가져올 경우, a['no'] 방식은 오류를 발생시킨다.\n",
    "\n",
    "하지만 get() 함수의 a.get('no') 방식은 None을 리턴시킨다."
   ]
  },
  {
   "cell_type": "code",
   "execution_count": 25,
   "id": "95a326dd",
   "metadata": {},
   "outputs": [
    {
     "name": "stdout",
     "output_type": "stream",
     "text": [
      "1\n"
     ]
    },
    {
     "ename": "KeyError",
     "evalue": "'no'",
     "output_type": "error",
     "traceback": [
      "\u001b[1;31m---------------------------------------------------------------------------\u001b[0m",
      "\u001b[1;31mKeyError\u001b[0m                                  Traceback (most recent call last)",
      "Cell \u001b[1;32mIn[25], line 4\u001b[0m\n\u001b[0;32m      1\u001b[0m a \u001b[38;5;241m=\u001b[39m {\u001b[38;5;124m'\u001b[39m\u001b[38;5;124ma\u001b[39m\u001b[38;5;124m'\u001b[39m : \u001b[38;5;241m1\u001b[39m}\n\u001b[0;32m      3\u001b[0m \u001b[38;5;28mprint\u001b[39m(a[\u001b[38;5;124m'\u001b[39m\u001b[38;5;124ma\u001b[39m\u001b[38;5;124m'\u001b[39m])\n\u001b[1;32m----> 4\u001b[0m \u001b[38;5;28mprint\u001b[39m(a[\u001b[38;5;124m'\u001b[39m\u001b[38;5;124mno\u001b[39m\u001b[38;5;124m'\u001b[39m])\n",
      "\u001b[1;31mKeyError\u001b[0m: 'no'"
     ]
    }
   ],
   "source": [
    "a = {'a' : 1}\n",
    "\n",
    "print(a['a'])\n",
    "print(a['no'])"
   ]
  },
  {
   "cell_type": "code",
   "execution_count": 26,
   "id": "8bf8800e",
   "metadata": {},
   "outputs": [
    {
     "name": "stdout",
     "output_type": "stream",
     "text": [
      "None\n"
     ]
    }
   ],
   "source": [
    "a = {'a' : 1}\n",
    "\n",
    "print(a.get('no'))"
   ]
  },
  {
   "cell_type": "markdown",
   "id": "d3c7fa38",
   "metadata": {},
   "source": [
    " "
   ]
  },
  {
   "cell_type": "markdown",
   "id": "54f342da",
   "metadata": {},
   "source": [
    "#### 1.5 해당 key가 딕셔너리 안에 존재하는지 확인하기 - in"
   ]
  },
  {
   "cell_type": "code",
   "execution_count": 27,
   "id": "d1807fd2",
   "metadata": {},
   "outputs": [
    {
     "data": {
      "text/plain": [
       "True"
      ]
     },
     "execution_count": 27,
     "metadata": {},
     "output_type": "execute_result"
    }
   ],
   "source": [
    "a = {'name': 'yeseol', 'phone': '010-1234-5678', 'birth': '1117'}\n",
    "\n",
    "'birth' in a"
   ]
  },
  {
   "cell_type": "code",
   "execution_count": 28,
   "id": "c7e8a2ee",
   "metadata": {},
   "outputs": [
    {
     "data": {
      "text/plain": [
       "False"
      ]
     },
     "execution_count": 28,
     "metadata": {},
     "output_type": "execute_result"
    }
   ],
   "source": [
    "'age' in a"
   ]
  },
  {
   "cell_type": "markdown",
   "id": "8ac06502",
   "metadata": {},
   "source": [
    "해당 key가 딕셔너리 안에 존재한다면 True,\n",
    "\n",
    "존재하지 않는다면 False를 리턴한다."
   ]
  }
 ],
 "metadata": {
  "kernelspec": {
   "display_name": "Python 3 (ipykernel)",
   "language": "python",
   "name": "python3"
  },
  "language_info": {
   "codemirror_mode": {
    "name": "ipython",
    "version": 3
   },
   "file_extension": ".py",
   "mimetype": "text/x-python",
   "name": "python",
   "nbconvert_exporter": "python",
   "pygments_lexer": "ipython3",
   "version": "3.11.3"
  }
 },
 "nbformat": 4,
 "nbformat_minor": 5
}
