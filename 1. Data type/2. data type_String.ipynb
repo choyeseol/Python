{
 "cells": [
  {
   "cell_type": "markdown",
   "id": "ef1ca35f",
   "metadata": {},
   "source": [
    "# 자료형 - 문자열 (string)\n",
    "- 문자열(srting) = 문자들의 집합"
   ]
  },
  {
   "cell_type": "markdown",
   "id": "5480e599",
   "metadata": {},
   "source": [
    " "
   ]
  },
  {
   "cell_type": "markdown",
   "id": "7720a72d",
   "metadata": {},
   "source": [
    " "
   ]
  },
  {
   "cell_type": "markdown",
   "id": "0a5f9b71",
   "metadata": {},
   "source": [
    "## 1. 문자열 만드는 방법 !!"
   ]
  },
  {
   "cell_type": "code",
   "execution_count": 3,
   "id": "f444bb13",
   "metadata": {},
   "outputs": [
    {
     "name": "stdout",
     "output_type": "stream",
     "text": [
      "Hello World!\n",
      "Hello World!\n",
      "Hello World!\n",
      "Hello World!\n"
     ]
    }
   ],
   "source": [
    "print(\"Hello World!\") # 1. 큰따옴표\n",
    "print('Hello World!') # 2. 작은따옴표\n",
    "print(\"\"\"Hello World!\"\"\") # 3. 큰따옴표 3개\n",
    "print('''Hello World!''') # 4. 작은 따옴표 3개"
   ]
  },
  {
   "cell_type": "markdown",
   "id": "af431f63",
   "metadata": {},
   "source": [
    " "
   ]
  },
  {
   "cell_type": "markdown",
   "id": "4cbec85c",
   "metadata": {},
   "source": [
    " "
   ]
  },
  {
   "cell_type": "markdown",
   "id": "4016e6a2",
   "metadata": {},
   "source": [
    " "
   ]
  },
  {
   "cell_type": "markdown",
   "id": "70bbd481",
   "metadata": {},
   "source": [
    " "
   ]
  },
  {
   "cell_type": "markdown",
   "id": "44e6cd10",
   "metadata": {},
   "source": [
    "## 2. 문자열 안에 따옴표 넣을 때"
   ]
  },
  {
   "cell_type": "markdown",
   "id": "fe461d60",
   "metadata": {},
   "source": [
    "- 작은따옴표 포함하기"
   ]
  },
  {
   "cell_type": "code",
   "execution_count": 5,
   "id": "101e6170",
   "metadata": {},
   "outputs": [
    {
     "name": "stdout",
     "output_type": "stream",
     "text": [
      "I'm happy!\n",
      "I'm happy!\n"
     ]
    }
   ],
   "source": [
    "print(\"I'm happy!\") # 큰따옴표로 감싸기\n",
    "print('I\\'m happy!') # '\\' 이용하기"
   ]
  },
  {
   "cell_type": "markdown",
   "id": "13433b39",
   "metadata": {},
   "source": [
    "- 큰따옴표 포함하기"
   ]
  },
  {
   "cell_type": "code",
   "execution_count": 7,
   "id": "0a0f1f82",
   "metadata": {
    "scrolled": true
   },
   "outputs": [
    {
     "name": "stdout",
     "output_type": "stream",
     "text": [
      "\"I like you\" she says.\n",
      "\"I like you\" she says.\n"
     ]
    }
   ],
   "source": [
    "print('\"I like you\" she says.') # 작은따옴표로 감싸기\n",
    "print('\\\"I like you\\\" she says.') # '\\' 이용하기"
   ]
  },
  {
   "cell_type": "markdown",
   "id": "fde36b21",
   "metadata": {},
   "source": [
    " "
   ]
  },
  {
   "cell_type": "markdown",
   "id": "f2a2c974",
   "metadata": {},
   "source": [
    " "
   ]
  },
  {
   "cell_type": "markdown",
   "id": "e894e967",
   "metadata": {},
   "source": [
    " "
   ]
  },
  {
   "cell_type": "markdown",
   "id": "5248fed6",
   "metadata": {},
   "source": [
    " "
   ]
  },
  {
   "cell_type": "markdown",
   "id": "f8d71a29",
   "metadata": {},
   "source": [
    "## 3. 줄바꿈"
   ]
  },
  {
   "cell_type": "markdown",
   "id": "7fa9cfcc",
   "metadata": {},
   "source": [
    "- 이스케이프 문자로 줄 바꿈하기"
   ]
  },
  {
   "cell_type": "code",
   "execution_count": 8,
   "id": "d43cf356",
   "metadata": {},
   "outputs": [
    {
     "name": "stdout",
     "output_type": "stream",
     "text": [
      "Fake friends belive in rumors,\n",
      "Real friends belive in you\n"
     ]
    }
   ],
   "source": [
    "print('Fake friends belive in rumors,\\nReal friends belive in you') \n",
    "# 줄바꿈을 하고자하는 부분에 '\\n' 붙여넣기"
   ]
  },
  {
   "cell_type": "markdown",
   "id": "a6dc972c",
   "metadata": {},
   "source": [
    " "
   ]
  },
  {
   "cell_type": "markdown",
   "id": "8c65f6b8",
   "metadata": {},
   "source": [
    "- 따옴표로 줄 바꿈하기"
   ]
  },
  {
   "cell_type": "code",
   "execution_count": 11,
   "id": "0041202d",
   "metadata": {},
   "outputs": [
    {
     "name": "stdout",
     "output_type": "stream",
     "text": [
      "\n",
      "Fake friends belive in rumors,\n",
      "Real friends belive in you\n",
      "\n"
     ]
    }
   ],
   "source": [
    "multiline = '''\n",
    "Fake friends belive in rumors,\n",
    "Real friends belive in you\n",
    "'''\n",
    "print(multiline) "
   ]
  },
  {
   "cell_type": "markdown",
   "id": "a18b0942",
   "metadata": {},
   "source": [
    "큰따옴표 혹은 작은 따옴표를 사용해 줄바꿈을 할 수 있다.\n",
    "\n",
    "문자열의 길이가 길고 줄바꿈이 많다면 이스케이프 코드를 쓰는 것 보다 따옴표를 사용하는 것이 더 깔끔하다."
   ]
  },
  {
   "cell_type": "markdown",
   "id": "5a078dc3",
   "metadata": {},
   "source": [
    " "
   ]
  },
  {
   "cell_type": "markdown",
   "id": "512d8eb7",
   "metadata": {},
   "source": [
    " "
   ]
  },
  {
   "cell_type": "markdown",
   "id": "e0fe3781",
   "metadata": {},
   "source": [
    " "
   ]
  },
  {
   "cell_type": "markdown",
   "id": "f59a26db",
   "metadata": {},
   "source": [
    "### 이스케이프 코드"
   ]
  },
  {
   "cell_type": "markdown",
   "id": "07823b3e",
   "metadata": {},
   "source": [
    "- 이스케이프 코드 = 프로그래밍 할 때 사용할 수 있도록 미리 정의해둔 '문자 조합'\n",
    "\n",
    "(주로 출력물을 보기 좋게 정렬하는 용도로 사용)"
   ]
  },
  {
   "cell_type": "markdown",
   "id": "2706410e",
   "metadata": {},
   "source": [
    " "
   ]
  },
  {
   "cell_type": "markdown",
   "id": "9dc2e107",
   "metadata": {},
   "source": [
    "'\\n' = 문자열 안에서 줄바꿈\n",
    "\n",
    "'\\t' = 문자열 사이 탭 간격\n",
    "\n",
    "'\\\\' = '\\'를 그대로 표현\n",
    "\n",
    "'\\'' = 작은따옴표 그대로 표현\n",
    "\n",
    "'\\\"' = 큰따옴표 그대로 표현\n",
    "\n",
    "'\\r' = 캐리지 리턴 (줄 바꿈 문자, 커서를 현재 줄의 가장 앞으로 이동)\n",
    "\n",
    "'\\f' = 폼 피드 (줄 바꿈 문자, 커서를 현재 줄의 다음 줄로 이동)\n",
    "\n",
    "'\\a' = 벨 소리 (출력할 때 PC 스피커에서 '삑'소리)\n",
    "\n",
    "'\\b' = 백 스페이스 (앞의 문자 하나를 지우고 출력)\n",
    "\n",
    "'\\000' = 널 문자"
   ]
  },
  {
   "cell_type": "markdown",
   "id": "651bf386",
   "metadata": {},
   "source": [
    "이스케이프 코드 = 프로그래밍 할 때 사용할 수 있도록 미리 정의해둔 '문자 조합'\n",
    "\n",
    "(주로 출력물을 보기 좋게 정렬하는 용도로 사용)"
   ]
  },
  {
   "cell_type": "markdown",
   "id": "b3fdfece",
   "metadata": {},
   "source": [
    " "
   ]
  },
  {
   "cell_type": "markdown",
   "id": "8e14d1c4",
   "metadata": {},
   "source": [
    " "
   ]
  },
  {
   "cell_type": "markdown",
   "id": "af8fb86d",
   "metadata": {},
   "source": [
    " "
   ]
  },
  {
   "cell_type": "markdown",
   "id": "0f9963bd",
   "metadata": {},
   "source": [
    " "
   ]
  },
  {
   "cell_type": "markdown",
   "id": "5b059b06",
   "metadata": {},
   "source": [
    "## 4. 문자열 연산"
   ]
  },
  {
   "cell_type": "markdown",
   "id": "655ddeb0",
   "metadata": {},
   "source": [
    "파이썬에서는 문자열을 더하거나 곱할 수 있다."
   ]
  },
  {
   "cell_type": "markdown",
   "id": "718f3947",
   "metadata": {},
   "source": [
    " "
   ]
  },
  {
   "cell_type": "markdown",
   "id": "454c83c2",
   "metadata": {},
   "source": [
    "#### 4.1 문자열 더해서 연결하기"
   ]
  },
  {
   "cell_type": "code",
   "execution_count": 14,
   "id": "0fcef21e",
   "metadata": {},
   "outputs": [
    {
     "name": "stdout",
     "output_type": "stream",
     "text": [
      "HelloWorld!\n",
      "Hello World!\n"
     ]
    }
   ],
   "source": [
    "a = 'Hello'\n",
    "b = 'World!'\n",
    "print(a + b)\n",
    "print(a + ' ' + b)"
   ]
  },
  {
   "cell_type": "markdown",
   "id": "63136e55",
   "metadata": {},
   "source": [
    "만약 문자열 사이에 띄어쓰기를 넣고싶다면 ' '를 더해주면 된다. \n",
    "\n",
    "공백 또한 문자열로 인식되니 주의하자 !!"
   ]
  },
  {
   "cell_type": "markdown",
   "id": "12b278d7",
   "metadata": {},
   "source": [
    "#### 4.2 문자열 곱하기"
   ]
  },
  {
   "cell_type": "code",
   "execution_count": 18,
   "id": "48a50e7c",
   "metadata": {},
   "outputs": [
    {
     "name": "stdout",
     "output_type": "stream",
     "text": [
      "PythonPythonPython\n"
     ]
    }
   ],
   "source": [
    "a = 'Python'\n",
    "print(a * 3)"
   ]
  },
  {
   "cell_type": "markdown",
   "id": "2a22929d",
   "metadata": {},
   "source": [
    "직관적으로 알 수 있듯이, a라는 변수를 3번 반복한다는 의미이다."
   ]
  },
  {
   "cell_type": "markdown",
   "id": "37ec9df1",
   "metadata": {},
   "source": [
    " "
   ]
  },
  {
   "cell_type": "markdown",
   "id": "3b504651",
   "metadata": {},
   "source": [
    " "
   ]
  },
  {
   "cell_type": "markdown",
   "id": "b6df5751",
   "metadata": {},
   "source": [
    " "
   ]
  },
  {
   "cell_type": "markdown",
   "id": "e87f2f5f",
   "metadata": {},
   "source": [
    " "
   ]
  },
  {
   "cell_type": "markdown",
   "id": "1a8e395b",
   "metadata": {},
   "source": [
    "## 5. 문자열 길이 구하기"
   ]
  },
  {
   "cell_type": "markdown",
   "id": "6c9cd3ad",
   "metadata": {},
   "source": [
    "문자열의 길이는 len 함수를 사용하여 구할 수 있다.\n",
    "\n",
    "len 함수는 파이썬의 기본 내장 함수이다.\n",
    "\n",
    "문자열의 길이에는 공백 문자도 포함이니 주의하자."
   ]
  },
  {
   "cell_type": "code",
   "execution_count": 16,
   "id": "19d45631",
   "metadata": {},
   "outputs": [
    {
     "data": {
      "text/plain": [
       "17"
      ]
     },
     "execution_count": 16,
     "metadata": {},
     "output_type": "execute_result"
    }
   ],
   "source": [
    "a = '동해물과 백두산이 마르고 닳도록'\n",
    "len(a)"
   ]
  },
  {
   "cell_type": "markdown",
   "id": "f4fde878",
   "metadata": {},
   "source": [
    " "
   ]
  },
  {
   "cell_type": "markdown",
   "id": "3b9c9945",
   "metadata": {},
   "source": [
    " "
   ]
  },
  {
   "cell_type": "markdown",
   "id": "4860f808",
   "metadata": {},
   "source": [
    " "
   ]
  },
  {
   "cell_type": "markdown",
   "id": "faaf2caf",
   "metadata": {},
   "source": [
    " "
   ]
  },
  {
   "cell_type": "markdown",
   "id": "4e55dd2d",
   "metadata": {},
   "source": [
    "# 6. 문자열 인덱싱, 슬라이싱"
   ]
  },
  {
   "cell_type": "markdown",
   "id": "3e85159f",
   "metadata": {},
   "source": [
    "- 인덱싱(indexing) = 무엇인가를 ‘가리킨다’\n",
    "\n",
    "- 슬라이싱(slicing) =  무엇인가를 ‘잘라 낸다’"
   ]
  },
  {
   "cell_type": "markdown",
   "id": "738771a9",
   "metadata": {},
   "source": [
    " "
   ]
  },
  {
   "cell_type": "markdown",
   "id": "b4cdcd32",
   "metadata": {},
   "source": [
    "#### 6.1 문자열 인덱싱"
   ]
  },
  {
   "cell_type": "markdown",
   "id": "c16d57c1",
   "metadata": {},
   "source": [
    "문자열에는 앞에서부터 0~n 까지 번호가 매겨져있는 방이있다고 친다면,\n",
    "특정 위치에 있는(순서가 있는) 문자를 추출하는 것이 인덱싱이다."
   ]
  },
  {
   "cell_type": "code",
   "execution_count": 19,
   "id": "bc05194c",
   "metadata": {},
   "outputs": [
    {
     "data": {
      "text/plain": [
       "'w'"
      ]
     },
     "execution_count": 19,
     "metadata": {},
     "output_type": "execute_result"
    }
   ],
   "source": [
    "arr = 'Be where you want to be'\n",
    "arr[3]"
   ]
  },
  {
   "cell_type": "markdown",
   "id": "a4040aef",
   "metadata": {},
   "source": [
    "arr의 문자열에 3번째 방에 들어있는 문자를 출력하였다.\n",
    "\n",
    "뒤에서부터 문자를 추출하고싶다면 아래와 같이 출력하자. \n",
    "단, 뒤에서부터 추출할 때에는 1부터 숫자를 세니 주의하자."
   ]
  },
  {
   "cell_type": "code",
   "execution_count": 21,
   "id": "2e1b80aa",
   "metadata": {},
   "outputs": [
    {
     "name": "stdout",
     "output_type": "stream",
     "text": [
      "b\n",
      "B\n"
     ]
    }
   ],
   "source": [
    "print(arr[-2])\n",
    "print(arr[-0]) # arr[-0]은 arr[0]과 똑같은 값을 보여준다."
   ]
  },
  {
   "cell_type": "markdown",
   "id": "de641acc",
   "metadata": {},
   "source": [
    "인덱싱(indexing)이란 무엇인가를 ‘가리킨다’, 슬라이싱(slicing)은 무엇인가를 ‘잘라 낸다’라는 의미이다."
   ]
  },
  {
   "cell_type": "markdown",
   "id": "b12626f7",
   "metadata": {},
   "source": [
    "#### 6.2 문자열 슬라이싱"
   ]
  },
  {
   "cell_type": "markdown",
   "id": "78142cdf",
   "metadata": {},
   "source": [
    "슬라이싱은 문자 하나만 추출하는 것이 아닌, 단어를 추출하고싶을 때 많이 사용한다.\n",
    "\n",
    "변수명[시작 번호 : 끝 번호 : 간격]을 사용하여 슬라이싱 해주면 된다."
   ]
  },
  {
   "cell_type": "code",
   "execution_count": 22,
   "id": "48f761bb",
   "metadata": {},
   "outputs": [
    {
     "name": "stdout",
     "output_type": "stream",
     "text": [
      "Be where\n"
     ]
    }
   ],
   "source": [
    "arr = 'Be where you want to be'\n",
    "print(arr[0: 8])"
   ]
  },
  {
   "cell_type": "markdown",
   "id": "a58bc7dd",
   "metadata": {},
   "source": [
    " "
   ]
  },
  {
   "cell_type": "code",
   "execution_count": 23,
   "id": "b43c205e",
   "metadata": {},
   "outputs": [
    {
     "name": "stdout",
     "output_type": "stream",
     "text": [
      "Be where\n"
     ]
    }
   ],
   "source": [
    "# 1. 시작 번호를 생략하면, 문자열을 처음부터 끝 번호까지 추출한다.\n",
    "arr = 'Be where you want to be'\n",
    "print(arr[: 8])"
   ]
  },
  {
   "cell_type": "code",
   "execution_count": 24,
   "id": "87daec7b",
   "metadata": {},
   "outputs": [
    {
     "name": "stdout",
     "output_type": "stream",
     "text": [
      "Be where you want to be\n"
     ]
    }
   ],
   "source": [
    "# 2. 끝 번호를 생략하면, 시작 번호부터 끝까지 추출한다.\n",
    "arr = 'Be where you want to be'\n",
    "print(arr[0:])"
   ]
  },
  {
   "cell_type": "code",
   "execution_count": 25,
   "id": "4fb32829",
   "metadata": {},
   "outputs": [
    {
     "name": "stdout",
     "output_type": "stream",
     "text": [
      "Be where you want to be\n"
     ]
    }
   ],
   "source": [
    "# 3. 시작 번호와 끝 번호 모두 생략하면 문자열의 처음부터 끝까지 추출한다.\n",
    "arr = 'Be where you want to be'\n",
    "print(arr[:])"
   ]
  },
  {
   "cell_type": "code",
   "execution_count": 26,
   "id": "9f0bda6d",
   "metadata": {},
   "outputs": [
    {
     "name": "stdout",
     "output_type": "stream",
     "text": [
      "Be where you wa\n"
     ]
    }
   ],
   "source": [
    "# +슬라이싱도 마찬가지로 -(빼기) 기호를 사용할 수 있다.\n",
    "arr = 'Be where you want to be'\n",
    "print(arr[:-8])"
   ]
  },
  {
   "cell_type": "markdown",
   "id": "0cb02940",
   "metadata": {},
   "source": [
    " "
   ]
  },
  {
   "cell_type": "markdown",
   "id": "ef884132",
   "metadata": {},
   "source": [
    "#### 6.3 슬라이싱 활용 ( 슬라이싱으로 문자열 나누기 )"
   ]
  },
  {
   "cell_type": "code",
   "execution_count": 36,
   "id": "7b422739",
   "metadata": {},
   "outputs": [
    {
     "name": "stdout",
     "output_type": "stream",
     "text": [
      "2023\n",
      "1117\n"
     ]
    }
   ],
   "source": [
    "arr = '20231117'\n",
    "\n",
    "year = arr[:4]\n",
    "day = arr[4:]\n",
    "\n",
    "print(year)\n",
    "print(day)"
   ]
  },
  {
   "cell_type": "markdown",
   "id": "83a3af20",
   "metadata": {},
   "source": [
    " "
   ]
  },
  {
   "cell_type": "markdown",
   "id": "396dd2d2",
   "metadata": {},
   "source": [
    " "
   ]
  },
  {
   "cell_type": "markdown",
   "id": "18ef5939",
   "metadata": {},
   "source": [
    " "
   ]
  },
  {
   "cell_type": "markdown",
   "id": "c33fbc44",
   "metadata": {},
   "source": [
    " "
   ]
  },
  {
   "cell_type": "markdown",
   "id": "c318646d",
   "metadata": {},
   "source": [
    "## 7. 문자열 포맷팅"
   ]
  },
  {
   "cell_type": "markdown",
   "id": "ff0166fa",
   "metadata": {},
   "source": [
    "- 문자열 포매팅(string formatting) = 문자열 안에 어떤 값을 삽입하는 방법"
   ]
  },
  {
   "cell_type": "markdown",
   "id": "f23dca45",
   "metadata": {},
   "source": [
    "#### 7.1 숫자 바로 대입"
   ]
  },
  {
   "cell_type": "code",
   "execution_count": 39,
   "id": "ae7b134a",
   "metadata": {},
   "outputs": [
    {
     "data": {
      "text/plain": [
       "'I want $100'"
      ]
     },
     "execution_count": 39,
     "metadata": {},
     "output_type": "execute_result"
    }
   ],
   "source": [
    "'I want $%d' %100"
   ]
  },
  {
   "cell_type": "markdown",
   "id": "7a6d7e68",
   "metadata": {},
   "source": [
    " "
   ]
  },
  {
   "cell_type": "markdown",
   "id": "ac2f2a15",
   "metadata": {},
   "source": [
    "#### 7.2 문자열 바로 대입"
   ]
  },
  {
   "cell_type": "code",
   "execution_count": 42,
   "id": "212ba254",
   "metadata": {},
   "outputs": [
    {
     "name": "stdout",
     "output_type": "stream",
     "text": [
      "I want a hundred dollars\n"
     ]
    }
   ],
   "source": [
    "'I want a %s dollars' %'hundred'"
   ]
  },
  {
   "cell_type": "markdown",
   "id": "ba5cb951",
   "metadata": {},
   "source": [
    "#### 7.3 변수로 대입"
   ]
  },
  {
   "cell_type": "code",
   "execution_count": 50,
   "id": "e960920e",
   "metadata": {},
   "outputs": [
    {
     "name": "stdout",
     "output_type": "stream",
     "text": [
      "I want $100\n",
      "I want a hundred dollars\n"
     ]
    }
   ],
   "source": [
    "num = 100\n",
    "str = 'hundred'\n",
    "\n",
    "print('I want $%d' % num)\n",
    "print('I want a %s dollars' % str)"
   ]
  },
  {
   "cell_type": "markdown",
   "id": "468ef15f",
   "metadata": {},
   "source": [
    "#### 7.4 2개 이상의 값 넣기"
   ]
  },
  {
   "cell_type": "code",
   "execution_count": 51,
   "id": "fd453952",
   "metadata": {},
   "outputs": [
    {
     "name": "stdout",
     "output_type": "stream",
     "text": [
      "My birthday is November 17\n"
     ]
    }
   ],
   "source": [
    "month = 'November'\n",
    "day = 17\n",
    "\n",
    "print('My birthday is %s %d' % (month, day))"
   ]
  },
  {
   "cell_type": "markdown",
   "id": "e1e4c126",
   "metadata": {},
   "source": [
    " "
   ]
  },
  {
   "cell_type": "markdown",
   "id": "dc3779f9",
   "metadata": {},
   "source": [
    " "
   ]
  },
  {
   "cell_type": "markdown",
   "id": "9c2b8462",
   "metadata": {},
   "source": [
    " "
   ]
  },
  {
   "cell_type": "markdown",
   "id": "b495f5fd",
   "metadata": {},
   "source": [
    " "
   ]
  },
  {
   "cell_type": "markdown",
   "id": "0648cdd7",
   "metadata": {},
   "source": [
    "## 8. 문자열 포맷"
   ]
  },
  {
   "cell_type": "markdown",
   "id": "7aaa4be5",
   "metadata": {},
   "source": [
    "%s = 문자열(String)\n",
    "\n",
    "%c = 문자 1개(character)\n",
    "\n",
    "%d = 정수(Integer)\n",
    "\n",
    "%f = 부동소수(floating-point)\n",
    "\n",
    "%o = 8진수\n",
    "\n",
    "%x = 16진수\n",
    "\n",
    "%% = Literal % (문자 % 자체)"
   ]
  },
  {
   "cell_type": "markdown",
   "id": "2d701c44",
   "metadata": {},
   "source": [
    " "
   ]
  },
  {
   "cell_type": "code",
   "execution_count": 52,
   "id": "a451d21b",
   "metadata": {},
   "outputs": [
    {
     "name": "stdout",
     "output_type": "stream",
     "text": [
      "I want $392.23\n",
      "I want $234\n"
     ]
    }
   ],
   "source": [
    "print('I want $%s' % 392.23)\n",
    "print('I want $%s' % 234)"
   ]
  },
  {
   "cell_type": "markdown",
   "id": "78c84a7d",
   "metadata": {},
   "source": [
    "여기서, '%s' 문자열 포맷 코드를 사용하면 정수나 실수를 넣어도 상관없다.\n",
    "\n",
    "자동으로 숫자를 문자열로 바꾸어 대입해주기 때문이다."
   ]
  },
  {
   "cell_type": "markdown",
   "id": "68ab22d4",
   "metadata": {},
   "source": [
    " "
   ]
  },
  {
   "cell_type": "markdown",
   "id": "73ebd11c",
   "metadata": {},
   "source": [
    "#### 8.1 포맷 코드로 공백 넣기"
   ]
  },
  {
   "cell_type": "markdown",
   "id": "2163be52",
   "metadata": {},
   "source": [
    "'%10s'는 전체 길이가 10인 문자열 공간에서, 대입되는 값을 오른쪽에 정렬하고 앞의 나머지는 공백으로 남겨두라는 뜻이다.\n",
    "\n",
    "'-10s'는 전체 길이가 10인 문자열 공간에서, 대입되는 값을 왼쪽에 정렬하고 뒤의 나머지는 공백으로 남겨두라는 뜻이다."
   ]
  },
  {
   "cell_type": "code",
   "execution_count": 56,
   "id": "0c2ae224",
   "metadata": {},
   "outputs": [
    {
     "name": "stdout",
     "output_type": "stream",
     "text": [
      "Hi     yeseol\n",
      "Hi yeseol    \n"
     ]
    }
   ],
   "source": [
    "name = 'yeseol'\n",
    "print('Hi %10s' % name)\n",
    "print('Hi %-10s' % name)"
   ]
  },
  {
   "cell_type": "markdown",
   "id": "2c7388cb",
   "metadata": {},
   "source": [
    " "
   ]
  },
  {
   "cell_type": "markdown",
   "id": "2abf6c73",
   "metadata": {},
   "source": [
    "#### 8.2 소수점 표현하기"
   ]
  },
  {
   "cell_type": "code",
   "execution_count": 61,
   "id": "67206e97",
   "metadata": {},
   "outputs": [
    {
     "name": "stdout",
     "output_type": "stream",
     "text": [
      "3.14\n",
      "      3.14\n",
      "3.14      \n",
      "      3.14\n"
     ]
    }
   ],
   "source": [
    "a = 3.141516171819101034567\n",
    "\n",
    "print('%.2f' % a)\n",
    "\n",
    "print('%10.2f' % a)\n",
    "print('%-10.2f' % a)\n",
    "\n",
    "print('%10.4s' % a)"
   ]
  },
  {
   "cell_type": "markdown",
   "id": "eafbad6d",
   "metadata": {},
   "source": [
    " "
   ]
  },
  {
   "cell_type": "markdown",
   "id": "a99b0caa",
   "metadata": {},
   "source": [
    "#### 8.3 format 함수를 사용한 포매팅"
   ]
  },
  {
   "cell_type": "markdown",
   "id": "b82dc6bc",
   "metadata": {},
   "source": [
    "문자열의 format 함수를 사용하면 좀 더 발전된 스타일로 문자열 포맷을 지정할 수 있다."
   ]
  },
  {
   "cell_type": "markdown",
   "id": "41c182cd",
   "metadata": {},
   "source": [
    " "
   ]
  },
  {
   "cell_type": "code",
   "execution_count": 76,
   "id": "5ab51605",
   "metadata": {},
   "outputs": [
    {
     "name": "stdout",
     "output_type": "stream",
     "text": [
      "I want $100\n",
      "I want a hundred dollars\n",
      "My birthday is November 17\n",
      "My birthday is November 17\n",
      "My birthday is November 17\n"
     ]
    }
   ],
   "source": [
    "# 바로 대입하기\n",
    "print('I want ${0}'.format(100))\n",
    "print('I want a {0} dollars'.format('hundred'))\n",
    "\n",
    "# 변수로 대입하기\n",
    "month = 'November'\n",
    "day = 17\n",
    "print('My birthday is {0} {1}'.format(month, day))\n",
    "\n",
    "# 이름으로 넣기\n",
    "print('My birthday is {month} {day}'.format(month = 'November', day = 17))\n",
    "\n",
    "# 인덱스와 이름 혼용해서 넣기\n",
    "print('My birthday is {0} {day}'.format('November', day = 17))"
   ]
  },
  {
   "cell_type": "markdown",
   "id": "a61ff50b",
   "metadata": {},
   "source": [
    " "
   ]
  },
  {
   "cell_type": "markdown",
   "id": "68f28d23",
   "metadata": {},
   "source": [
    "- 정렬"
   ]
  },
  {
   "cell_type": "code",
   "execution_count": 83,
   "id": "ee57281c",
   "metadata": {},
   "outputs": [
    {
     "name": "stdout",
     "output_type": "stream",
     "text": [
      "Hello     \n",
      "     Hello\n",
      "     Hello\n"
     ]
    }
   ],
   "source": [
    "# 왼쪽 정렬\n",
    "print('{0:<10}'.format('Hello'))\n",
    "# 오~~른쪽ㅋ\n",
    "print('{0:>10}'.format('Hello'))\n",
    "# 가운데 정렬\n",
    "print('{0:>10}'.format('Hello'))"
   ]
  },
  {
   "cell_type": "markdown",
   "id": "34d1c667",
   "metadata": {},
   "source": [
    "  "
   ]
  },
  {
   "cell_type": "markdown",
   "id": "da773560",
   "metadata": {},
   "source": [
    "- 공백 채우기"
   ]
  },
  {
   "cell_type": "code",
   "execution_count": 91,
   "id": "aa7eada4",
   "metadata": {},
   "outputs": [
    {
     "name": "stdout",
     "output_type": "stream",
     "text": [
      "===Hello===\n",
      "!!!Hello!!!\n",
      "~~~Hello~~~\n",
      " \n",
      "Hello======\n",
      "======Hello\n"
     ]
    }
   ],
   "source": [
    "print('{0:=^11}'.format('Hello'))\n",
    "print('{0:!^11}'.format('Hello'))\n",
    "print('{0:~^11}'.format('Hello'))\n",
    "\n",
    "print(' ')\n",
    "\n",
    "print('{0:=<11}'.format('Hello'))\n",
    "print('{0:=>11}'.format('Hello'))"
   ]
  },
  {
   "cell_type": "markdown",
   "id": "3c26ea6e",
   "metadata": {},
   "source": [
    " "
   ]
  },
  {
   "cell_type": "markdown",
   "id": "420e778e",
   "metadata": {},
   "source": [
    "- 소수점"
   ]
  },
  {
   "cell_type": "code",
   "execution_count": 92,
   "id": "77121411",
   "metadata": {},
   "outputs": [
    {
     "name": "stdout",
     "output_type": "stream",
     "text": [
      "3.23\n"
     ]
    }
   ],
   "source": [
    "a = 3.23434532\n",
    "\n",
    "print('{0:0.2f}'.format(a))"
   ]
  },
  {
   "cell_type": "markdown",
   "id": "44423288",
   "metadata": {},
   "source": [
    " "
   ]
  },
  {
   "cell_type": "markdown",
   "id": "51ff274d",
   "metadata": {},
   "source": [
    " "
   ]
  },
  {
   "cell_type": "markdown",
   "id": "197f2306",
   "metadata": {},
   "source": [
    "### f문자열 포매팅"
   ]
  },
  {
   "cell_type": "markdown",
   "id": "edd10ca1",
   "metadata": {},
   "source": [
    "파이썬 3.6 버전부터는 f 문자열 포매팅 기능을 사용할 수 있다. 파이썬 3.6 미만 버전에서는 사용할 수 없는 기능이므로 주의해야 한다."
   ]
  },
  {
   "cell_type": "markdown",
   "id": "78f7a16d",
   "metadata": {},
   "source": [
    "문자열 앞에 f 접두사를 붙이면 f 문자열 포매팅 기능을 사용할 수 있다."
   ]
  },
  {
   "cell_type": "code",
   "execution_count": 97,
   "id": "ad5fc3a9",
   "metadata": {},
   "outputs": [
    {
     "name": "stdout",
     "output_type": "stream",
     "text": [
      "My name is yeseol. I'm 17\n"
     ]
    }
   ],
   "source": [
    "name = 'yeseol'\n",
    "age = 17\n",
    "\n",
    "print(f'My name is {name}. I\\'m {age}')"
   ]
  },
  {
   "cell_type": "markdown",
   "id": "fb8b8b14",
   "metadata": {},
   "source": [
    " "
   ]
  },
  {
   "cell_type": "markdown",
   "id": "ebfd36b3",
   "metadata": {},
   "source": [
    " f 문자열 포매팅은 표현식을 지원하기 때문에 다음과 같은 것도 가능하다."
   ]
  },
  {
   "cell_type": "code",
   "execution_count": 99,
   "id": "d9b31dc0",
   "metadata": {},
   "outputs": [
    {
     "name": "stdout",
     "output_type": "stream",
     "text": [
      "나는 내년이면 18살이 된다.\n"
     ]
    }
   ],
   "source": [
    "age = 17\n",
    "print(f'나는 내년이면 {age+1}살이 된다.')"
   ]
  },
  {
   "cell_type": "code",
   "execution_count": 105,
   "id": "7233db05",
   "metadata": {},
   "outputs": [
    {
     "name": "stdout",
     "output_type": "stream",
     "text": [
      "제 이름은 홍길동이고, 나이는 999입니다.\n"
     ]
    }
   ],
   "source": [
    "a = {'name':'홍길동', 'age':999}\n",
    "print(f\"제 이름은 {a['name']}이고, 나이는 {a['age']}입니다.\")\n",
    "# 딕셔너리와 함께 사용할 수 있다."
   ]
  },
  {
   "cell_type": "markdown",
   "id": "ebba9ff7",
   "metadata": {},
   "source": [
    " "
   ]
  },
  {
   "cell_type": "markdown",
   "id": "cded775c",
   "metadata": {},
   "source": [
    "- 공백 채우기"
   ]
  },
  {
   "cell_type": "code",
   "execution_count": 110,
   "id": "feb25f18",
   "metadata": {},
   "outputs": [
    {
     "name": "stdout",
     "output_type": "stream",
     "text": [
      "===Hello===\n",
      "Hello======\n",
      "======Hello\n"
     ]
    }
   ],
   "source": [
    "print(f\"{'Hello':=^11}\")\n",
    "print(f\"{'Hello':=<11}\")\n",
    "print(f\"{'Hello':=>11}\")"
   ]
  },
  {
   "cell_type": "markdown",
   "id": "a552bbd1",
   "metadata": {},
   "source": [
    " "
   ]
  },
  {
   "cell_type": "markdown",
   "id": "5a1094d1",
   "metadata": {},
   "source": [
    "- 소수점"
   ]
  },
  {
   "cell_type": "code",
   "execution_count": 112,
   "id": "a7398d46",
   "metadata": {},
   "outputs": [
    {
     "name": "stdout",
     "output_type": "stream",
     "text": [
      "3.25\n"
     ]
    }
   ],
   "source": [
    "a = 3.2543645\n",
    "print(f'{a:0.2f}')"
   ]
  },
  {
   "cell_type": "markdown",
   "id": "ab680869",
   "metadata": {},
   "source": [
    " "
   ]
  },
  {
   "cell_type": "markdown",
   "id": "54893e05",
   "metadata": {},
   "source": [
    " "
   ]
  },
  {
   "cell_type": "markdown",
   "id": "84952a93",
   "metadata": {},
   "source": [
    " "
   ]
  },
  {
   "cell_type": "markdown",
   "id": "513fca70",
   "metadata": {},
   "source": [
    " "
   ]
  },
  {
   "cell_type": "markdown",
   "id": "9fa04f4b",
   "metadata": {},
   "source": [
    "## 9. 문자열 관련 함수"
   ]
  },
  {
   "cell_type": "markdown",
   "id": "acd2ef26",
   "metadata": {},
   "source": [
    "문자열 자료형은 자체적으로 함수를 가지고 있다. \n",
    "\n",
    "이들 함수를 다른 말로 ‘문자열 내장 함수’라고 한다. \n",
    "\n",
    "이 내장 함수를 사용하려면 문자열 변수 이름 뒤에 ‘.’를 붙인 후 함수 이름을 써 주면 된다."
   ]
  },
  {
   "cell_type": "markdown",
   "id": "907c7ce9",
   "metadata": {},
   "source": [
    "#### 9.1 문자 개수 세기 - count"
   ]
  },
  {
   "cell_type": "code",
   "execution_count": 113,
   "id": "794d4c12",
   "metadata": {},
   "outputs": [
    {
     "data": {
      "text/plain": [
       "2"
      ]
     },
     "execution_count": 113,
     "metadata": {},
     "output_type": "execute_result"
    }
   ],
   "source": [
    "a = 'Happy'\n",
    "a.count('p')"
   ]
  },
  {
   "cell_type": "markdown",
   "id": "59606cc3",
   "metadata": {},
   "source": [
    "#### 9.2 위치 알려주기 1 - find"
   ]
  },
  {
   "cell_type": "code",
   "execution_count": 115,
   "id": "d99dc517",
   "metadata": {},
   "outputs": [
    {
     "name": "stdout",
     "output_type": "stream",
     "text": [
      "2\n",
      "-1\n"
     ]
    }
   ],
   "source": [
    "a = 'I like you'\n",
    "print(a.find('l'))\n",
    "print(a.find('t'))"
   ]
  },
  {
   "cell_type": "markdown",
   "id": "7ad906f9",
   "metadata": {},
   "source": [
    "찾는 문자나 문자열이 존재하지 않는다면 -1을 반환한다."
   ]
  },
  {
   "cell_type": "markdown",
   "id": "92ab504c",
   "metadata": {},
   "source": [
    "#### 9.3 위치 알려주기 2 - index"
   ]
  },
  {
   "cell_type": "code",
   "execution_count": 118,
   "id": "53d62843",
   "metadata": {},
   "outputs": [
    {
     "name": "stdout",
     "output_type": "stream",
     "text": [
      "5\n"
     ]
    },
    {
     "ename": "ValueError",
     "evalue": "substring not found",
     "output_type": "error",
     "traceback": [
      "\u001b[1;31m---------------------------------------------------------------------------\u001b[0m",
      "\u001b[1;31mValueError\u001b[0m                                Traceback (most recent call last)",
      "Cell \u001b[1;32mIn[118], line 3\u001b[0m\n\u001b[0;32m      1\u001b[0m a \u001b[38;5;241m=\u001b[39m \u001b[38;5;124m'\u001b[39m\u001b[38;5;124mI hate you\u001b[39m\u001b[38;5;124m'\u001b[39m\n\u001b[0;32m      2\u001b[0m \u001b[38;5;28mprint\u001b[39m(a\u001b[38;5;241m.\u001b[39mindex(\u001b[38;5;124m'\u001b[39m\u001b[38;5;124me\u001b[39m\u001b[38;5;124m'\u001b[39m))\n\u001b[1;32m----> 3\u001b[0m \u001b[38;5;28mprint\u001b[39m(a\u001b[38;5;241m.\u001b[39mindex(\u001b[38;5;124m'\u001b[39m\u001b[38;5;124mw\u001b[39m\u001b[38;5;124m'\u001b[39m))\n",
      "\u001b[1;31mValueError\u001b[0m: substring not found"
     ]
    }
   ],
   "source": [
    "a = 'I hate you'\n",
    "print(a.index('e'))\n",
    "print(a.index('w'))"
   ]
  },
  {
   "cell_type": "markdown",
   "id": "b50ca19a",
   "metadata": {},
   "source": [
    "찾는문자나 문자열이 존재하지 않는다면 오류가 발생한다. "
   ]
  },
  {
   "cell_type": "markdown",
   "id": "26f95cf9",
   "metadata": {},
   "source": [
    "#### 9.4 문자열 삽입 - join"
   ]
  },
  {
   "cell_type": "code",
   "execution_count": 119,
   "id": "56123b0c",
   "metadata": {},
   "outputs": [
    {
     "name": "stdout",
     "output_type": "stream",
     "text": [
      "a,b,c,d\n"
     ]
    }
   ],
   "source": [
    "print(','.join('abcd'))"
   ]
  },
  {
   "cell_type": "code",
   "execution_count": 120,
   "id": "4f0aba4e",
   "metadata": {},
   "outputs": [
    {
     "name": "stdout",
     "output_type": "stream",
     "text": [
      "a,b,c,d\n"
     ]
    }
   ],
   "source": [
    "print(','.join(['a', 'b', 'c', 'd']))"
   ]
  },
  {
   "cell_type": "markdown",
   "id": "489e1015",
   "metadata": {},
   "source": [
    "#### 9.5 대소문자 바꾸기 - upper, lower"
   ]
  },
  {
   "cell_type": "code",
   "execution_count": 124,
   "id": "9745dd68",
   "metadata": {},
   "outputs": [
    {
     "data": {
      "text/plain": [
       "'HI'"
      ]
     },
     "execution_count": 124,
     "metadata": {},
     "output_type": "execute_result"
    }
   ],
   "source": [
    "a = 'hi'\n",
    "a.upper()"
   ]
  },
  {
   "cell_type": "code",
   "execution_count": 123,
   "id": "104f472e",
   "metadata": {},
   "outputs": [
    {
     "data": {
      "text/plain": [
       "'hi'"
      ]
     },
     "execution_count": 123,
     "metadata": {},
     "output_type": "execute_result"
    }
   ],
   "source": [
    "a = 'HI'\n",
    "a.lower()"
   ]
  },
  {
   "cell_type": "code",
   "execution_count": 126,
   "id": "724d65f6",
   "metadata": {},
   "outputs": [
    {
     "data": {
      "text/plain": [
       "'hi'"
      ]
     },
     "execution_count": 126,
     "metadata": {},
     "output_type": "execute_result"
    }
   ],
   "source": [
    "a = 'Hi'\n",
    "a.lower()"
   ]
  },
  {
   "cell_type": "markdown",
   "id": "480d731f",
   "metadata": {},
   "source": [
    "a.upper()를 수행하더라도 a 변수의 값은 변하지 않는다. \n",
    "\n",
    "왜냐하면 a.upper()를 실행하면 upper 함수는 a 변수의 값 자체를 변경하는 것이 아니라 대문자로 바꾼 값을 리턴하기 때문이다. \n",
    "\n",
    "문자열은 자체의 값을 변경할 수 없는 immutable 자료형이다. \n",
    "\n",
    "따라서 a 값을 'HI' 로 바꾸고 싶다면 다음과 같이 대입문을 사용해야 한다."
   ]
  },
  {
   "cell_type": "code",
   "execution_count": 145,
   "id": "32a4c841",
   "metadata": {},
   "outputs": [
    {
     "name": "stdout",
     "output_type": "stream",
     "text": [
      "HI\n"
     ]
    }
   ],
   "source": [
    "a = 'hi'\n",
    "a = a.upper()\n",
    "print(a)"
   ]
  },
  {
   "cell_type": "markdown",
   "id": "a4be01ed",
   "metadata": {},
   "source": [
    "#### 9.6 공백 지우기 - strip"
   ]
  },
  {
   "cell_type": "code",
   "execution_count": 129,
   "id": "d64cb2a3",
   "metadata": {},
   "outputs": [
    {
     "data": {
      "text/plain": [
       "'Hello  '"
      ]
     },
     "execution_count": 129,
     "metadata": {},
     "output_type": "execute_result"
    }
   ],
   "source": [
    "# 왼쪽\n",
    "a = '  Hello  '\n",
    "(a.lstrip())"
   ]
  },
  {
   "cell_type": "code",
   "execution_count": 130,
   "id": "d219bfe9",
   "metadata": {},
   "outputs": [
    {
     "data": {
      "text/plain": [
       "'  Hello'"
      ]
     },
     "execution_count": 130,
     "metadata": {},
     "output_type": "execute_result"
    }
   ],
   "source": [
    "# 오른쪽\n",
    "a = '  Hello  '\n",
    "(a.rstrip())"
   ]
  },
  {
   "cell_type": "code",
   "execution_count": 131,
   "id": "b9172820",
   "metadata": {},
   "outputs": [
    {
     "data": {
      "text/plain": [
       "'Hello'"
      ]
     },
     "execution_count": 131,
     "metadata": {},
     "output_type": "execute_result"
    }
   ],
   "source": [
    "# 양쪽\n",
    "a = '  Hello  '\n",
    "(a.strip())"
   ]
  },
  {
   "cell_type": "markdown",
   "id": "c01507ae",
   "metadata": {},
   "source": [
    "#### 9.7 문자열 바꾸기 - replace"
   ]
  },
  {
   "cell_type": "code",
   "execution_count": 132,
   "id": "38aa1e4a",
   "metadata": {},
   "outputs": [
    {
     "name": "stdout",
     "output_type": "stream",
     "text": [
      "He like you\n"
     ]
    }
   ],
   "source": [
    "a = 'I like you'\n",
    "print(a.replace('I', 'He'))"
   ]
  },
  {
   "cell_type": "markdown",
   "id": "4781e349",
   "metadata": {},
   "source": [
    "#### 9.8 문자열나누기 - split "
   ]
  },
  {
   "cell_type": "code",
   "execution_count": 134,
   "id": "880dee1e",
   "metadata": {},
   "outputs": [
    {
     "name": "stdout",
     "output_type": "stream",
     "text": [
      "['I', 'like', 'you']\n"
     ]
    }
   ],
   "source": [
    "a = 'I like you'\n",
    "print(a.split())"
   ]
  },
  {
   "cell_type": "code",
   "execution_count": 137,
   "id": "59164203",
   "metadata": {},
   "outputs": [
    {
     "name": "stdout",
     "output_type": "stream",
     "text": [
      "['I', 'like', 'you']\n"
     ]
    }
   ],
   "source": [
    "a = 'I:like:you'\n",
    "print(a.split(':'))"
   ]
  },
  {
   "cell_type": "code",
   "execution_count": 138,
   "id": "0b042aa9",
   "metadata": {},
   "outputs": [
    {
     "name": "stdout",
     "output_type": "stream",
     "text": [
      "['I', 'like', 'you']\n"
     ]
    }
   ],
   "source": [
    "a = 'I=like=you'\n",
    "print(a.split('='))"
   ]
  },
  {
   "cell_type": "markdown",
   "id": "4c4e7fd2",
   "metadata": {},
   "source": [
    "split 함수는 a.split()처럼 괄호 안을 기준으로 문자열을 나누어준다.\n",
    "\n",
    "아무 값도 넣어주지 않으면, 공백을 기준으로 문자열을 나눈다.\n",
    "\n",
    "만약 a.split('=')처럼 괄호 안에 특정 값을 넣어준다면 그 값을 기준으로 문자열을 나눈다."
   ]
  }
 ],
 "metadata": {
  "kernelspec": {
   "display_name": "Python 3 (ipykernel)",
   "language": "python",
   "name": "python3"
  },
  "language_info": {
   "codemirror_mode": {
    "name": "ipython",
    "version": 3
   },
   "file_extension": ".py",
   "mimetype": "text/x-python",
   "name": "python",
   "nbconvert_exporter": "python",
   "pygments_lexer": "ipython3",
   "version": "3.11.3"
  }
 },
 "nbformat": 4,
 "nbformat_minor": 5
}
