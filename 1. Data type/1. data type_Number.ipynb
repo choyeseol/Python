{
 "cells": [
  {
   "cell_type": "markdown",
   "id": "40df39be",
   "metadata": {},
   "source": [
    "# 자료형 - 숫자형(Number)"
   ]
  },
  {
   "cell_type": "markdown",
   "id": "f35b83ef",
   "metadata": {},
   "source": [
    " "
   ]
  },
  {
   "cell_type": "markdown",
   "id": "c34dbc7c",
   "metadata": {},
   "source": [
    " "
   ]
  },
  {
   "cell_type": "markdown",
   "id": "34423e49",
   "metadata": {},
   "source": [
    "## 1. 정수형(int)\n",
    "- 정수형(integer) = 말 그대로 정수"
   ]
  },
  {
   "cell_type": "code",
   "execution_count": 3,
   "id": "05b00bdd",
   "metadata": {},
   "outputs": [],
   "source": [
    "a = 10\n",
    "a = -32\n",
    "a = 0"
   ]
  },
  {
   "cell_type": "markdown",
   "id": "735fa715",
   "metadata": {},
   "source": [
    "## 2. 실수형(float)\n",
    "- 실수형(floating-point) = 소수점이 포함된 모든 숫자"
   ]
  },
  {
   "cell_type": "code",
   "execution_count": 4,
   "id": "1d522c55",
   "metadata": {},
   "outputs": [],
   "source": [
    "a = 1.23454\n",
    "a = -32.323"
   ]
  },
  {
   "cell_type": "markdown",
   "id": "16a15055",
   "metadata": {},
   "source": [
    "  "
   ]
  },
  {
   "cell_type": "markdown",
   "id": "d0ffe6e0",
   "metadata": {},
   "source": [
    "  "
   ]
  },
  {
   "cell_type": "markdown",
   "id": "b6a2a4c2",
   "metadata": {},
   "source": [
    "  "
   ]
  },
  {
   "cell_type": "markdown",
   "id": "a574a735",
   "metadata": {},
   "source": [
    "  "
   ]
  },
  {
   "cell_type": "markdown",
   "id": "21afb0e7",
   "metadata": {},
   "source": [
    "### 컴퓨터식 지수 표현 방식\n",
    "- E10 , e-10"
   ]
  },
  {
   "cell_type": "code",
   "execution_count": 6,
   "id": "62635b30",
   "metadata": {},
   "outputs": [
    {
     "name": "stdout",
     "output_type": "stream",
     "text": [
      "22300000000.0\n",
      "2.23e-10\n"
     ]
    }
   ],
   "source": [
    "a = 2.23E10\n",
    "b = 2.23e-10\n",
    "print(a)\n",
    "print(b)"
   ]
  },
  {
   "cell_type": "markdown",
   "id": "96c74109",
   "metadata": {},
   "source": [
    "  "
   ]
  },
  {
   "cell_type": "markdown",
   "id": "5ece973d",
   "metadata": {},
   "source": [
    "  "
   ]
  },
  {
   "cell_type": "markdown",
   "id": "f177fad9",
   "metadata": {},
   "source": [
    "  "
   ]
  },
  {
   "cell_type": "markdown",
   "id": "6f177ca4",
   "metadata": {},
   "source": [
    "### 진수\n",
    "- n 진수 -> 10 진수"
   ]
  },
  {
   "cell_type": "markdown",
   "id": "bff8beb9",
   "metadata": {},
   "source": [
    "  "
   ]
  },
  {
   "cell_type": "markdown",
   "id": "ac8d393b",
   "metadata": {},
   "source": [
    "< 2진수 -> 10진수 >"
   ]
  },
  {
   "cell_type": "code",
   "execution_count": 8,
   "id": "2f79321f",
   "metadata": {},
   "outputs": [
    {
     "data": {
      "text/plain": [
       "10"
      ]
     },
     "execution_count": 8,
     "metadata": {},
     "output_type": "execute_result"
    }
   ],
   "source": [
    "a = 0b1010 \n",
    "a"
   ]
  },
  {
   "cell_type": "markdown",
   "id": "21307bb6",
   "metadata": {},
   "source": [
    "< 8진수 -> 10진수 >"
   ]
  },
  {
   "cell_type": "code",
   "execution_count": 9,
   "id": "e71a3f74",
   "metadata": {},
   "outputs": [
    {
     "data": {
      "text/plain": [
       "127"
      ]
     },
     "execution_count": 9,
     "metadata": {},
     "output_type": "execute_result"
    }
   ],
   "source": [
    "a = 0o177 # o0도 가능\n",
    "a"
   ]
  },
  {
   "cell_type": "markdown",
   "id": "5d7cc9b0",
   "metadata": {},
   "source": [
    "16진수 -> 10진수"
   ]
  },
  {
   "cell_type": "code",
   "execution_count": 11,
   "id": "96b8dc3c",
   "metadata": {},
   "outputs": [
    {
     "data": {
      "text/plain": [
       "199"
      ]
     },
     "execution_count": 11,
     "metadata": {},
     "output_type": "execute_result"
    }
   ],
   "source": [
    "a = 0xc7\n",
    "a"
   ]
  },
  {
   "cell_type": "markdown",
   "id": "289e595d",
   "metadata": {},
   "source": [
    "- 파이썬에서 제공하는 내장 함수로 진수 변환하기"
   ]
  },
  {
   "cell_type": "code",
   "execution_count": 14,
   "id": "83b44c91",
   "metadata": {},
   "outputs": [
    {
     "name": "stdout",
     "output_type": "stream",
     "text": [
      "0b1010000\n",
      "0o120\n",
      "0x50\n"
     ]
    }
   ],
   "source": [
    "a = 80\n",
    "b = bin(a)\n",
    "o = oct(a)\n",
    "h = hex(a)\n",
    "\n",
    "print(b)\n",
    "print(o)\n",
    "print(h)"
   ]
  },
  {
   "cell_type": "markdown",
   "id": "4c765a4d",
   "metadata": {},
   "source": [
    "  "
   ]
  },
  {
   "cell_type": "markdown",
   "id": "1eda079f",
   "metadata": {},
   "source": [
    "  "
   ]
  },
  {
   "cell_type": "markdown",
   "id": "220fb4bd",
   "metadata": {},
   "source": [
    "  "
   ]
  },
  {
   "cell_type": "markdown",
   "id": "4f435251",
   "metadata": {},
   "source": [
    "### 연산자"
   ]
  },
  {
   "cell_type": "code",
   "execution_count": 15,
   "id": "03085743",
   "metadata": {},
   "outputs": [
    {
     "name": "stdout",
     "output_type": "stream",
     "text": [
      "12\n",
      "8\n",
      "20\n",
      "5.0\n",
      "0\n"
     ]
    }
   ],
   "source": [
    "a = 10\n",
    "b = 2\n",
    "print(a + b) # 덧셈\n",
    "print(a - b) # 뺄셈\n",
    "print(a * b) # 곱셈\n",
    "print(a / b) # 나눗셈(몫)\n",
    "print(a % b) # 나눗셈(나머지)"
   ]
  }
 ],
 "metadata": {
  "kernelspec": {
   "display_name": "Python 3 (ipykernel)",
   "language": "python",
   "name": "python3"
  },
  "language_info": {
   "codemirror_mode": {
    "name": "ipython",
    "version": 3
   },
   "file_extension": ".py",
   "mimetype": "text/x-python",
   "name": "python",
   "nbconvert_exporter": "python",
   "pygments_lexer": "ipython3",
   "version": "3.11.3"
  }
 },
 "nbformat": 4,
 "nbformat_minor": 5
}
