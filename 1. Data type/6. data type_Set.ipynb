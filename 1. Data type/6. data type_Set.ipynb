{
 "cells": [
  {
   "cell_type": "markdown",
   "id": "49470003",
   "metadata": {},
   "source": [
    "# 자료형 - 집합 (set)"
   ]
  },
  {
   "cell_type": "markdown",
   "id": "0914117e",
   "metadata": {},
   "source": [
    "변수 = set(리스트 혹은 문자열)"
   ]
  },
  {
   "cell_type": "markdown",
   "id": "19e3ab40",
   "metadata": {},
   "source": [
    " "
   ]
  },
  {
   "cell_type": "markdown",
   "id": "1802652b",
   "metadata": {},
   "source": [
    " "
   ]
  },
  {
   "cell_type": "code",
   "execution_count": 2,
   "id": "6556ea28",
   "metadata": {},
   "outputs": [
    {
     "name": "stdout",
     "output_type": "stream",
     "text": [
      "{1, 2, 3}\n"
     ]
    }
   ],
   "source": [
    "s = set([1, 2, 3])\n",
    "\n",
    "print(s)"
   ]
  },
  {
   "cell_type": "code",
   "execution_count": 3,
   "id": "599843d8",
   "metadata": {},
   "outputs": [
    {
     "name": "stdout",
     "output_type": "stream",
     "text": [
      "{'H', 'l', 'e', 'o'}\n"
     ]
    }
   ],
   "source": [
    "s = set('Hello')\n",
    "\n",
    "print(s)"
   ]
  },
  {
   "cell_type": "markdown",
   "id": "6bb22e05",
   "metadata": {},
   "source": [
    " "
   ]
  },
  {
   "cell_type": "markdown",
   "id": "68387917",
   "metadata": {},
   "source": [
    " "
   ]
  },
  {
   "cell_type": "markdown",
   "id": "20ca7082",
   "metadata": {},
   "source": [
    " "
   ]
  },
  {
   "cell_type": "markdown",
   "id": "e2428e9b",
   "metadata": {},
   "source": [
    "## 1. 집합 자료형의 특징"
   ]
  },
  {
   "cell_type": "markdown",
   "id": "96417b74",
   "metadata": {},
   "source": [
    "- 중복을 허용하지 않는다.\n",
    "- 순서가 없다(Unordered)"
   ]
  },
  {
   "cell_type": "markdown",
   "id": "d7459048",
   "metadata": {},
   "source": [
    "set은 중복을 허용하지 않는 특징으로, 중복 제거를 위한 필터로 종종 사용된다."
   ]
  },
  {
   "cell_type": "markdown",
   "id": "b5cfef9d",
   "metadata": {},
   "source": [
    "리스트나 튜플은 순서가 있기(ordered) 때문에 인덱싱을 통해 요솟값을 얻을 수 있지만, set 자료형은 순서가 없기(unordered) 때문에 인덱싱을 통해 요솟값을 얻을 수 없다."
   ]
  },
  {
   "cell_type": "markdown",
   "id": "a542d0ff",
   "metadata": {},
   "source": [
    "따라서 set 자료형에 저장된 값을 인덱싱으로 접근하려면 자료형을 리스트나 튜플로 변환해줘야한다."
   ]
  },
  {
   "cell_type": "code",
   "execution_count": 6,
   "id": "464278d4",
   "metadata": {},
   "outputs": [
    {
     "name": "stdout",
     "output_type": "stream",
     "text": [
      "[1, 2, 3]\n",
      "['H', 'l', 'e', 'o']\n"
     ]
    }
   ],
   "source": [
    "s = set([1, 2, 3])\n",
    "s1 = set('Hello')\n",
    "\n",
    "l = list(s)\n",
    "l1 = list(s1)\n",
    "\n",
    "print(l)\n",
    "print(l1)"
   ]
  },
  {
   "cell_type": "code",
   "execution_count": 7,
   "id": "508fe9a9",
   "metadata": {},
   "outputs": [
    {
     "name": "stdout",
     "output_type": "stream",
     "text": [
      "(1, 2, 3)\n",
      "('H', 'l', 'e', 'o')\n"
     ]
    }
   ],
   "source": [
    "s = set([1, 2, 3])\n",
    "s1 = set('Hello')\n",
    "\n",
    "t = tuple(s)\n",
    "t1 = tuple(s1)\n",
    "\n",
    "print(t)\n",
    "print(t1)"
   ]
  },
  {
   "cell_type": "markdown",
   "id": "013b2cf8",
   "metadata": {},
   "source": [
    " "
   ]
  },
  {
   "cell_type": "markdown",
   "id": "23cd4b2d",
   "metadata": {},
   "source": [
    " "
   ]
  },
  {
   "cell_type": "markdown",
   "id": "e7959670",
   "metadata": {},
   "source": [
    " "
   ]
  },
  {
   "cell_type": "markdown",
   "id": "4816d6b8",
   "metadata": {},
   "source": [
    " "
   ]
  },
  {
   "cell_type": "markdown",
   "id": "656cad38",
   "metadata": {},
   "source": [
    "## 2. 집합 구하기"
   ]
  },
  {
   "cell_type": "markdown",
   "id": "bbb85bb6",
   "metadata": {},
   "source": [
    "교집합, 합집합, 차집합을 구할 수 있다."
   ]
  },
  {
   "cell_type": "code",
   "execution_count": 14,
   "id": "3e2b11c7",
   "metadata": {},
   "outputs": [],
   "source": [
    "s = set([1, 2, 3, 4, 5, 6])\n",
    "s1 = set([4, 5, 6, 7, 8, 9])"
   ]
  },
  {
   "cell_type": "markdown",
   "id": "252e6736",
   "metadata": {},
   "source": [
    " "
   ]
  },
  {
   "cell_type": "markdown",
   "id": "a588cea9",
   "metadata": {},
   "source": [
    "#### 2.1 교집합 구하기 (공통으로 포함하는 요소로 이루어진 집합)"
   ]
  },
  {
   "cell_type": "code",
   "execution_count": 15,
   "id": "67b97c55",
   "metadata": {},
   "outputs": [
    {
     "data": {
      "text/plain": [
       "{4, 5, 6}"
      ]
     },
     "execution_count": 15,
     "metadata": {},
     "output_type": "execute_result"
    }
   ],
   "source": [
    "s & s1"
   ]
  },
  {
   "cell_type": "markdown",
   "id": "294e1b01",
   "metadata": {},
   "source": [
    "intersection 함수를 사용해도 결과는 동일하다."
   ]
  },
  {
   "cell_type": "code",
   "execution_count": 16,
   "id": "b7cf1fdf",
   "metadata": {},
   "outputs": [
    {
     "data": {
      "text/plain": [
       "{4, 5, 6}"
      ]
     },
     "execution_count": 16,
     "metadata": {},
     "output_type": "execute_result"
    }
   ],
   "source": [
    "s.intersection(s1)"
   ]
  },
  {
   "cell_type": "markdown",
   "id": "cf0c4323",
   "metadata": {},
   "source": [
    " "
   ]
  },
  {
   "cell_type": "markdown",
   "id": "393ceda6",
   "metadata": {},
   "source": [
    "#### 2.2 합집합 구하기"
   ]
  },
  {
   "cell_type": "code",
   "execution_count": 17,
   "id": "8e6d2d0d",
   "metadata": {},
   "outputs": [
    {
     "data": {
      "text/plain": [
       "{1, 2, 3, 4, 5, 6, 7, 8, 9}"
      ]
     },
     "execution_count": 17,
     "metadata": {},
     "output_type": "execute_result"
    }
   ],
   "source": [
    "s | s1"
   ]
  },
  {
   "cell_type": "markdown",
   "id": "a02ceb38",
   "metadata": {},
   "source": [
    "union 함수를 사용해도 된다."
   ]
  },
  {
   "cell_type": "code",
   "execution_count": 18,
   "id": "b5cec60f",
   "metadata": {},
   "outputs": [
    {
     "data": {
      "text/plain": [
       "{1, 2, 3, 4, 5, 6, 7, 8, 9}"
      ]
     },
     "execution_count": 18,
     "metadata": {},
     "output_type": "execute_result"
    }
   ],
   "source": [
    "s.union(s1)"
   ]
  },
  {
   "cell_type": "markdown",
   "id": "26f13680",
   "metadata": {},
   "source": [
    " "
   ]
  },
  {
   "cell_type": "markdown",
   "id": "89c2ac3b",
   "metadata": {},
   "source": [
    "#### 2.3 차집합 구하기"
   ]
  },
  {
   "cell_type": "code",
   "execution_count": 19,
   "id": "be851329",
   "metadata": {},
   "outputs": [
    {
     "data": {
      "text/plain": [
       "{1, 2, 3}"
      ]
     },
     "execution_count": 19,
     "metadata": {},
     "output_type": "execute_result"
    }
   ],
   "source": [
    "s - s1"
   ]
  },
  {
   "cell_type": "code",
   "execution_count": 20,
   "id": "75dc3d6c",
   "metadata": {},
   "outputs": [
    {
     "data": {
      "text/plain": [
       "{7, 8, 9}"
      ]
     },
     "execution_count": 20,
     "metadata": {},
     "output_type": "execute_result"
    }
   ],
   "source": [
    "s1 - s"
   ]
  },
  {
   "cell_type": "markdown",
   "id": "3302fc9e",
   "metadata": {},
   "source": [
    "difference 함수를 사용해도 차집합을 구할 수 있다."
   ]
  },
  {
   "cell_type": "code",
   "execution_count": 23,
   "id": "cedc3500",
   "metadata": {},
   "outputs": [
    {
     "data": {
      "text/plain": [
       "{1, 2, 3}"
      ]
     },
     "execution_count": 23,
     "metadata": {},
     "output_type": "execute_result"
    }
   ],
   "source": [
    "s.difference(s1)"
   ]
  },
  {
   "cell_type": "code",
   "execution_count": 24,
   "id": "5e247a1d",
   "metadata": {},
   "outputs": [
    {
     "data": {
      "text/plain": [
       "{7, 8, 9}"
      ]
     },
     "execution_count": 24,
     "metadata": {},
     "output_type": "execute_result"
    }
   ],
   "source": [
    "s1.difference(s)"
   ]
  },
  {
   "cell_type": "markdown",
   "id": "6e15d401",
   "metadata": {},
   "source": [
    " "
   ]
  },
  {
   "cell_type": "markdown",
   "id": "b8ff420a",
   "metadata": {},
   "source": [
    " "
   ]
  },
  {
   "cell_type": "markdown",
   "id": "7ae3add2",
   "metadata": {},
   "source": [
    " "
   ]
  },
  {
   "cell_type": "markdown",
   "id": "66aa626b",
   "metadata": {},
   "source": [
    " "
   ]
  },
  {
   "cell_type": "markdown",
   "id": "3d26e32f",
   "metadata": {},
   "source": [
    " "
   ]
  },
  {
   "cell_type": "markdown",
   "id": "a4b0cf08",
   "metadata": {},
   "source": [
    "## 3. 집합 자료형 관련 함수"
   ]
  },
  {
   "cell_type": "markdown",
   "id": "c9803d22",
   "metadata": {},
   "source": [
    "#### 3.1 값 1개 추가하기 - add"
   ]
  },
  {
   "cell_type": "code",
   "execution_count": 25,
   "id": "472ce964",
   "metadata": {},
   "outputs": [
    {
     "name": "stdout",
     "output_type": "stream",
     "text": [
      "{1, 2, 3, 4}\n"
     ]
    }
   ],
   "source": [
    "s = set([1, 2, 3])\n",
    "\n",
    "s.add(4)\n",
    "print(s)"
   ]
  },
  {
   "cell_type": "markdown",
   "id": "1ed0aefe",
   "metadata": {},
   "source": [
    " "
   ]
  },
  {
   "cell_type": "markdown",
   "id": "e49ba57c",
   "metadata": {},
   "source": [
    "#### 3.2 값 2개 추가하기 - update"
   ]
  },
  {
   "cell_type": "code",
   "execution_count": 26,
   "id": "d23129c1",
   "metadata": {},
   "outputs": [
    {
     "name": "stdout",
     "output_type": "stream",
     "text": [
      "{1, 2, 3, 4, 5, 6}\n"
     ]
    }
   ],
   "source": [
    "s = set([1, 2, 3])\n",
    "s.update([4, 5, 6])\n",
    "\n",
    "print(s)"
   ]
  },
  {
   "cell_type": "markdown",
   "id": "af1dbfd6",
   "metadata": {},
   "source": [
    " "
   ]
  },
  {
   "cell_type": "markdown",
   "id": "a0f53bf4",
   "metadata": {},
   "source": [
    "#### 3.3 특정 값 제거하기 - remove"
   ]
  },
  {
   "cell_type": "code",
   "execution_count": 27,
   "id": "68ca6e08",
   "metadata": {},
   "outputs": [
    {
     "name": "stdout",
     "output_type": "stream",
     "text": [
      "{1, 2}\n"
     ]
    }
   ],
   "source": [
    "s = set([1, 2, 3])\n",
    "s.remove(3)\n",
    "\n",
    "print(s)"
   ]
  }
 ],
 "metadata": {
  "kernelspec": {
   "display_name": "Python 3 (ipykernel)",
   "language": "python",
   "name": "python3"
  },
  "language_info": {
   "codemirror_mode": {
    "name": "ipython",
    "version": 3
   },
   "file_extension": ".py",
   "mimetype": "text/x-python",
   "name": "python",
   "nbconvert_exporter": "python",
   "pygments_lexer": "ipython3",
   "version": "3.11.3"
  }
 },
 "nbformat": 4,
 "nbformat_minor": 5
}
