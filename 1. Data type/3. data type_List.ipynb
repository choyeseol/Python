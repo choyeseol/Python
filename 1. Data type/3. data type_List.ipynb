{
 "cells": [
  {
   "cell_type": "markdown",
   "id": "ef0a0d6a",
   "metadata": {},
   "source": [
    "# 자료형 - 리스트 (list)\n",
    "- 리스트명 = [요소1, 요소2, 요소3, ...]"
   ]
  },
  {
   "cell_type": "code",
   "execution_count": 1,
   "id": "00a5f0c3",
   "metadata": {},
   "outputs": [],
   "source": [
    "a = [] # 비어있는 리스트\n",
    "b = [1, 2, 3] # 숫자\n",
    "c = ['Life', 'is', 'too', 'short'] #문자열\n",
    "d = [1, 2, 'Life', 'is'] # 숫자, 문자\n",
    "e = [1, 2, ['Life', 'is']] # 리스트 자체를 요소값으로"
   ]
  },
  {
   "cell_type": "markdown",
   "id": "e64961d3",
   "metadata": {},
   "source": [
    " "
   ]
  },
  {
   "cell_type": "markdown",
   "id": "49cbe386",
   "metadata": {},
   "source": [
    " "
   ]
  },
  {
   "cell_type": "markdown",
   "id": "bfc3a73b",
   "metadata": {},
   "source": [
    "## 1. 리스트의 인덱싱과 슬라이싱"
   ]
  },
  {
   "cell_type": "markdown",
   "id": "451b47d3",
   "metadata": {},
   "source": [
    "#### 1.1 리스트의 인덱싱"
   ]
  },
  {
   "cell_type": "code",
   "execution_count": 6,
   "id": "641ad71d",
   "metadata": {},
   "outputs": [
    {
     "name": "stdout",
     "output_type": "stream",
     "text": [
      "1\n",
      "나\n"
     ]
    }
   ],
   "source": [
    "a = [1, 2, 3]\n",
    "b = ['가', '나', '다']\n",
    "\n",
    "print(a[0])\n",
    "print(b[1])"
   ]
  },
  {
   "cell_type": "code",
   "execution_count": 7,
   "id": "3201d624",
   "metadata": {},
   "outputs": [
    {
     "name": "stdout",
     "output_type": "stream",
     "text": [
      "3\n",
      "다\n"
     ]
    }
   ],
   "source": [
    "print(a[-1])\n",
    "print(b[-1])"
   ]
  },
  {
   "cell_type": "code",
   "execution_count": 8,
   "id": "7ceafba7",
   "metadata": {},
   "outputs": [
    {
     "data": {
      "text/plain": [
       "4"
      ]
     },
     "execution_count": 8,
     "metadata": {},
     "output_type": "execute_result"
    }
   ],
   "source": [
    "a[0] + a[2]"
   ]
  },
  {
   "cell_type": "code",
   "execution_count": 9,
   "id": "bf41e784",
   "metadata": {},
   "outputs": [
    {
     "data": {
      "text/plain": [
       "'나다'"
      ]
     },
     "execution_count": 9,
     "metadata": {},
     "output_type": "execute_result"
    }
   ],
   "source": [
    "b[1] + b[2]"
   ]
  },
  {
   "cell_type": "markdown",
   "id": "22a8a47d",
   "metadata": {},
   "source": [
    "- 리스트 안에 리스트"
   ]
  },
  {
   "cell_type": "code",
   "execution_count": 14,
   "id": "9739d8e8",
   "metadata": {},
   "outputs": [
    {
     "name": "stdout",
     "output_type": "stream",
     "text": [
      "1\n",
      "['a', 'b', 'c']\n",
      "a\n",
      "c\n"
     ]
    }
   ],
   "source": [
    "a = [1, 2, 3, ['a', 'b', 'c']]\n",
    "\n",
    "print(a[0])\n",
    "print(a[3])\n",
    "print(a[3][0])\n",
    "print(a[-1][-1])"
   ]
  },
  {
   "cell_type": "markdown",
   "id": "1849a942",
   "metadata": {},
   "source": [
    "- 삼중 리스트"
   ]
  },
  {
   "cell_type": "code",
   "execution_count": 15,
   "id": "825ca695",
   "metadata": {},
   "outputs": [
    {
     "name": "stdout",
     "output_type": "stream",
     "text": [
      "Love\n"
     ]
    }
   ],
   "source": [
    "a = [1, 2, 3, ['a', 'b', 'c', ['Love', 'Like']]]\n",
    "print(a[-1][-1][0])"
   ]
  },
  {
   "cell_type": "markdown",
   "id": "add56d1d",
   "metadata": {},
   "source": [
    " "
   ]
  },
  {
   "cell_type": "markdown",
   "id": "465a674d",
   "metadata": {},
   "source": [
    "#### 1.2 리스트의 슬라이싱"
   ]
  },
  {
   "cell_type": "code",
   "execution_count": 17,
   "id": "cfd777e6",
   "metadata": {},
   "outputs": [
    {
     "name": "stdout",
     "output_type": "stream",
     "text": [
      "가나다\n",
      "라마\n"
     ]
    }
   ],
   "source": [
    "a = '가나다라마'\n",
    "print(a[:3])\n",
    "print(a[3:])"
   ]
  },
  {
   "cell_type": "markdown",
   "id": "395f5885",
   "metadata": {},
   "source": [
    "- 중첩된 리스트에서 슬라이싱하기"
   ]
  },
  {
   "cell_type": "code",
   "execution_count": 21,
   "id": "27c397dd",
   "metadata": {},
   "outputs": [
    {
     "name": "stdout",
     "output_type": "stream",
     "text": [
      "[2, ['a', 'b'], 3]\n",
      "['a']\n"
     ]
    }
   ],
   "source": [
    "a = [1, 2, ['a', 'b'], 3]\n",
    "\n",
    "print(a[1:])\n",
    "print(a[2][:1])"
   ]
  },
  {
   "cell_type": "markdown",
   "id": "3eb01abb",
   "metadata": {},
   "source": [
    " "
   ]
  },
  {
   "cell_type": "markdown",
   "id": "368717f8",
   "metadata": {},
   "source": [
    "#### 1.3 리스트 연산하기"
   ]
  },
  {
   "cell_type": "markdown",
   "id": "7a613935",
   "metadata": {},
   "source": [
    "- 리스트 더하기"
   ]
  },
  {
   "cell_type": "code",
   "execution_count": 22,
   "id": "71e5432a",
   "metadata": {},
   "outputs": [
    {
     "name": "stdout",
     "output_type": "stream",
     "text": [
      "[1, 2, 3, 'a', 'b', 'c']\n"
     ]
    }
   ],
   "source": [
    "a = [1, 2, 3]\n",
    "b = ['a', 'b', 'c']\n",
    "\n",
    "print(a + b)"
   ]
  },
  {
   "cell_type": "markdown",
   "id": "d9aa2f44",
   "metadata": {},
   "source": [
    "- 리스트 반복"
   ]
  },
  {
   "cell_type": "code",
   "execution_count": 23,
   "id": "d3daa9b1",
   "metadata": {},
   "outputs": [
    {
     "name": "stdout",
     "output_type": "stream",
     "text": [
      "[1, 2, 3, 1, 2, 3, 1, 2, 3]\n"
     ]
    }
   ],
   "source": [
    "a = [1, 2, 3]\n",
    "\n",
    "print(a * 3)"
   ]
  },
  {
   "cell_type": "markdown",
   "id": "af2d6d11",
   "metadata": {},
   "source": [
    "- 리스트 길이 구하기"
   ]
  },
  {
   "cell_type": "code",
   "execution_count": 24,
   "id": "feff5f1b",
   "metadata": {},
   "outputs": [
    {
     "data": {
      "text/plain": [
       "3"
      ]
     },
     "execution_count": 24,
     "metadata": {},
     "output_type": "execute_result"
    }
   ],
   "source": [
    "a = [1, 2, 3]\n",
    "len(a)"
   ]
  },
  {
   "cell_type": "markdown",
   "id": "9e225e48",
   "metadata": {},
   "source": [
    " "
   ]
  },
  {
   "cell_type": "markdown",
   "id": "ff93c218",
   "metadata": {},
   "source": [
    "- 주의할 리스트 연산 오류"
   ]
  },
  {
   "cell_type": "code",
   "execution_count": 26,
   "id": "61706dfa",
   "metadata": {},
   "outputs": [
    {
     "ename": "TypeError",
     "evalue": "unsupported operand type(s) for +: 'int' and 'str'",
     "output_type": "error",
     "traceback": [
      "\u001b[1;31m---------------------------------------------------------------------------\u001b[0m",
      "\u001b[1;31mTypeError\u001b[0m                                 Traceback (most recent call last)",
      "Cell \u001b[1;32mIn[26], line 2\u001b[0m\n\u001b[0;32m      1\u001b[0m a \u001b[38;5;241m=\u001b[39m [\u001b[38;5;241m1\u001b[39m, \u001b[38;5;241m2\u001b[39m, \u001b[38;5;241m3\u001b[39m]\n\u001b[1;32m----> 2\u001b[0m a[\u001b[38;5;241m1\u001b[39m] \u001b[38;5;241m+\u001b[39m \u001b[38;5;124m'\u001b[39m\u001b[38;5;124mHello\u001b[39m\u001b[38;5;124m'\u001b[39m\n",
      "\u001b[1;31mTypeError\u001b[0m: unsupported operand type(s) for +: 'int' and 'str'"
     ]
    }
   ],
   "source": [
    "a = [1, 2, 3]\n",
    "a[1] + 'Hello'"
   ]
  },
  {
   "cell_type": "markdown",
   "id": "675d29ca",
   "metadata": {},
   "source": [
    "정수와 문자열은 더할 수 없다."
   ]
  },
  {
   "cell_type": "code",
   "execution_count": 28,
   "id": "0c0d1113",
   "metadata": {},
   "outputs": [
    {
     "data": {
      "text/plain": [
       "'2Hello'"
      ]
     },
     "execution_count": 28,
     "metadata": {},
     "output_type": "execute_result"
    }
   ],
   "source": [
    "str(a[1]) + 'Hello'"
   ]
  },
  {
   "cell_type": "code",
   "execution_count": null,
   "id": "a50606c6",
   "metadata": {},
   "outputs": [],
   "source": []
  },
  {
   "cell_type": "markdown",
   "id": "3bc14340",
   "metadata": {},
   "source": [
    " "
   ]
  },
  {
   "cell_type": "markdown",
   "id": "11468a26",
   "metadata": {},
   "source": [
    " "
   ]
  },
  {
   "cell_type": "markdown",
   "id": "865eb4de",
   "metadata": {},
   "source": [
    " "
   ]
  },
  {
   "cell_type": "markdown",
   "id": "73eb7ec3",
   "metadata": {},
   "source": [
    " "
   ]
  },
  {
   "cell_type": "markdown",
   "id": "c1156f7d",
   "metadata": {},
   "source": [
    "## 2. 리스트의 수정과 삭제"
   ]
  },
  {
   "cell_type": "code",
   "execution_count": 31,
   "id": "2967bddd",
   "metadata": {},
   "outputs": [
    {
     "name": "stdout",
     "output_type": "stream",
     "text": [
      "10\n"
     ]
    }
   ],
   "source": [
    "a = [1, 2, 3]\n",
    "a[1] = '10'\n",
    "\n",
    "print(a[1])"
   ]
  },
  {
   "cell_type": "markdown",
   "id": "9d4247d4",
   "metadata": {},
   "source": [
    "- del 함수로 리스트 요소 삭제"
   ]
  },
  {
   "cell_type": "code",
   "execution_count": 32,
   "id": "64ebcf77",
   "metadata": {},
   "outputs": [
    {
     "name": "stdout",
     "output_type": "stream",
     "text": [
      "[1, 2]\n"
     ]
    }
   ],
   "source": [
    "a = [1, 2, 3]\n",
    "del a[2]\n",
    "\n",
    "print(a)"
   ]
  },
  {
   "cell_type": "code",
   "execution_count": 33,
   "id": "694aaa6c",
   "metadata": {},
   "outputs": [
    {
     "name": "stdout",
     "output_type": "stream",
     "text": [
      "[3]\n"
     ]
    }
   ],
   "source": [
    "a = [1, 2, 3]\n",
    "del a[:2]\n",
    "\n",
    "print(a)"
   ]
  },
  {
   "cell_type": "markdown",
   "id": "f23f7c72",
   "metadata": {},
   "source": [
    " "
   ]
  },
  {
   "cell_type": "markdown",
   "id": "72b04577",
   "metadata": {},
   "source": [
    " "
   ]
  },
  {
   "cell_type": "markdown",
   "id": "761b899a",
   "metadata": {},
   "source": [
    " "
   ]
  },
  {
   "cell_type": "markdown",
   "id": "e1774a93",
   "metadata": {},
   "source": [
    " "
   ]
  },
  {
   "cell_type": "markdown",
   "id": "d81e04d8",
   "metadata": {},
   "source": [
    "## 3. 리스트 관련 함수"
   ]
  },
  {
   "cell_type": "markdown",
   "id": "2c6e1c27",
   "metadata": {},
   "source": [
    "#### 3.1 리스트에 요소 추가 - append\n",
    "\n",
    "- append의 사전적 의미 = 덧붙이다. 첨부하다.\n",
    "\n",
    "\n",
    "append(x)는 리스트 맨 마지막에 x를 추가한다."
   ]
  },
  {
   "cell_type": "code",
   "execution_count": 36,
   "id": "c1d9ba2e",
   "metadata": {},
   "outputs": [
    {
     "name": "stdout",
     "output_type": "stream",
     "text": [
      "[1, 2, 3, 10]\n"
     ]
    }
   ],
   "source": [
    "a = [1, 2, 3]\n",
    "\n",
    "a.append(10)\n",
    "\n",
    "print(a)"
   ]
  },
  {
   "cell_type": "code",
   "execution_count": 43,
   "id": "06064548",
   "metadata": {},
   "outputs": [
    {
     "name": "stdout",
     "output_type": "stream",
     "text": [
      "[1, 2, 3, 10, [1, 2, 3], [1, 2, 3], [1, 2, 3], [1, 2, 3], [1, 2, 3], [1, 2, 3], [1, 2, 3]]\n"
     ]
    }
   ],
   "source": [
    "a.append([1, 2, 3])\n",
    "\n",
    "print(a)"
   ]
  },
  {
   "cell_type": "markdown",
   "id": "85818171",
   "metadata": {},
   "source": [
    " "
   ]
  },
  {
   "cell_type": "markdown",
   "id": "6779eb3b",
   "metadata": {},
   "source": [
    "#### 3.2 리스트 정렬 - sort\n",
    "- 리스트 요소를 순서대로 정리"
   ]
  },
  {
   "cell_type": "code",
   "execution_count": 46,
   "id": "c744dd77",
   "metadata": {},
   "outputs": [
    {
     "name": "stdout",
     "output_type": "stream",
     "text": [
      "[1, 2, 3, 4, 5]\n",
      "['a', 'c', 'd', 'e']\n"
     ]
    }
   ],
   "source": [
    "a = [1, 4, 3, 2, 5]\n",
    "b = ['a', 'e', 'c', 'd']\n",
    "\n",
    "a.sort()\n",
    "b.sort()\n",
    "\n",
    "print(a)\n",
    "print(b)"
   ]
  },
  {
   "cell_type": "markdown",
   "id": "59901f3c",
   "metadata": {},
   "source": [
    " "
   ]
  },
  {
   "cell_type": "markdown",
   "id": "03efd327",
   "metadata": {},
   "source": [
    "#### 3.3 리스트 뒤집기 - reverse\n",
    "- 리스트를 역순으로 뒤집어 줌"
   ]
  },
  {
   "cell_type": "code",
   "execution_count": 47,
   "id": "0c3650ce",
   "metadata": {},
   "outputs": [
    {
     "name": "stdout",
     "output_type": "stream",
     "text": [
      "[1, 3, 2]\n"
     ]
    }
   ],
   "source": [
    "a = [2, 3, 1]\n",
    "\n",
    "a.reverse()\n",
    "print(a)"
   ]
  },
  {
   "cell_type": "markdown",
   "id": "7e9fc416",
   "metadata": {},
   "source": [
    " "
   ]
  },
  {
   "cell_type": "markdown",
   "id": "9bfa45bf",
   "metadata": {},
   "source": [
    "#### 3.4 인덱스 반환 - index\n",
    "- index(x) 함수 = 리스트에 x 값이 있으면 x의 인덱스 값을 리턴한다."
   ]
  },
  {
   "cell_type": "code",
   "execution_count": 49,
   "id": "0ed5dd16",
   "metadata": {},
   "outputs": [
    {
     "data": {
      "text/plain": [
       "2"
      ]
     },
     "execution_count": 49,
     "metadata": {},
     "output_type": "execute_result"
    }
   ],
   "source": [
    "a = [1, 2, 3]\n",
    "\n",
    "a.index(3)"
   ]
  },
  {
   "cell_type": "code",
   "execution_count": 50,
   "id": "e736a9c3",
   "metadata": {},
   "outputs": [
    {
     "ename": "ValueError",
     "evalue": "8 is not in list",
     "output_type": "error",
     "traceback": [
      "\u001b[1;31m---------------------------------------------------------------------------\u001b[0m",
      "\u001b[1;31mValueError\u001b[0m                                Traceback (most recent call last)",
      "Cell \u001b[1;32mIn[50], line 3\u001b[0m\n\u001b[0;32m      1\u001b[0m a \u001b[38;5;241m=\u001b[39m [\u001b[38;5;241m1\u001b[39m, \u001b[38;5;241m2\u001b[39m, \u001b[38;5;241m3\u001b[39m]\n\u001b[1;32m----> 3\u001b[0m a\u001b[38;5;241m.\u001b[39mindex(\u001b[38;5;241m8\u001b[39m)\n",
      "\u001b[1;31mValueError\u001b[0m: 8 is not in list"
     ]
    }
   ],
   "source": [
    "a = [1, 2, 3]\n",
    "\n",
    "a.index(8)"
   ]
  },
  {
   "cell_type": "markdown",
   "id": "4ac5090d",
   "metadata": {},
   "source": [
    "만약 x값이 리스트에 존재하지 않으면 오류가 발생한다."
   ]
  },
  {
   "cell_type": "markdown",
   "id": "b655bc80",
   "metadata": {},
   "source": [
    " "
   ]
  },
  {
   "cell_type": "markdown",
   "id": "47bd38b6",
   "metadata": {},
   "source": [
    "#### 리스트에 요소 삽입 - insert"
   ]
  },
  {
   "cell_type": "markdown",
   "id": "a67df094",
   "metadata": {},
   "source": [
    "- insert(a, b)는 리스트의 a번째 위치에 b를 삽입하는 함수이다."
   ]
  },
  {
   "cell_type": "code",
   "execution_count": 55,
   "id": "50310d22",
   "metadata": {},
   "outputs": [
    {
     "name": "stdout",
     "output_type": "stream",
     "text": [
      "[1, 10, 2, 3]\n"
     ]
    }
   ],
   "source": [
    "a = [1, 2, 3]\n",
    "\n",
    "a.insert(1, 10)\n",
    "print(a)"
   ]
  },
  {
   "cell_type": "markdown",
   "id": "10718835",
   "metadata": {},
   "source": [
    " "
   ]
  },
  {
   "cell_type": "markdown",
   "id": "3d6993c8",
   "metadata": {},
   "source": [
    "#### 리스트 요소 제거 - remove"
   ]
  },
  {
   "cell_type": "markdown",
   "id": "d9ef6325",
   "metadata": {},
   "source": [
    "- remove(x)는 리스트에서 첫 번째로 나오는 x를 삭제하는 함수이다."
   ]
  },
  {
   "cell_type": "code",
   "execution_count": 60,
   "id": "6711c923",
   "metadata": {},
   "outputs": [
    {
     "name": "stdout",
     "output_type": "stream",
     "text": [
      "[1, 2, 4, 3, 5]\n"
     ]
    }
   ],
   "source": [
    "a = [1, 2, 3, 4, 3, 5]\n",
    "\n",
    "a.remove(3)\n",
    "print(a)"
   ]
  },
  {
   "cell_type": "markdown",
   "id": "7c084daf",
   "metadata": {},
   "source": [
    " "
   ]
  },
  {
   "cell_type": "markdown",
   "id": "e1d66f47",
   "metadata": {},
   "source": [
    "#### 리스트 요소 꺼내기 - pop\n",
    "- pop() = 리스트의 맨 마지막 요소를 리턴하고 그 요소는 삭제"
   ]
  },
  {
   "cell_type": "code",
   "execution_count": 64,
   "id": "6647a6f5",
   "metadata": {},
   "outputs": [
    {
     "name": "stdout",
     "output_type": "stream",
     "text": [
      "[1, 2, 3, 4, 5]\n",
      "[1, 2, 3, 5]\n"
     ]
    }
   ],
   "source": [
    "a = [1, 2, 3, 4, 5, 6]\n",
    "\n",
    "a.pop()\n",
    "print(a)\n",
    "\n",
    "a.pop(3) # 리스트의 3번쨰 요소 리턴, 삭제\n",
    "print(a)"
   ]
  },
  {
   "cell_type": "markdown",
   "id": "7f78fd1f",
   "metadata": {},
   "source": [
    " "
   ]
  },
  {
   "cell_type": "markdown",
   "id": "71d2e045",
   "metadata": {},
   "source": [
    "#### 리스트에 포함된 요소 개수 세기 - count\n",
    "- count(x) = 리스트 안에 x가 몇 개 있는지 조사하여 그 개수를 리턴하는 함수"
   ]
  },
  {
   "cell_type": "code",
   "execution_count": 67,
   "id": "479f79f9",
   "metadata": {},
   "outputs": [
    {
     "data": {
      "text/plain": [
       "5"
      ]
     },
     "execution_count": 67,
     "metadata": {},
     "output_type": "execute_result"
    }
   ],
   "source": [
    "a = [1, 2, 3, 4, 3, 3, 5, 6, 3, 3]\n",
    "\n",
    "a.count(3)"
   ]
  },
  {
   "cell_type": "markdown",
   "id": "d04fcb06",
   "metadata": {},
   "source": [
    " "
   ]
  },
  {
   "cell_type": "markdown",
   "id": "8c2943cd",
   "metadata": {},
   "source": [
    "#### 리스트 확장 - extend\n",
    "- extend(x) = x에는 리스트만 올 수 있으며, 원래의 a 리스트에 x 리스트를 더하게 된다."
   ]
  },
  {
   "cell_type": "code",
   "execution_count": 1,
   "id": "5660b52b",
   "metadata": {},
   "outputs": [
    {
     "name": "stdout",
     "output_type": "stream",
     "text": [
      "[1, 2, 3, 4, 5]\n",
      "[1, 2, 3, 4, 5, 6, 7]\n"
     ]
    }
   ],
   "source": [
    "a = [1, 2, 3]\n",
    "\n",
    "a.extend([4, 5])\n",
    "print(a)\n",
    "\n",
    "b = [6, 7]\n",
    "a.extend(b)\n",
    "print(a)"
   ]
  },
  {
   "cell_type": "markdown",
   "id": "32d10ae2",
   "metadata": {},
   "source": [
    " \n",
    " "
   ]
  },
  {
   "cell_type": "markdown",
   "id": "ca0069ad",
   "metadata": {},
   "source": [
    "#### 리스트 초기화"
   ]
  },
  {
   "cell_type": "markdown",
   "id": "9ffde444",
   "metadata": {},
   "source": [
    "- 1차원 리스트 초기화"
   ]
  },
  {
   "cell_type": "code",
   "execution_count": null,
   "id": "d15d8b37",
   "metadata": {},
   "outputs": [],
   "source": [
    "# N개의 원소가 0으로 초기화\n",
    "a = [0] * N  \n",
    "\n",
    "# N개의 원소가 True로 초기화\n",
    "a = [True] * N\n",
    "\n",
    "# 공백기준으로 리스트 만들기\n",
    "a = map(int, input().split()) \n",
    "\n",
    "# Disjoint-Set 에서 parent 초기화\n",
    "parent = [i for i in range(n)]"
   ]
  },
  {
   "cell_type": "markdown",
   "id": "6dceed6a",
   "metadata": {},
   "source": [
    "- 2차원 리스트 초기화"
   ]
  },
  {
   "cell_type": "code",
   "execution_count": null,
   "id": "ab89db48",
   "metadata": {},
   "outputs": [],
   "source": [
    "# N*N 행렬을 0으로 초기화\n",
    "s = [[0] * (N) for _ in range(N)]\n",
    "\n",
    "# row*col 행렬을 0으로 초기화\n",
    "s = [[0] * (col) for _ in range(row)]"
   ]
  },
  {
   "cell_type": "markdown",
   "id": "2cc03a96",
   "metadata": {},
   "source": [
    "- 3차원 리스트 초기화"
   ]
  },
  {
   "cell_type": "code",
   "execution_count": null,
   "id": "b541df6b",
   "metadata": {},
   "outputs": [],
   "source": [
    "# 2*4*3 리스트를 0으로 초기화\n",
    "L = [[[0 for col in range(3)] for row in range(4)] for depth in range(2)]"
   ]
  }
 ],
 "metadata": {
  "kernelspec": {
   "display_name": "Python 3 (ipykernel)",
   "language": "python",
   "name": "python3"
  },
  "language_info": {
   "codemirror_mode": {
    "name": "ipython",
    "version": 3
   },
   "file_extension": ".py",
   "mimetype": "text/x-python",
   "name": "python",
   "nbconvert_exporter": "python",
   "pygments_lexer": "ipython3",
   "version": "3.11.3"
  }
 },
 "nbformat": 4,
 "nbformat_minor": 5
}
