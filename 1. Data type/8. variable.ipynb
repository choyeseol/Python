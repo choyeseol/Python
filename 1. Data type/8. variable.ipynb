{
 "cells": [
  {
   "cell_type": "markdown",
   "id": "81a7189a",
   "metadata": {},
   "source": [
    "# 변수\n",
    "변수명 = 변수에 저장할 값\n",
    "파이썬에서 사용하는 변수는 객체를 가리키는 것"
   ]
  },
  {
   "cell_type": "markdown",
   "id": "e1f032ff",
   "metadata": {},
   "source": [
    "  "
   ]
  },
  {
   "cell_type": "markdown",
   "id": "8b24e728",
   "metadata": {},
   "source": [
    "  "
   ]
  },
  {
   "cell_type": "markdown",
   "id": "c12ee1c5",
   "metadata": {},
   "source": [
    "## 1. 변수의 메모리 주소 확인하기"
   ]
  },
  {
   "cell_type": "code",
   "execution_count": 12,
   "id": "34017568",
   "metadata": {},
   "outputs": [
    {
     "data": {
      "text/plain": [
       "2460885188720"
      ]
     },
     "execution_count": 12,
     "metadata": {},
     "output_type": "execute_result"
    }
   ],
   "source": [
    "m = 1117\n",
    "\n",
    "id(m)"
   ]
  },
  {
   "cell_type": "markdown",
   "id": "80503c2a",
   "metadata": {},
   "source": [
    "  "
   ]
  },
  {
   "cell_type": "markdown",
   "id": "86ae0952",
   "metadata": {},
   "source": [
    "아래처럼 b변수에 a를 대입하면 a가 복사된다."
   ]
  },
  {
   "cell_type": "code",
   "execution_count": 14,
   "id": "87674542",
   "metadata": {},
   "outputs": [],
   "source": [
    "a = [1, 2, 3]\n",
    "b = a"
   ]
  },
  {
   "cell_type": "code",
   "execution_count": 15,
   "id": "70603db3",
   "metadata": {},
   "outputs": [
    {
     "data": {
      "text/plain": [
       "2460885222656"
      ]
     },
     "execution_count": 15,
     "metadata": {},
     "output_type": "execute_result"
    }
   ],
   "source": [
    "id(a)"
   ]
  },
  {
   "cell_type": "code",
   "execution_count": 16,
   "id": "239f6650",
   "metadata": {},
   "outputs": [
    {
     "data": {
      "text/plain": [
       "2460885222656"
      ]
     },
     "execution_count": 16,
     "metadata": {},
     "output_type": "execute_result"
    }
   ],
   "source": [
    "id(b)"
   ]
  },
  {
   "cell_type": "code",
   "execution_count": 17,
   "id": "262cbfeb",
   "metadata": {},
   "outputs": [
    {
     "data": {
      "text/plain": [
       "True"
      ]
     },
     "execution_count": 17,
     "metadata": {},
     "output_type": "execute_result"
    }
   ],
   "source": [
    "a is b"
   ]
  },
  {
   "cell_type": "markdown",
   "id": "4c6f0feb",
   "metadata": {},
   "source": [
    "  "
   ]
  },
  {
   "cell_type": "markdown",
   "id": "7494d927",
   "metadata": {},
   "source": [
    "  "
   ]
  },
  {
   "cell_type": "markdown",
   "id": "232ff4ff",
   "metadata": {},
   "source": [
    "  "
   ]
  },
  {
   "cell_type": "markdown",
   "id": "369c6cdf",
   "metadata": {},
   "source": [
    "## 2. a와 b, 다른 주소 갖게하기"
   ]
  },
  {
   "cell_type": "markdown",
   "id": "8741f98e",
   "metadata": {},
   "source": [
    "#### 1. [:] 이용하기"
   ]
  },
  {
   "cell_type": "code",
   "execution_count": 18,
   "id": "12498ff5",
   "metadata": {},
   "outputs": [
    {
     "name": "stdout",
     "output_type": "stream",
     "text": [
      "[10, 2, 3]\n",
      "[1, 2, 3]\n"
     ]
    }
   ],
   "source": [
    "a = [1, 2, 3]\n",
    "b = a[:]\n",
    "\n",
    "a[0] = 10\n",
    "\n",
    "print(a)\n",
    "print(b)"
   ]
  },
  {
   "cell_type": "markdown",
   "id": "ea653694",
   "metadata": {},
   "source": [
    "#### 2. copy 모듈 사용하기"
   ]
  },
  {
   "cell_type": "code",
   "execution_count": 21,
   "id": "8e4acbcd",
   "metadata": {},
   "outputs": [
    {
     "name": "stdout",
     "output_type": "stream",
     "text": [
      "[1, 2, 3]\n",
      "[1, 2, 3]\n"
     ]
    }
   ],
   "source": [
    "from copy import copy\n",
    "\n",
    "a = [1, 2, 3]\n",
    "b = copy(a)\n",
    "\n",
    "print(a)\n",
    "print(b)"
   ]
  },
  {
   "cell_type": "code",
   "execution_count": 22,
   "id": "70ecf088",
   "metadata": {},
   "outputs": [
    {
     "name": "stdout",
     "output_type": "stream",
     "text": [
      "2460884608576\n",
      "2460885253312\n"
     ]
    }
   ],
   "source": [
    "print(id(a))\n",
    "print(id(b))"
   ]
  },
  {
   "cell_type": "code",
   "execution_count": 23,
   "id": "1df7a3c4",
   "metadata": {},
   "outputs": [
    {
     "data": {
      "text/plain": [
       "False"
      ]
     },
     "execution_count": 23,
     "metadata": {},
     "output_type": "execute_result"
    }
   ],
   "source": [
    "a is b"
   ]
  }
 ],
 "metadata": {
  "kernelspec": {
   "display_name": "Python 3 (ipykernel)",
   "language": "python",
   "name": "python3"
  },
  "language_info": {
   "codemirror_mode": {
    "name": "ipython",
    "version": 3
   },
   "file_extension": ".py",
   "mimetype": "text/x-python",
   "name": "python",
   "nbconvert_exporter": "python",
   "pygments_lexer": "ipython3",
   "version": "3.11.3"
  }
 },
 "nbformat": 4,
 "nbformat_minor": 5
}
