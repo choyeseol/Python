{
 "cells": [
  {
   "cell_type": "markdown",
   "id": "6a81d84f",
   "metadata": {},
   "source": [
    "# 제어문 - if\n",
    "\n",
    "if 조건문:\n",
    "\n",
    "    수행할_문장1\n",
    "    \n",
    "    수행할_문장2\n",
    "    \n",
    "    ...\n",
    "    \n",
    "else:\n",
    "\n",
    "    수행할_문장A\n",
    "    \n",
    "    수행할_문장B\n",
    "    \n",
    "    ...\n"
   ]
  },
  {
   "cell_type": "markdown",
   "id": "4dbf29e4",
   "metadata": {},
   "source": [
    "## 1. 조건문이란?\n",
    "- 참과 거짓을 판단하는 문장"
   ]
  },
  {
   "cell_type": "code",
   "execution_count": 2,
   "id": "e94ec759",
   "metadata": {},
   "outputs": [
    {
     "name": "stdout",
     "output_type": "stream",
     "text": [
      "money\n"
     ]
    }
   ],
   "source": [
    "money = True\n",
    "if money:\n",
    "    print('money')"
   ]
  },
  {
   "cell_type": "markdown",
   "id": "1f38571c",
   "metadata": {},
   "source": [
    " "
   ]
  },
  {
   "cell_type": "markdown",
   "id": "b431e453",
   "metadata": {},
   "source": [
    " "
   ]
  },
  {
   "cell_type": "markdown",
   "id": "15b8d08c",
   "metadata": {},
   "source": [
    " "
   ]
  },
  {
   "cell_type": "markdown",
   "id": "0fb8fca5",
   "metadata": {},
   "source": [
    " "
   ]
  },
  {
   "cell_type": "markdown",
   "id": "2a5e0b7d",
   "metadata": {},
   "source": [
    "## 2. 비교 연산자\n",
    "- (<,>,==,!=,>=,<=)"
   ]
  },
  {
   "cell_type": "markdown",
   "id": "11fbc26a",
   "metadata": {},
   "source": [
    "x < y -> x가 y보다 작다.\n",
    "\n",
    "x > y -> x가 y보다 크다.\n",
    "\n",
    "x == y -> x와 y가 같다.\n",
    "\n",
    "x != y -> x와 y가 같지 않다.\n",
    "\n",
    "x >= y -> x가 y보다 크거나 같다.\n",
    "\n",
    "x <= y -> x가 y보다 작거나 같다."
   ]
  },
  {
   "cell_type": "code",
   "execution_count": 3,
   "id": "76a6f788",
   "metadata": {},
   "outputs": [
    {
     "data": {
      "text/plain": [
       "True"
      ]
     },
     "execution_count": 3,
     "metadata": {},
     "output_type": "execute_result"
    }
   ],
   "source": [
    "x = 3\n",
    "y = 4\n",
    "\n",
    "x < 4"
   ]
  },
  {
   "cell_type": "code",
   "execution_count": 4,
   "id": "43746b3f",
   "metadata": {},
   "outputs": [
    {
     "data": {
      "text/plain": [
       "False"
      ]
     },
     "execution_count": 4,
     "metadata": {},
     "output_type": "execute_result"
    }
   ],
   "source": [
    "x > y"
   ]
  },
  {
   "cell_type": "markdown",
   "id": "621637c7",
   "metadata": {},
   "source": [
    " "
   ]
  },
  {
   "cell_type": "markdown",
   "id": "6b6d9deb",
   "metadata": {},
   "source": [
    " "
   ]
  },
  {
   "cell_type": "markdown",
   "id": "231841af",
   "metadata": {},
   "source": [
    " "
   ]
  },
  {
   "cell_type": "markdown",
   "id": "421f74cf",
   "metadata": {},
   "source": [
    " "
   ]
  },
  {
   "cell_type": "markdown",
   "id": "575005b3",
   "metadata": {},
   "source": [
    "## 3. 논리 연산자\n",
    "- (and, or, not)"
   ]
  },
  {
   "cell_type": "code",
   "execution_count": 5,
   "id": "82b7f5b8",
   "metadata": {},
   "outputs": [
    {
     "name": "stdout",
     "output_type": "stream",
     "text": [
      "go\n"
     ]
    }
   ],
   "source": [
    "money = 6000\n",
    "card = True\n",
    "\n",
    "if money >= 5000 or card:\n",
    "    print('go')\n",
    "else:\n",
    "    print('stay')"
   ]
  },
  {
   "cell_type": "markdown",
   "id": "978fa2e4",
   "metadata": {},
   "source": [
    " "
   ]
  },
  {
   "cell_type": "markdown",
   "id": "897c6cdc",
   "metadata": {},
   "source": [
    " "
   ]
  },
  {
   "cell_type": "markdown",
   "id": "7864e503",
   "metadata": {},
   "source": [
    " "
   ]
  },
  {
   "cell_type": "markdown",
   "id": "808b515d",
   "metadata": {},
   "source": [
    " "
   ]
  },
  {
   "cell_type": "markdown",
   "id": "c4267fc8",
   "metadata": {},
   "source": [
    "## 4. 포함 연산자\n",
    "- (in, not in)"
   ]
  },
  {
   "cell_type": "code",
   "execution_count": 6,
   "id": "0edaed85",
   "metadata": {},
   "outputs": [
    {
     "data": {
      "text/plain": [
       "True"
      ]
     },
     "execution_count": 6,
     "metadata": {},
     "output_type": "execute_result"
    }
   ],
   "source": [
    "1 in [1, 2, 3]"
   ]
  },
  {
   "cell_type": "code",
   "execution_count": 9,
   "id": "d6e3c3cc",
   "metadata": {},
   "outputs": [
    {
     "data": {
      "text/plain": [
       "True"
      ]
     },
     "execution_count": 9,
     "metadata": {},
     "output_type": "execute_result"
    }
   ],
   "source": [
    "'a' in ['a', 'b', 'c']"
   ]
  },
  {
   "cell_type": "code",
   "execution_count": 10,
   "id": "8b7160cd",
   "metadata": {},
   "outputs": [
    {
     "data": {
      "text/plain": [
       "True"
      ]
     },
     "execution_count": 10,
     "metadata": {},
     "output_type": "execute_result"
    }
   ],
   "source": [
    "4 not in (1, 2, 3)"
   ]
  },
  {
   "cell_type": "markdown",
   "id": "2529f463",
   "metadata": {},
   "source": [
    " "
   ]
  },
  {
   "cell_type": "markdown",
   "id": "1e05f190",
   "metadata": {},
   "source": [
    " "
   ]
  },
  {
   "cell_type": "markdown",
   "id": "578f01eb",
   "metadata": {},
   "source": [
    " "
   ]
  },
  {
   "cell_type": "markdown",
   "id": "64cf2f73",
   "metadata": {},
   "source": [
    " "
   ]
  },
  {
   "cell_type": "markdown",
   "id": "38831b89",
   "metadata": {},
   "source": [
    "## 5. pass"
   ]
  },
  {
   "cell_type": "markdown",
   "id": "2728052f",
   "metadata": {},
   "source": [
    "조건문에서 아무 동작도 넣고싶지 않을 때,"
   ]
  },
  {
   "cell_type": "code",
   "execution_count": 11,
   "id": "f45edea2",
   "metadata": {},
   "outputs": [],
   "source": [
    "pockect = ['paper', 'money', 'card', 'cellphone']\n",
    "\n",
    "if 'money' in pockect:\n",
    "    pass\n",
    "else:\n",
    "    print('wow')"
   ]
  },
  {
   "cell_type": "markdown",
   "id": "2ff3a7c0",
   "metadata": {},
   "source": [
    " "
   ]
  },
  {
   "cell_type": "markdown",
   "id": "089fc692",
   "metadata": {},
   "source": [
    " "
   ]
  },
  {
   "cell_type": "markdown",
   "id": "12a967a6",
   "metadata": {},
   "source": [
    " "
   ]
  },
  {
   "cell_type": "markdown",
   "id": "64c5aaa8",
   "metadata": {},
   "source": [
    " "
   ]
  },
  {
   "cell_type": "markdown",
   "id": "9feb3a81",
   "metadata": {},
   "source": [
    "## 6. elif"
   ]
  },
  {
   "cell_type": "markdown",
   "id": "d8edc79f",
   "metadata": {},
   "source": [
    "if 조건문:\n",
    "    \n",
    "    수행할_문장1 \n",
    "    \n",
    "    수행할_문장2\n",
    "    \n",
    "    ...\n",
    "    \n",
    "elif 조건문:\n",
    "    \n",
    "    수행할_문장1\n",
    "    \n",
    "    수행할_문장2\n",
    "    \n",
    "    ...\n",
    "    \n",
    "elif 조건문:\n",
    "    \n",
    "    수행할_문장1\n",
    "    \n",
    "    \n",
    "    수행할_문장2\n",
    "    \n",
    "    ...\n",
    "    \n",
    "...\n",
    "\n",
    "else:\n",
    "    \n",
    "   수행할_문장1\n",
    "\n",
    "   수행할_문장2\n",
    "    \n",
    "   ...\n"
   ]
  },
  {
   "cell_type": "code",
   "execution_count": 14,
   "id": "e67fcaf9",
   "metadata": {},
   "outputs": [
    {
     "name": "stdout",
     "output_type": "stream",
     "text": [
      "택시를 타고가라\n"
     ]
    }
   ],
   "source": [
    "pocket = ['paper', 'cellphone']\n",
    "card = True\n",
    "\n",
    "if 'money' in pocket:\n",
    "     print(\"택시를 타고가라\")\n",
    "        \n",
    "elif card: \n",
    "     print(\"택시를 타고가라\")\n",
    "        \n",
    "else:\n",
    "     print(\"걸어가라\")\n"
   ]
  },
  {
   "cell_type": "markdown",
   "id": "7ecc0705",
   "metadata": {},
   "source": [
    " "
   ]
  },
  {
   "cell_type": "markdown",
   "id": "25a72c0b",
   "metadata": {},
   "source": [
    " "
   ]
  },
  {
   "cell_type": "markdown",
   "id": "cbb40863",
   "metadata": {},
   "source": [
    " "
   ]
  },
  {
   "cell_type": "markdown",
   "id": "49a2b129",
   "metadata": {},
   "source": [
    "## 조건부 표현식\n",
    "\n",
    "변수 = 조건문이_참인_경우의_값 if 조건문 else 조건문이_거짓인_경우의_값"
   ]
  },
  {
   "cell_type": "code",
   "execution_count": 17,
   "id": "a041bae0",
   "metadata": {},
   "outputs": [
    {
     "name": "stdout",
     "output_type": "stream",
     "text": [
      "success\n"
     ]
    }
   ],
   "source": [
    "score = 90\n",
    "\n",
    "if score >= 80:\n",
    "    message = 'success'\n",
    "else:\n",
    "    message = 'failure'\n",
    "    \n",
    "print(message)"
   ]
  }
 ],
 "metadata": {
  "kernelspec": {
   "display_name": "Python 3 (ipykernel)",
   "language": "python",
   "name": "python3"
  },
  "language_info": {
   "codemirror_mode": {
    "name": "ipython",
    "version": 3
   },
   "file_extension": ".py",
   "mimetype": "text/x-python",
   "name": "python",
   "nbconvert_exporter": "python",
   "pygments_lexer": "ipython3",
   "version": "3.11.3"
  }
 },
 "nbformat": 4,
 "nbformat_minor": 5
}
