{
 "cells": [
  {
   "cell_type": "markdown",
   "id": "4fb8c6c3",
   "metadata": {},
   "source": [
    "# 제어문 - for\n",
    "\n",
    "for 변수 in 리스트(또는 튜플, 문자열):\n",
    "\n",
    "    수행할_문장1\n",
    "    \n",
    "    수행할_문장2\n",
    "    \n",
    "    ..."
   ]
  },
  {
   "cell_type": "markdown",
   "id": "04084897",
   "metadata": {},
   "source": [
    " "
   ]
  },
  {
   "cell_type": "markdown",
   "id": "4ec2cb1b",
   "metadata": {},
   "source": [
    " "
   ]
  },
  {
   "cell_type": "markdown",
   "id": "a2005a57",
   "metadata": {},
   "source": [
    " "
   ]
  },
  {
   "cell_type": "markdown",
   "id": "35362c7b",
   "metadata": {},
   "source": [
    "## 1 . for"
   ]
  },
  {
   "cell_type": "markdown",
   "id": "c683e73d",
   "metadata": {},
   "source": [
    "#### 1.1 전형적인 for문"
   ]
  },
  {
   "cell_type": "code",
   "execution_count": 4,
   "id": "fa8dd8a7",
   "metadata": {},
   "outputs": [
    {
     "name": "stdout",
     "output_type": "stream",
     "text": [
      "one\n",
      "two\n",
      "three\n"
     ]
    }
   ],
   "source": [
    "li = ['one', 'two', 'three'] \n",
    "for i in li: \n",
    "    print(i)"
   ]
  },
  {
   "cell_type": "markdown",
   "id": "edc4b95d",
   "metadata": {},
   "source": [
    "#### 1.2 다양한 for문 사용"
   ]
  },
  {
   "cell_type": "code",
   "execution_count": 5,
   "id": "6753be4b",
   "metadata": {},
   "outputs": [
    {
     "name": "stdout",
     "output_type": "stream",
     "text": [
      "3\n",
      "7\n",
      "11\n"
     ]
    }
   ],
   "source": [
    "a = [(1,2), (3,4), (5,6)]\n",
    "\n",
    "for (first, last) in a:\n",
    "    print(first + last)"
   ]
  },
  {
   "cell_type": "markdown",
   "id": "52503821",
   "metadata": {},
   "source": [
    "#### 1.3 for문 응용"
   ]
  },
  {
   "cell_type": "code",
   "execution_count": 8,
   "id": "dd2e7708",
   "metadata": {},
   "outputs": [
    {
     "name": "stdout",
     "output_type": "stream",
     "text": [
      "1번 학생은 합격입니다.\n",
      "2번 학생은 불합격입니다.\n",
      "3번 학생은 합격입니다.\n",
      "4번 학생은 불합격입니다.\n",
      "5번 학생은 합격입니다.\n"
     ]
    }
   ],
   "source": [
    "score = [90, 25, 67, 45, 80]   # 학생들의 시험 점수 리스트\n",
    "number = 0   # 학생에게 붙여 줄 번호\n",
    "\n",
    "for mark in score:   # 90, 25, 67, 45, 80을 순서대로 mark에 대입\n",
    "    number = number +1 \n",
    "    \n",
    "    if mark >= 60: \n",
    "        print(\"%d번 학생은 합격입니다.\" % number)\n",
    "    \n",
    "    else: \n",
    "        print(\"%d번 학생은 불합격입니다.\" % number)\n"
   ]
  },
  {
   "cell_type": "markdown",
   "id": "d9214a96",
   "metadata": {},
   "source": [
    " "
   ]
  },
  {
   "cell_type": "markdown",
   "id": "dbda5df1",
   "metadata": {},
   "source": [
    " "
   ]
  },
  {
   "cell_type": "markdown",
   "id": "0fb1a496",
   "metadata": {},
   "source": [
    " "
   ]
  },
  {
   "cell_type": "markdown",
   "id": "7057d7db",
   "metadata": {},
   "source": [
    " "
   ]
  },
  {
   "cell_type": "markdown",
   "id": "c22de9b3",
   "metadata": {},
   "source": [
    "## 2. continue"
   ]
  },
  {
   "cell_type": "code",
   "execution_count": 9,
   "id": "52952abf",
   "metadata": {},
   "outputs": [
    {
     "name": "stdout",
     "output_type": "stream",
     "text": [
      "1번 학생 축하합니다. 합격입니다. \n",
      "3번 학생 축하합니다. 합격입니다. \n",
      "5번 학생 축하합니다. 합격입니다. \n"
     ]
    }
   ],
   "source": [
    "score = [90, 25, 67, 45, 80]\n",
    "number = 0 \n",
    "\n",
    "for mark in score: \n",
    "    number = number +1 \n",
    "    \n",
    "    if mark < 60:\n",
    "        continue \n",
    "    print(\"%d번 학생 축하합니다. 합격입니다. \" % number)\n"
   ]
  },
  {
   "cell_type": "markdown",
   "id": "240259bb",
   "metadata": {},
   "source": [
    " "
   ]
  },
  {
   "cell_type": "markdown",
   "id": "f10791b6",
   "metadata": {},
   "source": [
    " "
   ]
  },
  {
   "cell_type": "markdown",
   "id": "6d7196aa",
   "metadata": {},
   "source": [
    " "
   ]
  },
  {
   "cell_type": "markdown",
   "id": "3ee70988",
   "metadata": {},
   "source": [
    " "
   ]
  },
  {
   "cell_type": "markdown",
   "id": "076ba0db",
   "metadata": {},
   "source": [
    "## 3. range 함수"
   ]
  },
  {
   "cell_type": "markdown",
   "id": "d8a382b8",
   "metadata": {},
   "source": [
    "range(10)은 0부터 10 미만의 숫자를 포함하는 range 객체를 만들어 준다."
   ]
  },
  {
   "cell_type": "code",
   "execution_count": 11,
   "id": "90304592",
   "metadata": {},
   "outputs": [
    {
     "data": {
      "text/plain": [
       "range(0, 10)"
      ]
     },
     "execution_count": 11,
     "metadata": {},
     "output_type": "execute_result"
    }
   ],
   "source": [
    "a = range(10)\n",
    "\n",
    "a"
   ]
  },
  {
   "cell_type": "code",
   "execution_count": 13,
   "id": "bb80b2b9",
   "metadata": {},
   "outputs": [
    {
     "name": "stdout",
     "output_type": "stream",
     "text": [
      "55\n"
     ]
    }
   ],
   "source": [
    "add = 0 \n",
    "\n",
    "for i in range(1, 11): # 1 이상 11 미만\n",
    "    add += i\n",
    "\n",
    "print(add)"
   ]
  },
  {
   "cell_type": "markdown",
   "id": "2dd07494",
   "metadata": {},
   "source": [
    "#### 3.1 for과 range를 이용한 구구단"
   ]
  },
  {
   "cell_type": "code",
   "execution_count": 15,
   "id": "09197498",
   "metadata": {},
   "outputs": [
    {
     "name": "stdout",
     "output_type": "stream",
     "text": [
      "2 4 6 8 10 12 14 16 18 \n",
      "3 6 9 12 15 18 21 24 27 \n",
      "4 8 12 16 20 24 28 32 36 \n",
      "5 10 15 20 25 30 35 40 45 \n",
      "6 12 18 24 30 36 42 48 54 \n",
      "7 14 21 28 35 42 49 56 63 \n",
      "8 16 24 32 40 48 56 64 72 \n",
      "9 18 27 36 45 54 63 72 81 \n"
     ]
    }
   ],
   "source": [
    "for i in range(2, 10):\n",
    "    for j in range(1, 10):\n",
    "        print(i*j, end=\" \") \n",
    "    print('') "
   ]
  },
  {
   "cell_type": "markdown",
   "id": "eff96c75",
   "metadata": {},
   "source": [
    " "
   ]
  },
  {
   "cell_type": "markdown",
   "id": "4b917932",
   "metadata": {},
   "source": [
    " "
   ]
  },
  {
   "cell_type": "markdown",
   "id": "59c540c8",
   "metadata": {},
   "source": [
    " "
   ]
  },
  {
   "cell_type": "markdown",
   "id": "a4bf9704",
   "metadata": {},
   "source": [
    " "
   ]
  },
  {
   "cell_type": "markdown",
   "id": "25067682",
   "metadata": {},
   "source": [
    "## 4. 리스트 컴프리헨션"
   ]
  },
  {
   "cell_type": "markdown",
   "id": "a15f2c3d",
   "metadata": {},
   "source": [
    "리스트 안에 for 문을 포함하는 리스트 컴프리헨션(list comprehension)"
   ]
  },
  {
   "cell_type": "code",
   "execution_count": 16,
   "id": "40474db8",
   "metadata": {},
   "outputs": [
    {
     "name": "stdout",
     "output_type": "stream",
     "text": [
      "[6, 12]\n"
     ]
    }
   ],
   "source": [
    "a = [1, 2, 3, 4]\n",
    "result = [num * 3 for num in a if num % 2 == 0]\n",
    "\n",
    "print(result)"
   ]
  },
  {
   "cell_type": "markdown",
   "id": "01bd7cfd",
   "metadata": {},
   "source": [
    "리스트 컴프리헨션의 문법 = ‘if 조건문 부분은 생략할 수 있다."
   ]
  },
  {
   "cell_type": "markdown",
   "id": "47a05bb2",
   "metadata": {},
   "source": [
    "[표현식 for 항목 in 반복_가능_객체 if 조건문]"
   ]
  },
  {
   "cell_type": "markdown",
   "id": "c1d95624",
   "metadata": {},
   "source": [
    "중첩도 가능하다."
   ]
  },
  {
   "cell_type": "code",
   "execution_count": 19,
   "id": "c94176d4",
   "metadata": {},
   "outputs": [
    {
     "name": "stdout",
     "output_type": "stream",
     "text": [
      "[2, 4, 6, 8, 10, 12, 14, 16, 18, 3, 6, 9, 12, 15, 18, 21, 24, 27, 4, 8, 12, 16, 20, 24, 28, 32, 36, 5, 10, 15, 20, 25, 30, 35, 40, 45, 6, 12, 18, 24, 30, 36, 42, 48, 54, 7, 14, 21, 28, 35, 42, 49, 56, 63, 8, 16, 24, 32, 40, 48, 56, 64, 72, 9, 18, 27, 36, 45, 54, 63, 72, 81]\n"
     ]
    }
   ],
   "source": [
    "result = [x*y for x in range(2,10)\n",
    "          for y in range(1,10)]\n",
    "\n",
    "print(result)"
   ]
  }
 ],
 "metadata": {
  "kernelspec": {
   "display_name": "Python 3 (ipykernel)",
   "language": "python",
   "name": "python3"
  },
  "language_info": {
   "codemirror_mode": {
    "name": "ipython",
    "version": 3
   },
   "file_extension": ".py",
   "mimetype": "text/x-python",
   "name": "python",
   "nbconvert_exporter": "python",
   "pygments_lexer": "ipython3",
   "version": "3.11.3"
  }
 },
 "nbformat": 4,
 "nbformat_minor": 5
}
